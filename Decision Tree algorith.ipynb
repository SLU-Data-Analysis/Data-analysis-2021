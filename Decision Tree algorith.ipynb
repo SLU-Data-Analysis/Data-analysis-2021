{
 "cells": [
  {
   "cell_type": "markdown",
   "metadata": {},
   "source": [
    "# Algoritmus Decision Tree (Rozhodovací strom)\n",
    "\n",
    "Decision tree je stromová struktura podobná vývojovému diagramu, kde vnitřní uzel (decision node) představuje atribut, větev představuje rozhodovací pravidlo a každý listový uzel (Leag Node) představuje výsledek. Nejvyšší uzel v rozhodovacím stromu je známý jako kořenový uzel. Učí se dělit na základě hodnoty atributu. Rozděluje strom rekurzivním způsobem. Tato struktura podobná vývojovému diagramu vám pomůže při rozhodování. Takto vizualizovaný vývojový diagram snadno napodobuje myšlení na lidské úrovni. Proto jsou rozhodovací stromy snadno pochopitelné a interpretovatelné.\n",
    "\n",
    "![Decision Tree](images/Decision_Tree.png)\n",
    "\n",
    "Rozhodovací strom je typ machine learning algoritmu, kterému se říká white box. Takový algoritmus nám dává přístup k jeho interní rozhodovací logice. Naproti tomu black box algoritmus jako jsou třeba Neural Networks nám tento přístup neposkytuje. Je také podstatně rychlejší než Neural Networks algoritmus. Asymptotická složitost (Časová složitost) rozhodovacích stromů je funkcí počtu záznamů a počtu atributů v daných datech. Rozhodovací strom je metoda bez distribuce nebo neparametrická metoda, která nezávisí na předpokládaných rozděleních pravděpodobnosti. Rozhodovací stromy mohou s vysokou přesností zpracovat i vysoce dimenzionální data.\n",
    "\n",
    "## Jak fungují Decision Tree algoritmy\n",
    "\n",
    "Základní myšlenka jakéhokoli algoritmu rozhodovacího stromu je následující:\n",
    "\n",
    "1) Vybrat nejlepší atribut pomocí Atribute selection measures (ASM) k rozdělení záznamů.\n",
    "2) Udělejte tento atribut rozhodovacím uzlem a rozdělte datovou sadu na menší podmnožiny.\n",
    "3) Zahájí stavbu stromu opakováním tohoto procesu rekurzivně pro každé dítě, dokud nebude odpovídat jedna z podmínek:\n",
    "- Všechny n-tice patří ke stejné hodnotě atributu.\n",
    "- Už zde nejsou žádné zbývající atributy.\n",
    "- Neexistují žádné další instance."
   ]
  },
  {
   "cell_type": "code",
   "execution_count": null,
   "metadata": {},
   "outputs": [],
   "source": []
  }
 ],
 "metadata": {
  "kernelspec": {
   "display_name": "Python 3",
   "language": "python",
   "name": "python3"
  },
  "language_info": {
   "codemirror_mode": {
    "name": "ipython",
    "version": 3
   },
   "file_extension": ".py",
   "mimetype": "text/x-python",
   "name": "python",
   "nbconvert_exporter": "python",
   "pygments_lexer": "ipython3",
   "version": "3.8.3"
  }
 },
 "nbformat": 4,
 "nbformat_minor": 4
}
