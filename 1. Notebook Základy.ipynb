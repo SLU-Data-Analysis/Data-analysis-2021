{
 "cells": [
  {
   "cell_type": "markdown",
   "metadata": {},
   "source": [
    "# Základy programování v Pythonu"
   ]
  },
  {
   "cell_type": "markdown",
   "metadata": {},
   "source": [
    "V této části se seznámíme s:\n",
    "\n",
    "* Základy pracování s Jupyter Notebook\n",
    "* Aritmetickými operacemi pomocí Pythonu\n",
    "* Řešeními vícestupňových problémů pomocí proměnných\n",
    "* Vyhodnocováním podmínek pomocí Pythonu\n",
    "* Kombinacemi podmínek s logickými operátory\n"
   ]
  },
  {
   "cell_type": "markdown",
   "metadata": {},
   "source": [
    "## Jak na Jupyter Notebook\n",
    "\n",
    "#### Co je to notebook?\n",
    "\n",
    "Notebook integruje kód a jeho výstup do jednoho dokumentu, který kombinuje vizualizace, narativní text, matematické rovnice a další multimédia. Jinými slovy: je to jeden dokument, v němž můžete spustit kód, zobrazit jeho výstup či přidat vysvětlení, vzorce a grafy a zvýšit transparentnost, srozumitelnost a opakovatelnost vaší práce a usnadnit její sdílení."
   ]
  },
  {
   "cell_type": "markdown",
   "metadata": {},
   "source": [
    "![New Notebook](images/new-notebook.jpg)"
   ]
  },
  {
   "cell_type": "markdown",
   "metadata": {},
   "source": [
    "Takto vypadá naše prostředí, do kterého budeme náš kód zapisovat. Skládá se z ovládací palety a buňek, které budeme v průběhu práce pod touto paletou přidávat.\n",
    "\n",
    "## Buňky\n",
    "\n",
    "Buňky tvoří tělo notebooku. Na snímku obrazovky nového notebooku výše je prázdnou buňkou pole se zeleným obrysem. Budeme se zabývat dvěma hlavními typy buněk:\n",
    "\n",
    "* Buňka **kódu** obsahuje kód, který chceme vyhodnotit. Když kód spustíme, notebook zobrazí jeho výstup pod buňkou, která ho vygenerovala. \n",
    "\n",
    "* Buňka **Markdown** obsahuje text formátovaný pomocí Markdownu. Při spuštění buňky Markdown se její výstup zobrazí přímo v ní.\n",
    "\n",
    "První buňka v novém notebooku je vždy buňka kódu.\n",
    "\n",
    "Pojďme ji společně vyzkoušet s klasickým \"Hello World\" programem. Vepište do buňky `print(\"Hello World!\")` a poté klikněte na ovládací paletě na tlačítko `run` nebo zmáčkněte klávesovou zkratku `ctrl + enter`.\n",
    "\n",
    "![Run button](images/run-button.jpg)"
   ]
  },
  {
   "cell_type": "code",
   "execution_count": 1,
   "metadata": {},
   "outputs": [
    {
     "name": "stdout",
     "output_type": "stream",
     "text": [
      "Hello World!\n"
     ]
    }
   ],
   "source": [
    "print(\"Hello World!\")"
   ]
  },
  {
   "cell_type": "markdown",
   "metadata": {},
   "source": [
    "Když spustíme buňku, její výstup se zobrazí níže a štítek nalevo se změní z `In []` na `In [1]`. \n",
    "Změněné číslo štítku označuje, kdy byla buňka spuštěna – v tomto případě byla buňka spuštěna jako první.\n",
    "\n",
    "Spusťte buňku znovu a štítek se změní na `In [2]`, protože buňka byla nyní spuštěna jako druhá. Později zjistíme, proč je to užitečné.\n",
    "\n",
    "Na ovládací paletě klikněte na `Insert` a vyberte `Insert cell below`, abyste pod libovolnou buňkou vytvořili buňku novou, a vyzkoušejte následující kód, abyste zjistili, co se stane. Všimli jste si něčeho jiného?\n",
    "```\n",
    "import time\n",
    "time.sleep(3)\n",
    "\n",
    "```"
   ]
  },
  {
   "cell_type": "code",
   "execution_count": 3,
   "metadata": {},
   "outputs": [],
   "source": [
    "import time\n",
    "time.sleep(3)"
   ]
  },
  {
   "cell_type": "markdown",
   "metadata": {},
   "source": [
    "Tato buňka neprodukuje žádný výstup, ale trvá tři sekundy, než se vyhodnotí. Všimněte si, jak Jupyter označuje, když je buňka aktuálně spuštěna – změnou jejího štítku na `In [*]`."
   ]
  },
  {
   "cell_type": "markdown",
   "metadata": {},
   "source": [
    "## Klávesové zkratky\n",
    "\n",
    "Možná jste při vyhodnocování svých buněk zpozorovali, že barva jejich ohraničení se změnila na modrou, zatímco při úpravách byla zelená. \n",
    "V notebooku Jupyter je vždy jedna „aktivní“ buňka zvýrazněna ohraničením, jehož barva značí režim:\n",
    "    \n",
    "* Zelený obrys – buňka je v „režimu úprav“\n",
    "* Modrý obrys – buňka je v „příkazovém režimu“\n",
    "\n",
    "Co tedy můžeme dělat s buňkou, když je v příkazovém režimu? Zatím jsme viděli, jak spustit buňku pomocí příkazu `Ctrl + Enter`, ale existuje spousta dalších příkazů, které můžeme použít. Pomocí klávesových zkratek se naučíme využívat Jupyter Notebook mnohem efektivněji.\n",
    "\n",
    "Klávesové zkratky jsou velmi oblíbeným aspektem prostředí Jupyter, protože usnadňují práci s buňkami. Na aktivní buňce, která je v příkazovém režimu, můžete pomocí klávesových zkratek provádět celou řadu operací.\n",
    "\n",
    "Níže je uvedený seznam některých klávesových zkratek Jupyteru. Nemusíte si je všechny ihned zapamatovat, tento seznam by vám ale měl poskytnout dobrou představu o tom, co všechno je možné v Jupyteru provádět.\n",
    "\n",
    "* Mezi režimem úprav a režimem příkazů můžete přepínat pomocí kláves `Esc` a `Enter`.\n",
    "* Jakmile jste v příkazovém režimu:\n",
    " * Posouvejte se nahoru a dolů po buňkách pomocí kláves `Nahoru` a `Dolů`.\n",
    " * Stisknutím `A` nebo `B` vložíte novou buňku nad nebo pod aktivní buňku.\n",
    " * `M` přepne aktivní buňku z buňky kódu na buňku Markdown.\n",
    " * `Y` přepne aktivní buňku na buňku kódu.\n",
    " * `D + D` (D dvakrát) vymaže aktivní buňku.\n",
    " * `Z` zruší odstranění buněk (vrátí je).\n",
    " * Podržte klávesu `Shift` a stiskněte `nahoru` nebo `dolů` a vyberte více buněk najednou. Když je vybráno více buněk, `Shift + M` váš výběr sloučí.\n",
    "\n",
    "Vyzkoušejte tyto klávesové zkratky ve svém vlastním notebooku. Až budete připraveni, naučíme se společně, jak v našem notebooku formátovat text."
   ]
  },
  {
   "cell_type": "markdown",
   "metadata": {},
   "source": [
    "## Markdown\n",
    "\n",
    "Markdown je lehký a snadno zvládnutelný sázecí jazyk pro formátování prostého textu.\n",
    "\n",
    "\n",
    "# Tohle je nadpis první úrovně\n",
    "\n",
    "## Tohle je nadpis druhé úrovně\n",
    "\n",
    "Toto je prostý text, který tvoří odstavec. Přidejte zvýraznění pomocí **tučné** a __tučné__, nebo *kurzíva* a _kurzíva_. \n",
    "\n",
    "Odstavce musí být odděleny prázdným řádkem.\n",
    "\n",
    "* Někdy chceme zahrnout seznamy.\n",
    "* Které lze odrážet pomocí hvězdiček. \n",
    "\n",
    "\n",
    "1. Seznamy můžou také být číslované\n",
    "2. Chceme-li seřazený seznam.\n",
    "\n",
    "[Je možné zahrnout hypertextové odkazy](https://www.example.com)\n",
    "\n",
    "Vložený kód používá jednoduché obrácené úvozovky: `foo ()` a bloky kódu používají trojité obrácené úvozovky:\n",
    "```\n",
    "bar()\n",
    "``` \n",
    "Nebo také může být odsazen čtyřmi mezerami:\n",
    "\n",
    "    foo()\n",
    "    \n",
    "Snadno také můžete přidat obrázky: ![Python Icon](images/Python.png)"
   ]
  },
  {
   "cell_type": "markdown",
   "metadata": {},
   "source": [
    "## Aritmetické operace s Pythonem\n",
    "\n",
    "Nejprve si ukážeme, jak použít Python jako kalkulačku. Do buněk notebooku můžeme vepsat matematické výrazy a poté je vyhodnotit. \n",
    "\n",
    "Zaměřte se na funkci operátorů `//`, `%`, `**`."
   ]
  },
  {
   "cell_type": "code",
   "execution_count": 4,
   "metadata": {},
   "outputs": [
    {
     "data": {
      "text/plain": [
       "14"
      ]
     },
     "execution_count": 4,
     "metadata": {},
     "output_type": "execute_result"
    }
   ],
   "source": [
    "2+3+9"
   ]
  },
  {
   "cell_type": "code",
   "execution_count": 5,
   "metadata": {},
   "outputs": [
    {
     "data": {
      "text/plain": [
       "15"
      ]
     },
     "execution_count": 5,
     "metadata": {},
     "output_type": "execute_result"
    }
   ],
   "source": [
    "2*3+9"
   ]
  },
  {
   "cell_type": "code",
   "execution_count": 6,
   "metadata": {},
   "outputs": [
    {
     "data": {
      "text/plain": [
       "836.8956"
      ]
     },
     "execution_count": 6,
     "metadata": {},
     "output_type": "execute_result"
    }
   ],
   "source": [
    "22.57*-12.36*-3"
   ]
  },
  {
   "cell_type": "code",
   "execution_count": 7,
   "metadata": {},
   "outputs": [
    {
     "data": {
      "text/plain": [
       "14.285714285714286"
      ]
     },
     "execution_count": 7,
     "metadata": {},
     "output_type": "execute_result"
    }
   ],
   "source": [
    "100 / 7"
   ]
  },
  {
   "cell_type": "code",
   "execution_count": 8,
   "metadata": {},
   "outputs": [
    {
     "data": {
      "text/plain": [
       "14"
      ]
     },
     "execution_count": 8,
     "metadata": {},
     "output_type": "execute_result"
    }
   ],
   "source": [
    "100 // 7"
   ]
  },
  {
   "cell_type": "code",
   "execution_count": 9,
   "metadata": {},
   "outputs": [
    {
     "data": {
      "text/plain": [
       "2"
      ]
     },
     "execution_count": 9,
     "metadata": {},
     "output_type": "execute_result"
    }
   ],
   "source": [
    "100 % 7"
   ]
  },
  {
   "cell_type": "code",
   "execution_count": 10,
   "metadata": {},
   "outputs": [
    {
     "data": {
      "text/plain": [
       "125"
      ]
     },
     "execution_count": 10,
     "metadata": {},
     "output_type": "execute_result"
    }
   ],
   "source": [
    "5 ** 3"
   ]
  },
  {
   "cell_type": "markdown",
   "metadata": {},
   "source": [
    "Mužeme vidět, že operátory, jako je `/` a `*`, mají v souladu s matematickými konvencemi přednost před jinými, jako je `+` a `-`. Abychom specifikovali pořadí operací ve výrazu, můžeme klasicky použít závorky."
   ]
  },
  {
   "cell_type": "code",
   "execution_count": null,
   "metadata": {},
   "outputs": [],
   "source": [
    "((2 + 5) * (17 - 3)) / (4 ** 3)"
   ]
  },
  {
   "cell_type": "markdown",
   "metadata": {},
   "source": [
    "V základu podporuje Python tyto matematické operátory:\n",
    "\n",
    "| Operátor   | Funkce           | Příklad     | Výsledek    |\n",
    "|------------|-------------------|-------------|-----------|\n",
    "| `+`        | Sčítání          | `2 + 3`     | `5`       |\n",
    "| `-`        | Odčítání       | `3 - 2`     | `1`       |\n",
    "| `*`        | Násobení    | `8 * 12`    | `96`      |\n",
    "| `/`        | Dělení          | `100 / 7`   | `14.28..` |\n",
    "| `//`       | Celočíselné dělení    | `100 // 7`  | `14`      |    \n",
    "| `%`        | Zbytek dělení | `100 % 7`   | `2`       |\n",
    "| `**`       | Exponent          | `5 ** 3`    | `125`     |"
   ]
  },
  {
   "cell_type": "markdown",
   "metadata": {},
   "source": [
    "Pokuste se vyřešit několik následujícíh úloh. Využijte k tomu následující prázdné buňky nebo si přidejte další navíc.\n",
    "\n",
    "1) Populace města je 198 568. Z toho 45 312 jsou muži a 35 678 jsou ženy. Kolik je v tomto městě dětí?\n",
    "\n",
    "2) Cena 21 TV je 652 121 korun. Kolik stojí jedna TV?\n",
    "\n",
    "3) Továrna na žárovky vyrobí 12 652 žárovek za měsíc. Kolik jich vyrobí za rok?"
   ]
  },
  {
   "cell_type": "code",
   "execution_count": null,
   "metadata": {},
   "outputs": [],
   "source": []
  },
  {
   "cell_type": "code",
   "execution_count": null,
   "metadata": {},
   "outputs": [],
   "source": []
  },
  {
   "cell_type": "code",
   "execution_count": null,
   "metadata": {},
   "outputs": [],
   "source": []
  },
  {
   "cell_type": "markdown",
   "metadata": {},
   "source": [
    "Tyto úlohy se pochopitelně hodí spíše pro žáky základní školy, ale zde nám vystačí jako příklad."
   ]
  },
  {
   "cell_type": "markdown",
   "metadata": {},
   "source": [
    "## Řešení vícestupňových problémů pomocí proměnných\n",
    "\n",
    "Pokusíme se vyřešit následující slovní úlohu pomocí Pythonu. \n",
    "\n",
    "> Obchod prodává balíky s ledem za 20 korun a vydělá na nich 20 % jejich ceny. Jaký bude zisk obchodu, pokud prodá 500 balíků?\n",
    "\n",
    "Úlohu můžeme rozepsat do formy, se kterou už si Python poradí.\n",
    "\n",
    "*Cena balíku* = 20\n",
    "\n",
    "*Marže* = 20 % = .2\n",
    "\n",
    "*Výdělek na balíku* = marže * cena balíku = 0.2 * 20\n",
    "\n",
    "*Počet prodaných balíků* = 500\n",
    "\n",
    "*Zisk* = počet prodaných balíků * výdělek na balíku = 500 * (.2 * 20)"
   ]
  },
  {
   "cell_type": "code",
   "execution_count": 11,
   "metadata": {
    "scrolled": true
   },
   "outputs": [
    {
     "data": {
      "text/plain": [
       "2000.0"
      ]
     },
     "execution_count": 11,
     "metadata": {},
     "output_type": "execute_result"
    }
   ],
   "source": [
    "500*(0.2*20)"
   ]
  },
  {
   "cell_type": "markdown",
   "metadata": {},
   "source": [
    "Obchod si tak přijde na 2000 korun. Úlohu takto sice řešit můžeme, ale není to úplně nejpřehlednější způsob. Na první pohled totiž nevidíme, co čísla v buňce znamenají. Číslům můžeme přidělit jména tak, že vytvoříme Python *proměnné*.\n",
    "\n",
    "\n",
    "> **Proměnné**: Pří práci s programovacími jazyky, jako je Python, ukládáme informace do *proměnných*. Proměnné si můžete představit jako krabičky na ukládání dat. Data, která jsou uložena v proměnné, nazýváme hodnotami."
   ]
  },
  {
   "cell_type": "code",
   "execution_count": 12,
   "metadata": {},
   "outputs": [],
   "source": [
    "cena_balíku = 20"
   ]
  },
  {
   "cell_type": "code",
   "execution_count": 13,
   "metadata": {},
   "outputs": [],
   "source": [
    "marže = 0.2"
   ]
  },
  {
   "cell_type": "code",
   "execution_count": 14,
   "metadata": {},
   "outputs": [],
   "source": [
    "počet_prodaných_balíků = 500"
   ]
  },
  {
   "cell_type": "markdown",
   "metadata": {},
   "source": [
    "Proměnné `cena_balíku`, `marže`, a `počet_prodaných_balíků` teď obsahují informace zadané ve slovní úloze. Hodnotu proměnné si můžeme zkontrolovat tak, že ji napíšeme do buňky. Proměnné můžeme kombinovat pomocí matematických operátorů.\n",
    "\n",
    "> **Doplňování kódu**: Při psaní jmen již vzniklých proměnných nám Jupyter Notebook pomáhá a po napsání prvních písmen můžeme zmáčknout na klávesnici `Tab` pro automatické doplnění zbytku."
   ]
  },
  {
   "cell_type": "code",
   "execution_count": null,
   "metadata": {},
   "outputs": [],
   "source": [
    "počet_prodaných_balíků"
   ]
  },
  {
   "cell_type": "markdown",
   "metadata": {},
   "source": [
    "Pokud zkusíme napsat proměnnou, která ještě nebyla *definována*, Python nám vyhodí error."
   ]
  },
  {
   "cell_type": "code",
   "execution_count": null,
   "metadata": {},
   "outputs": [],
   "source": [
    "zisk"
   ]
  },
  {
   "cell_type": "code",
   "execution_count": 15,
   "metadata": {},
   "outputs": [],
   "source": [
    "zisk = počet_prodaných_balíků*(marže*cena_balíku)"
   ]
  },
  {
   "cell_type": "code",
   "execution_count": 16,
   "metadata": {},
   "outputs": [
    {
     "data": {
      "text/plain": [
       "2000.0"
      ]
     },
     "execution_count": 16,
     "metadata": {},
     "output_type": "execute_result"
    }
   ],
   "source": [
    "zisk"
   ]
  },
  {
   "cell_type": "markdown",
   "metadata": {},
   "source": [
    "Ukládání dat a jejich manipulace za pomocí vhodně pojmenovaných proměnných je skvělý způsob, jak jednoduše vysvětlit, co váš kód dělá.\n",
    "\n",
    "\n",
    "Zobrazme si výsledek slovní úlohy pomocí jednoduché zprávy. Můžeme pro to použít Python *funkci* `print`.\n",
    "\n",
    "> **Funkce** je opakovaně použitelná sada pokynů. Vyžaduje jeden nebo více vstupů, provádí určité operace a často vrací výstup. Python poskytuje mnoho vestavěných funkcí, jako je `print`, a také nám umožňuje definovat si funkce vlastní. "
   ]
  },
  {
   "cell_type": "code",
   "execution_count": 17,
   "metadata": {},
   "outputs": [
    {
     "name": "stdout",
     "output_type": "stream",
     "text": [
      "Obchod má zisk 2000.0\n"
     ]
    }
   ],
   "source": [
    "print(\"Obchod má zisk\", zisk)"
   ]
  },
  {
   "cell_type": "markdown",
   "metadata": {},
   "source": [
    "> **`print`** funkce je využívána pro zobrazení informací. Má jeden nebo více vstupů, které mohou být například ve formě textu (mezi uvozovkami, např., `\"Tohle je text!\"`) nebo čísel. Více se o proměnných a funkcích dozvíme později.\n",
    "\n",
    "Vytvoření buněk pro každou proměnnou nebo matematickou operaci je nepraktické. Naštěstí nám Jupyter notebook dovoluje psát mnoho řádků kódu do samostatné buňky. Výsledek posledního řádku kódu je potom zobrazen jako výstup. \n",
    "\n",
    "Přepíšeme tedy celou slovní úlohu do jediné buňky.\n"
   ]
  },
  {
   "cell_type": "code",
   "execution_count": 18,
   "metadata": {},
   "outputs": [
    {
     "name": "stdout",
     "output_type": "stream",
     "text": [
      "Obchod má zisk 2000.0\n"
     ]
    }
   ],
   "source": [
    "# Vstupní data\n",
    "cena_balíku = 20\n",
    "marže = 0.2\n",
    "počet_prodaných_balíků = 500\n",
    "\n",
    "# Provedení kalkulací\n",
    "zisk_na_balik = cena_balíku * marže\n",
    "zisk = počet_prodaných_balíků * zisk_na_balik\n",
    "\n",
    "# Zobrazení výsledku\n",
    "print(\"Obchod má zisk\", zisk)"
   ]
  },
  {
   "cell_type": "markdown",
   "metadata": {},
   "source": [
    "Můžete si všimnout, že používáme `#`, abychom označili komentáře k našemu kódu.\n",
    "\n",
    "> **Komentáře** a prázdné řádky jsou během vyhodnocování kódu ignorovány, pro nás jsou ale užitečné, protože nám předávají informace o tom, co vlastně kód dělá.\n",
    "\n",
    "Jednořádkové komentáře začínájí znakem `#`, zatímco víceřádkové komentáře jsou oddělené trojitými uvozovkami `\"\"\"`. Uveďme si několik příkladů."
   ]
  },
  {
   "cell_type": "code",
   "execution_count": 19,
   "metadata": {},
   "outputs": [],
   "source": [
    "super_cislo = 2 # Tohle číslo je super"
   ]
  },
  {
   "cell_type": "code",
   "execution_count": 20,
   "metadata": {},
   "outputs": [],
   "source": [
    "záporné_cislo = -2\n",
    "# Tohle číslo je záporné"
   ]
  },
  {
   "cell_type": "code",
   "execution_count": 21,
   "metadata": {},
   "outputs": [],
   "source": [
    "\"\"\"\n",
    "Toto je víceřádkový komentář, do kterého toho můžete napsat, kolik chcete.\n",
    "\n",
    "Komentáře jsou velmi užitečné pro čitelný kód, vyhněte se ale dlouhému rozepisování, které dělají kód nepřehlednější.\n",
    "\n",
    "Pokud používáte smysluplná jména proměnných, kód je většinou srozumitelný.\n",
    "\n",
    "\"\"\"\n",
    "nula = 0"
   ]
  },
  {
   "cell_type": "markdown",
   "metadata": {},
   "source": [
    "## Vyhodnocování podmínek v Pythonu\n",
    "\n",
    "Kromě aritmetických operací nám Python nabízí i několik relačních operací pro porovnání čísel nebo proměnných.\n",
    "\n",
    "| Operátor    | Popis                                                     |\n",
    "|-------------|--------------------------------------------------------------  ---|\n",
    "| `==`        | Zkontroluje, zda jsou si operandy rovny                           |\n",
    "| `!=`        | Zkontroluje, zda si operandy rovny nejsou                         |\n",
    "| `>`         | Zkontroluje, zda operand vlevo je větší než operand vpravo         |\n",
    "| `<`         | Zkontroluje, zda operand vlevo je menší než operand vpravo         |\n",
    "| `>=`        | Zkontroluje, zda operand vlevo je větší nebo roven operandu vpravo |\n",
    "| `<=`        | Zkontroluje, zda operand vlevo je menší nebo roven operandu vpravo |\n",
    "\n",
    "Výsledek relačních operací je buď pravda `True`, nebo lež `False` (Všimněte si velkých písmen u True a False). Toto jsou speciální klíčová slova pro Python. Vyzkoušíme si pár příkladů."
   ]
  },
  {
   "cell_type": "code",
   "execution_count": 22,
   "metadata": {},
   "outputs": [],
   "source": [
    "první_číslo = 2\n",
    "druhé_číslo = 5\n",
    "třetí_číslo = 9"
   ]
  },
  {
   "cell_type": "code",
   "execution_count": 23,
   "metadata": {},
   "outputs": [
    {
     "data": {
      "text/plain": [
       "True"
      ]
     },
     "execution_count": 23,
     "metadata": {},
     "output_type": "execute_result"
    }
   ],
   "source": [
    "první_číslo == 2 #Zkouška rovnosti"
   ]
  },
  {
   "cell_type": "code",
   "execution_count": 24,
   "metadata": {},
   "outputs": [
    {
     "data": {
      "text/plain": [
       "False"
      ]
     },
     "execution_count": 24,
     "metadata": {},
     "output_type": "execute_result"
    }
   ],
   "source": [
    "první_číslo == druhé_číslo #Zkouška rovnosti"
   ]
  },
  {
   "cell_type": "code",
   "execution_count": 25,
   "metadata": {},
   "outputs": [
    {
     "data": {
      "text/plain": [
       "True"
      ]
     },
     "execution_count": 25,
     "metadata": {},
     "output_type": "execute_result"
    }
   ],
   "source": [
    "první_číslo != druhé_číslo #Zkouška nerovnosti"
   ]
  },
  {
   "cell_type": "code",
   "execution_count": 26,
   "metadata": {},
   "outputs": [
    {
     "data": {
      "text/plain": [
       "False"
      ]
     },
     "execution_count": 26,
     "metadata": {},
     "output_type": "execute_result"
    }
   ],
   "source": [
    "druhé_číslo != 5 #Zkouška nerovnosti"
   ]
  },
  {
   "cell_type": "markdown",
   "metadata": {},
   "source": [
    "Tak jako můžeme do proměnných uložit výsledek operací aritmetických, můžeme do proměnných uložit i výsledek operací relačních."
   ]
  },
  {
   "cell_type": "code",
   "execution_count": 27,
   "metadata": {},
   "outputs": [
    {
     "name": "stdout",
     "output_type": "stream",
     "text": [
      "Je balík ledu drahý? False\n"
     ]
    }
   ],
   "source": [
    "cena_balíku = 20\n",
    "je_balík_ledu_drahý = cena_balíku >= 30\n",
    "print(\"Je balík ledu drahý?\", je_balík_ledu_drahý)"
   ]
  },
  {
   "cell_type": "markdown",
   "metadata": {},
   "source": [
    "## Kombinace podmínek s logickými operátory\n",
    "\n",
    "Logické operátory `and`, `or` a `not` operují na podmínkách a také na `True` a `False` hodnotách (Také označovány jako *boolean* hodnoty). \n",
    "\n",
    "Operátor `and` nám vrácí `True`, pouze pokud obě podmínky jsou `True`. \n",
    "\n",
    "| `a`     | `b`    | `a and b` |\n",
    "|---------|--------|-----------|\n",
    "|  `True` | `True` | `True`    |\n",
    "|  `True` | `False`| `False`   |\n",
    "|  `False`| `True` | `False`   |\n",
    "|  `False`| `False`| `False`   |"
   ]
  },
  {
   "cell_type": "code",
   "execution_count": null,
   "metadata": {},
   "outputs": [],
   "source": [
    "první_číslo"
   ]
  },
  {
   "cell_type": "code",
   "execution_count": null,
   "metadata": {},
   "outputs": [],
   "source": [
    "první_číslo > 0 and první_číslo <= 3"
   ]
  },
  {
   "cell_type": "code",
   "execution_count": null,
   "metadata": {},
   "outputs": [],
   "source": [
    "True and False"
   ]
  },
  {
   "cell_type": "code",
   "execution_count": null,
   "metadata": {},
   "outputs": [],
   "source": [
    "True and True"
   ]
  },
  {
   "cell_type": "code",
   "execution_count": null,
   "metadata": {},
   "outputs": [],
   "source": [
    "False and False"
   ]
  },
  {
   "cell_type": "markdown",
   "metadata": {},
   "source": [
    "Operátor `or` nám vrací `True`, pokud alespoň jedna z podmínek je `True`. `False` nám vrátí tehdy, pokud jsou obě podmínky `False`.\n",
    "\n",
    "| `a`     | `b`    | `a or b`  |\n",
    "|---------|--------|-----------|\n",
    "|  `True` | `True` | `True`    |\n",
    "|  `True` | `False`| `True`    |\n",
    "|  `False`| `True` | `True`    |\n",
    "|  `False`| `False`| `False`   |\n"
   ]
  },
  {
   "cell_type": "code",
   "execution_count": null,
   "metadata": {},
   "outputs": [],
   "source": [
    "druhé_číslo"
   ]
  },
  {
   "cell_type": "code",
   "execution_count": null,
   "metadata": {},
   "outputs": [],
   "source": [
    "druhé_číslo == 5 or druhé_číslo < 3"
   ]
  },
  {
   "cell_type": "code",
   "execution_count": null,
   "metadata": {},
   "outputs": [],
   "source": [
    "druhé_číslo != 5 or druhé_číslo < 3"
   ]
  },
  {
   "cell_type": "code",
   "execution_count": null,
   "metadata": {},
   "outputs": [],
   "source": [
    "False or False"
   ]
  },
  {
   "cell_type": "markdown",
   "metadata": {},
   "source": [
    "Operátor `not` nám vrací `False` pokud je podmínka `True` a vrací nám `True` pokud je podmínka `False`."
   ]
  },
  {
   "cell_type": "code",
   "execution_count": null,
   "metadata": {},
   "outputs": [],
   "source": [
    "druhé_číslo"
   ]
  },
  {
   "cell_type": "code",
   "execution_count": null,
   "metadata": {},
   "outputs": [],
   "source": [
    "not druhé_číslo == 5"
   ]
  },
  {
   "cell_type": "code",
   "execution_count": null,
   "metadata": {},
   "outputs": [],
   "source": [
    "not True"
   ]
  },
  {
   "cell_type": "code",
   "execution_count": null,
   "metadata": {},
   "outputs": [],
   "source": [
    "not True and False"
   ]
  },
  {
   "cell_type": "markdown",
   "metadata": {},
   "source": [
    "Logické operátory můžeme kombinovat tak, aby tvořily komplexní podmínky. Pomocí kulatých závorek udáváme pořadí tak jako u matematických operací.\n",
    "\n",
    "Pokud žádné závorky nepoužijeme, výraz se vyhodnotí zleva doprava."
   ]
  },
  {
   "cell_type": "code",
   "execution_count": null,
   "metadata": {},
   "outputs": [],
   "source": [
    "not (True and False)"
   ]
  },
  {
   "cell_type": "markdown",
   "metadata": {},
   "source": [
    "## Cvičení\n",
    "\n",
    "#### Slovní úlohy\n",
    "1. Autobus má průměrnou spotřebu 10 l/100 km a jede z bodu A do bodu B, které jsou od sebe vzdálené 160 km. Kolik paliva autobus spotřebuje?\n",
    "2. Prodavač na trhu zeleniny prodává okurky za 20 Kč/kg a rajčata za 35 Kč/kg. Za týden prodal 35 kg okurek a 30 kg rajčat, ale v průběhu týdne musel snížit cenu okurek na 18 Kč/kg, protože se objevil konkurenční stánek. V tu chvíli měl prodaných 20 kg okurek. Kolik byl jeho celkový zisk za týden?\n",
    "\n",
    "#### Podmínky a logické operátory\n",
    "Vymyslete si tři čísla a proveďte na nich tři příklady porovnávacích operací, tři příklady s logickými operátory a dva příklady u kterých zkombinujete oba druhy operátorů."
   ]
  },
  {
   "cell_type": "code",
   "execution_count": null,
   "metadata": {},
   "outputs": [],
   "source": []
  }
 ],
 "metadata": {
  "kernelspec": {
   "display_name": "Python 3",
   "language": "python",
   "name": "python3"
  },
  "language_info": {
   "codemirror_mode": {
    "name": "ipython",
    "version": 3
   },
   "file_extension": ".py",
   "mimetype": "text/x-python",
   "name": "python",
   "nbconvert_exporter": "python",
   "pygments_lexer": "ipython3",
   "version": "3.8.3"
  }
 },
 "nbformat": 4,
 "nbformat_minor": 4
}
