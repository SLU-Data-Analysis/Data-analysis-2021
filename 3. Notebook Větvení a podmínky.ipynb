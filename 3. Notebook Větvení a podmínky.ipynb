{
 "cells": [
  {
   "cell_type": "markdown",
   "metadata": {},
   "source": [
    "# Větvení pomocí podmíněných příkazů a smyček v Pythonu"
   ]
  },
  {
   "cell_type": "markdown",
   "metadata": {},
   "source": [
    "V této části se seznámíme s:\n",
    "\n",
    "- Větvení pomocí příkazů `if`, `else` a `elif`\n",
    "- Vnořené podmínky a výrazy s `if`\n",
    "- Iterace pomocí smyček `while`\n",
    "- Iterace napříč kontejnery za pomocí smyček `for`\n",
    "- Vnořené smyčky, příkazy `break` a `continue`"
   ]
  },
  {
   "cell_type": "markdown",
   "metadata": {},
   "source": [
    "## Větvení za pomocí příkazů `if`, `else` a `elif`\n",
    "\n",
    "Jednou z největších výhod programovacích jazyků je *větvení*: schopnost rozhodovat a provádět různé sady příkazů podle toho, zda je splněna jedna nebo více podmínek.\n",
    "\n",
    "### Příkaz `if`\n",
    "\n",
    "```\n",
    "if podmínka:\n",
    "    tvrzení1\n",
    "    tvrzení2\n",
    "```\n",
    "\n",
    "Podmínkou může být hodnota, proměnná nebo výraz. Pokud je podmínka vyhodnocena jako pravdivá, budou provedena tvrzení v rámci *bloku `if`*. Všimněte si čtyř mezer před `tvrzením1` a `tvrzením2`. Tyto mezery Pythonu říkají, že si má tvrzení asociovat s příkazem `if` nad nimi. Tato struktura psaní kódu se nazývá *odsazení*.\n",
    "\n",
    "> **Odsazení**: Python se při definování struktury kódu silně spoléhá na *odsazení* (prázdné místo před příkazem). Díky tomu je kód v Pythonu snadno čitelný a srozumitelný. Pokud nepoužíváte odsazení správně, můžete narazit na problémy. Odsazení kódu provedete umístěním kurzoru na začátek řádku a stisknutím klávesy `Tab`, které přidá 4 mezery. Dalším stisknutím klávesy `Tab` odsadíte kód o 4 další mezery a stisknutím kombinace kláves `Shift + Tab` odsazení o 4 mezery zmenšíte.\n",
    "\n",
    "Napišme si nějaký kód ke kontrole a zobrazení zprávy, zda je dané číslo sudé."
   ]
  },
  {
   "cell_type": "code",
   "execution_count": 2,
   "metadata": {},
   "outputs": [],
   "source": [
    "číslo = 34"
   ]
  },
  {
   "cell_type": "code",
   "execution_count": 5,
   "metadata": {},
   "outputs": [
    {
     "name": "stdout",
     "output_type": "stream",
     "text": [
      "Zde jsme uvnitř `if` bloku!\n",
      "Číslo 34 je sudé!\n"
     ]
    }
   ],
   "source": [
    "if číslo % 2 == 0:\n",
    "    print(\"Zde jsme uvnitř `if` bloku!\")\n",
    "    print(\"Číslo {} je sudé!\".format(číslo))"
   ]
  },
  {
   "cell_type": "markdown",
   "metadata": {},
   "source": [
    "Pro výpočet zbytku z dělení čísla použijeme operátor modulu `%`. Potom použijeme operátor porovnání `==` a zkontrolujeme, zda je zbytek `0`, což nám řekne, jestli je číslo sudé, tj. dělitelné 2.\n",
    "\n",
    "Vzhledem k tomu, že hodnota `34` je dělitelná hodnotou `2`, výraz `číslo % 2 == 0` se vyhodnotí jako `True`, takže je proveden příkaz `print` pod příkazem `if`. Všimněte si také, že k zahrnutí čísla do zprávy používáme metodu stringů `format`.\n",
    "\n",
    "Vyzkoušíme si to samé, ale tentokrát s číslem lichým."
   ]
  },
  {
   "cell_type": "code",
   "execution_count": 6,
   "metadata": {},
   "outputs": [],
   "source": [
    "číslo2 = 33"
   ]
  },
  {
   "cell_type": "code",
   "execution_count": 8,
   "metadata": {},
   "outputs": [],
   "source": [
    "if číslo2 % 2 == 0:\n",
    "    print(\"Zde jsme uvnitř `if` bloku!\")\n",
    "    print(\"Číslo {} je sudé!\".format(číslo))"
   ]
  },
  {
   "cell_type": "markdown",
   "metadata": {},
   "source": [
    "Jak jsme očekávali, blok pod `if` se nevyhodnotí a my žádný text nevidíme, protože tvrzení `číslo2 % 2 == 0` je vyhodnoceno jako `False`."
   ]
  },
  {
   "cell_type": "markdown",
   "metadata": {},
   "source": [
    "### Příkaz `else`\n",
    "\n",
    "V případě, že číslo není sudé, jak je tomu ve výše uvedeném příkladu, můžeme si chtít zobrazit jinou zprávu. Toho lze dosáhnout přidáním příkazu `else`, který zapíšeme následovně:\n",
    "\n",
    "```\n",
    "if podmínka:\n",
    "    tvrzení1\n",
    "    tvrzení2\n",
    "else:\n",
    "    tvrzení3\n",
    "    tvrzení4\n",
    "\n",
    "```\n",
    "Pokud je `podmínka` vyhodnocena jako `True`, budou vyhodnocena tvrzení v bloku `if`, pokud je však `podmínka` vyhodnocena jako `False`, budou vyhodnocena tvrzení v bloku `else`."
   ]
  },
  {
   "cell_type": "code",
   "execution_count": 9,
   "metadata": {},
   "outputs": [],
   "source": [
    "číslo = 34\n",
    "číslo2 = 33"
   ]
  },
  {
   "cell_type": "code",
   "execution_count": 10,
   "metadata": {},
   "outputs": [
    {
     "name": "stdout",
     "output_type": "stream",
     "text": [
      "Číslo 34 je sudé.\n"
     ]
    }
   ],
   "source": [
    "if číslo % 2 == 0:\n",
    "    print('Číslo {} je sudé.'.format(číslo))\n",
    "else:\n",
    "    print('Číslo {} je liché.'.format(číslo))"
   ]
  },
  {
   "cell_type": "code",
   "execution_count": 11,
   "metadata": {},
   "outputs": [
    {
     "name": "stdout",
     "output_type": "stream",
     "text": [
      "Číslo 33 je liché.\n"
     ]
    }
   ],
   "source": [
    "if číslo2 % 2 == 0:\n",
    "    print('Číslo {} je sudé.'.format(číslo2))\n",
    "else:\n",
    "    print('Číslo {} je liché.'.format(číslo2))"
   ]
  },
  {
   "cell_type": "markdown",
   "metadata": {},
   "source": [
    "Následuje další příklad, který používá operátor `in` k tomu, abychom zjistili, zda se hodnota nachází v tuplu."
   ]
  },
  {
   "cell_type": "code",
   "execution_count": 48,
   "metadata": {},
   "outputs": [],
   "source": [
    "tři_mušketýři = ('Athos', 'Porthos', 'Aramis')"
   ]
  },
  {
   "cell_type": "code",
   "execution_count": 49,
   "metadata": {},
   "outputs": [],
   "source": [
    "kandidát = \"D'Artagnan\""
   ]
  },
  {
   "cell_type": "code",
   "execution_count": 50,
   "metadata": {},
   "outputs": [
    {
     "name": "stdout",
     "output_type": "stream",
     "text": [
      "D'Artagnan není mušketýrem\n"
     ]
    }
   ],
   "source": [
    "if kandidát in tři_mušketýři:\n",
    "    print(\"{} je mušketýrem\".format(kandidát))\n",
    "else:\n",
    "    print(\"{} není mušketýrem\".format(kandidát))"
   ]
  },
  {
   "cell_type": "markdown",
   "metadata": {},
   "source": [
    "### Příkaz `elif`\n",
    "\n",
    "```\n",
    "if podmínka1:\n",
    "    tvrzení1\n",
    "    tvrzení2\n",
    "elif podmínka2:\n",
    "    tvrzení3\n",
    "    tvrzení4\n",
    "elif:\n",
    "    tvrzení5\n",
    "    tvrzení6\n",
    "else:\n",
    "    tvrzení7\n",
    "    tvrzení8\n",
    "```\n",
    "\n",
    "Python také umožňuje příkaz `elif` (zkratka pro „else if “) k řetězení řady podmíněných bloků. Podmínky se vyhodnocují jedna po druhé. U první podmínky, která se vyhodnotí jako `True`, se program zastaví a provede se blok příkazů pod ní. Zbývající podmínky a tvrzení se nevyhodnocují. Takže v řetězci `if`,` elif`, `elif`... se provede maximálně jeden blok příkazů, který odpovídá první podmínce vyhodnocené jako `True`."
   ]
  },
  {
   "cell_type": "code",
   "execution_count": 2,
   "metadata": {},
   "outputs": [],
   "source": [
    "dnes = \"Středa\""
   ]
  },
  {
   "cell_type": "code",
   "execution_count": 3,
   "metadata": {},
   "outputs": [
    {
     "name": "stdout",
     "output_type": "stream",
     "text": [
      "Dnes je Středa\n"
     ]
    }
   ],
   "source": [
    "if dnes == 'Neděle':\n",
    "    print(\"Dnes je Neděle\")\n",
    "elif dnes == 'Pondělí':\n",
    "    print(\"Dnes je Pondělí\")\n",
    "elif dnes == 'Úterý':\n",
    "    print(\"Dnes je Úterý\")\n",
    "elif dnes == 'Středa':\n",
    "    print(\"Dnes je Středa\")\n",
    "elif dnes == 'Čtvrtek':\n",
    "    print(\"Dnes je Čtvrtek\")\n",
    "elif dnes == 'Pátek':\n",
    "    print(\"Dnes je Pátek\")\n",
    "elif dnes == 'Sobota':\n",
    "    print(\"Dnes je Sobota\")\n",
    "else:\n",
    "    print(\"Proměnná dnes neobsahuje název dne!\")"
   ]
  },
  {
   "cell_type": "markdown",
   "metadata": {},
   "source": [
    "Ve výše uvedeném příkladu se první 3 podmínky vyhodnotí jako `False`, takže se nezobrazí žádná z prvních 3 zpráv. Čtvrtá podmínka se vyhodnotí jako `True`, takže se zobrazí odpovídající zpráva. Zbývající podmínky se přeskočí. Zkuste změnit hodnotu \"dnes\" výše a znovu spustit buňky pro zobrazení jiných zpráv."
   ]
  },
  {
   "cell_type": "code",
   "execution_count": 17,
   "metadata": {},
   "outputs": [],
   "source": [
    "číslo = 15"
   ]
  },
  {
   "cell_type": "code",
   "execution_count": 21,
   "metadata": {},
   "outputs": [
    {
     "name": "stdout",
     "output_type": "stream",
     "text": [
      "15 je dělitelné 3\n"
     ]
    }
   ],
   "source": [
    "if číslo % 2 == 0:\n",
    "    print('{} je dělitelné 2'.format(číslo))\n",
    "elif číslo % 3 == 0:\n",
    "    print('{} je dělitelné 3'.format(číslo))\n",
    "elif číslo % 5 == 0:\n",
    "    print('{} je dělitelné 5'.format(číslo))\n",
    "elif číslo % 7 == 0:\n",
    "    print('{} je dělitelné 7'.format(číslo))"
   ]
  },
  {
   "cell_type": "markdown",
   "metadata": {},
   "source": [
    "Všimněte si, že zpráva `15 je dělitelné 5` se nezobrazí, protože podmínka `číslo % 5 == 0` se nevyhodnocuje, jelikož předchozí podmínka `číslo % 3 == 0` se vyhodnotila jako `True` a program dál nepokračoval. Toto je klíčový rozdíl mezi používáním řetězce příkazů `if`,` elif`, `elif` ... oproti řetězci příkazů` if`, kde je každá podmínka vyhodnocena samostatně."
   ]
  },
  {
   "cell_type": "code",
   "execution_count": 22,
   "metadata": {},
   "outputs": [
    {
     "name": "stdout",
     "output_type": "stream",
     "text": [
      "15 je dělitelné 3\n",
      "15 je dělitelné 5\n"
     ]
    }
   ],
   "source": [
    "if číslo % 2 == 0:\n",
    "    print('{} je dělitelné 2'.format(číslo))\n",
    "if číslo % 3 == 0:\n",
    "    print('{} je dělitelné 3'.format(číslo))\n",
    "if číslo % 5 == 0:\n",
    "    print('{} je dělitelné 5'.format(číslo))\n",
    "if číslo % 7 == 0:\n",
    "    print('{} je dělitelné 7'.format(číslo))"
   ]
  },
  {
   "cell_type": "markdown",
   "metadata": {},
   "source": [
    "### Společné použití příkazů `if`,`elif` a `else`\n",
    "\n",
    "Příkaz `else` můžete také zahrnout na konec řetězce příkazů` if`, `elif`... Pokud žádná z podmínek `if` není vyhodnocena jako `True`, bude vyhodnocen blok pod `else`."
   ]
  },
  {
   "cell_type": "code",
   "execution_count": 51,
   "metadata": {},
   "outputs": [],
   "source": [
    "číslo = 49"
   ]
  },
  {
   "cell_type": "code",
   "execution_count": 52,
   "metadata": {},
   "outputs": [
    {
     "name": "stdout",
     "output_type": "stream",
     "text": [
      "Všechny kontroly selhaly!\n",
      "49 není dělitelné 2, 3 ani 5\n"
     ]
    }
   ],
   "source": [
    "if číslo % 2 == 0:\n",
    "    print('{} je dělitelné 2'.format(číslo))\n",
    "elif číslo % 3 == 0:\n",
    "    print('{} je dělitelné 3'.format(číslo))\n",
    "elif číslo % 5 == 0:\n",
    "    print('{} je dělitelné 5'.format(číslo))\n",
    "else:\n",
    "    print('Všechny kontroly selhaly!')\n",
    "    print('{} není dělitelné 2, 3 ani 5'.format(číslo))"
   ]
  },
  {
   "cell_type": "markdown",
   "metadata": {},
   "source": [
    "Podmínky lze také kombinovat pomocí logických operátorů `and`,`or` a `not`."
   ]
  },
  {
   "cell_type": "code",
   "execution_count": 25,
   "metadata": {},
   "outputs": [],
   "source": [
    "číslo = 12"
   ]
  },
  {
   "cell_type": "code",
   "execution_count": 26,
   "metadata": {},
   "outputs": [
    {
     "name": "stdout",
     "output_type": "stream",
     "text": [
      "Čislo 12 není dělitelné 5\n"
     ]
    }
   ],
   "source": [
    "if číslo % 3 == 0 and číslo % 5 == 0:\n",
    "    print(\"Číslo {} je dělitelné 3 a 5\".format(číslo))\n",
    "elif not číslo % 5 == 0:\n",
    "    print(\"Čislo {} není dělitelné 5\".format(číslo))"
   ]
  },
  {
   "cell_type": "markdown",
   "metadata": {},
   "source": [
    "### Vnořené podmíněné příkazy\n",
    "\n",
    "Kód uvnitř bloku `if` může také obsahovat příkaz `if`. Tomuto se říká `vnoření` a slouží ke kontrole další podmínky poté, co bude konkrétní podmínka platit."
   ]
  },
  {
   "cell_type": "code",
   "execution_count": 1,
   "metadata": {},
   "outputs": [],
   "source": [
    "číslo = 15"
   ]
  },
  {
   "cell_type": "code",
   "execution_count": 4,
   "metadata": {},
   "outputs": [
    {
     "name": "stdout",
     "output_type": "stream",
     "text": [
      "15 je liché\n",
      "15 je dělitelné 5\n"
     ]
    }
   ],
   "source": [
    "if číslo % 2 == 0:\n",
    "    print(\"{} je sudé\".format(číslo))\n",
    "    if číslo % 3 == 0:\n",
    "        print(\"{} je dělitelné 3\".format(číslo))\n",
    "    else:\n",
    "        print(\"{} není dělitelné 3\".format(číslo))\n",
    "else:\n",
    "    print(\"{} je liché\".format(číslo))\n",
    "    if číslo % 5 == 0:\n",
    "        print(\"{} je dělitelné 5\".format(číslo))\n",
    "    else:\n",
    "        print(\"{} není dělitelné 5\".format(číslo))"
   ]
  },
  {
   "cell_type": "markdown",
   "metadata": {},
   "source": [
    "Všimněte si, že příkazy `print` jsou odsazeny 8 mezerami, což znamená, že jsou součástí vnitřních bloků `if` / `else`.\n",
    "\n",
    "> Vnořené výroky `if`, `else` jsou často při čtení matoucí a náchylné k lidské chybě. Doporučuje se vnoření vyhnout, kdekoli je to možné, nebo ho omezit na vnoření 1 nebo 2 úrovně."
   ]
  },
  {
   "cell_type": "markdown",
   "metadata": {},
   "source": [
    "### Zkrácené `if` podmiňovací výrazy\n",
    "\n",
    "Příkaz `if` se často zahrnuje pro testování podmínky a nastavení hodnoty proměnné na základě dané podmínky."
   ]
  },
  {
   "cell_type": "code",
   "execution_count": 6,
   "metadata": {},
   "outputs": [
    {
     "name": "stdout",
     "output_type": "stream",
     "text": [
      "Číslo 13 je liché.\n"
     ]
    }
   ],
   "source": [
    "číslo = 13\n",
    "\n",
    "if číslo % 2 == 0:\n",
    "    parita = 'sudé'\n",
    "else:\n",
    "    parita = 'liché'\n",
    "\n",
    "print('Číslo {} je {}.'.format(číslo, parita))"
   ]
  },
  {
   "cell_type": "markdown",
   "metadata": {},
   "source": [
    "Python poskytuje kratší syntax, která umožňuje zápis takových podmínek do jednoho řádku kódu. Má následující syntax:\n",
    "\n",
    "```\n",
    "x = true_hodnota if podmínka else false_hodnota\n",
    "```\n",
    "\n",
    "Tento zápis se vyhodnocuje stejně jako tento:\n",
    "\n",
    "```\n",
    "if podmínka:\n",
    "    x = true_hodnota\n",
    "else:\n",
    "    x = false_hodnota\n",
    "```\n",
    "\n",
    "Zkusme si to na příkladu výše."
   ]
  },
  {
   "cell_type": "code",
   "execution_count": 8,
   "metadata": {},
   "outputs": [
    {
     "name": "stdout",
     "output_type": "stream",
     "text": [
      "Číslo 13 je liché.\n"
     ]
    }
   ],
   "source": [
    "parita = \"sudá\" if číslo % 2 == 0 else \"liché\"\n",
    "print('Číslo {} je {}.'.format(číslo, parita))"
   ]
  },
  {
   "cell_type": "markdown",
   "metadata": {},
   "source": [
    "### Výroky a výrazy\n",
    "\n",
    "Podmíněný výraz zdůrazňuje v Pythonu zásadní rozdíl mezi *výroky* a *výrazy*.\n",
    "\n",
    "> **Výroky**: Výrok je instrukce, kterou lze vyhodnotit. Každý řádek kódu, který jsme doposud napsali, je výrokem např. přiřazení proměnné, volání funkce, podmíněné příkazy pomocí `if`,` else` a `elif`, smyčky pomocí` for` a `while` atd.\n",
    "\n",
    "> **Výrazy**: Výraz je část kódu, která nám po vyhodnocení vrátí hodnotu. Mezi příklady patří hodnoty různých datových typů, aritmetické výrazy, podmínky, proměnné, volání funkcí, podmíněné výrazy atd. \n",
    "\n",
    "\n",
    "Většina výrazů může být provedena jako příkazy, ale ne všechny příkazy jsou výrazy. Například běžný příkaz „if“ není výrazem, protože se nevyhodnocuje jako hodnota. Pouze provádí určité větvení v kódu. Podobně ani smyčky a definice funkcí nejsou výrazy (více se o nich dozvíme v dalších částech).\n",
    "\n",
    "Cokoli, co se může objevit na pravé straně operátoru přiřazení `=` je výrazem. Můžete to použít jako test ke kontrole, zda je něco výrazem, nebo není. Pokud se pokusíte přiřadit něco, co není výrazem, zobrazí se syntaktická chyba."
   ]
  },
  {
   "cell_type": "code",
   "execution_count": 10,
   "metadata": {},
   "outputs": [
    {
     "ename": "SyntaxError",
     "evalue": "invalid syntax (<ipython-input-10-e2a7f7ea6a72>, line 2)",
     "output_type": "error",
     "traceback": [
      "\u001b[0;36m  File \u001b[0;32m\"<ipython-input-10-e2a7f7ea6a72>\"\u001b[0;36m, line \u001b[0;32m2\u001b[0m\n\u001b[0;31m    výsledek = if číslo % 2 == 0:\u001b[0m\n\u001b[0m               ^\u001b[0m\n\u001b[0;31mSyntaxError\u001b[0m\u001b[0;31m:\u001b[0m invalid syntax\n"
     ]
    }
   ],
   "source": [
    "# if výrok\n",
    "výsledek = if číslo % 2 == 0: \n",
    "    'sudé'\n",
    "else:\n",
    "    'liché'"
   ]
  },
  {
   "cell_type": "code",
   "execution_count": 11,
   "metadata": {},
   "outputs": [],
   "source": [
    "# if výraz\n",
    "výsledek = 'sudé' if číslo % 2 == 0 else 'liché'"
   ]
  },
  {
   "cell_type": "markdown",
   "metadata": {},
   "source": [
    "### Výrok  `pass` \n",
    "\n",
    "`if` výroky nemohou být prázdné, v každém `if` nebo `elif` bloku musí být alespoň jeden výrok. Mužeme použít výrok `pass`, abychom se vyhnuli chybě, ale na vyhodnocení nemá tento výrok žádný vliv."
   ]
  },
  {
   "cell_type": "code",
   "execution_count": 14,
   "metadata": {},
   "outputs": [],
   "source": [
    "číslo = 9"
   ]
  },
  {
   "cell_type": "code",
   "execution_count": 15,
   "metadata": {},
   "outputs": [
    {
     "ename": "IndentationError",
     "evalue": "expected an indented block (<ipython-input-15-d16d24ee6e90>, line 2)",
     "output_type": "error",
     "traceback": [
      "\u001b[0;36m  File \u001b[0;32m\"<ipython-input-15-d16d24ee6e90>\"\u001b[0;36m, line \u001b[0;32m2\u001b[0m\n\u001b[0;31m    elif číslo % 3 == 0:\u001b[0m\n\u001b[0m    ^\u001b[0m\n\u001b[0;31mIndentationError\u001b[0m\u001b[0;31m:\u001b[0m expected an indented block\n"
     ]
    }
   ],
   "source": [
    "if číslo % 2 == 0:\n",
    "elif číslo % 3 == 0:\n",
    "    print('{} je dělitelné 3, ale není dělitelné 2'.format(číslo))"
   ]
  },
  {
   "cell_type": "code",
   "execution_count": 16,
   "metadata": {},
   "outputs": [
    {
     "name": "stdout",
     "output_type": "stream",
     "text": [
      "9 je dělitelné 3, ale není dělitelné 2\n"
     ]
    }
   ],
   "source": [
    "if číslo % 2 == 0:\n",
    "    pass\n",
    "elif číslo % 3 == 0:\n",
    "    print('{} je dělitelné 3, ale není dělitelné 2'.format(číslo))"
   ]
  },
  {
   "cell_type": "markdown",
   "metadata": {},
   "source": [
    "## Iterace a smyčky s výrazem `while`\n",
    "\n",
    "Další z výhod programovacích jazyků, která úzce souvisí s větvením, je spuštění jednoho nebo více příkazů vícekrát za sebou. Tato funkce se často označuje jako *iterace* nebo *smyčka* a v Pythonu to lze provést dvěma způsoby: pomocí smyček `while` a` for`.\n",
    "\n",
    "smyčky `while` mají následující syntax:\n",
    "\n",
    "```\n",
    "while podmínka:\n",
    "    výraz/výrazy\n",
    "```\n",
    "\n",
    "Příkazy v bloku kódu `while` jsou prováděny opakovaně, pokud je podmínka vyhodnocena jako „True“. Obecně platí, že jeden z příkazů v části `while` provede určitou změnu proměnné, která způsobí, že podmínka bude po určitém počtu iterací vyhodnocena jako `False`.\n",
    "\n",
    "Pokusme se vypočítat faktoriál `100` pomocí smyčky `while`. Faktoriál čísla `n` je součinem (násobením) všech čísel od `1` do `n`, tj. `1 * 2 * 3 * ... * (n-2) * (n-1 ) * n`."
   ]
  },
  {
   "cell_type": "code",
   "execution_count": 17,
   "metadata": {},
   "outputs": [
    {
     "name": "stdout",
     "output_type": "stream",
     "text": [
      "Faktoriál čísla 100 je: 93326215443944152681699238856266700490715968264381621468592963895217599993229915608941463976156518286253697920827223758251185210916864000000000000000000000000\n"
     ]
    }
   ],
   "source": [
    "výsledek = 1\n",
    "i = 1\n",
    "\n",
    "while i <= 100:\n",
    "    výsledek = výsledek * i\n",
    "    i = i + 1\n",
    "    \n",
    "print('Faktoriál čísla 100 je: {}'.format(výsledek))"
   ]
  },
  {
   "cell_type": "markdown",
   "metadata": {},
   "source": [
    "Zde si rozepíšeme, jak se vyhodnocuje výše uvedený kód:\n",
    "\n",
    "* Deklarujeme dvě proměnné, `výsledek` a, `i`. Proměnná `výsledek` bude obsahovat konečný výsledek. Proměnná `i` se používá ke sledování dalšího čísla, které má být vynásobeno `výsledkem`. Obě proměnné jsou deklarovány jako 1 (dokážete vysvětlit proč?)\n",
    "\n",
    "* Podmínka `i <= 100` se vyhodnocuje jako `True` (proměnná `i` byla na začátku nastavena na `1`), vyhodnotí se `while` blok.\n",
    "\n",
    "* Proměnná `výsledek` se mění na `výsledek * i`, `i` se zvýší o `1` a drží tedy teď hodnotu `2`.\n",
    "\n",
    "* V tuto chvíli je podmínka `i <= 100` vyhodnocena znovu. Protože se stále vyhodnocuje jako `True`, `výsledek` se znovu mění na `výsledek * i`, a `i` je zvýšeno na `3`.\n",
    "\n",
    "* Tento proces se opakuje, dokud se podmínka nestane nepravdivou, což se stane, když `i` bude mít hodnotu `101`. Jakmile je podmínka vyhodnocena jako `False`, provádění smyčky končí a je proveden příkaz `print` pod ní.\n",
    "\n",
    "Vidíte, proč `výsledek` na konci obsahuje hodnotu faktoriálu 100? Pokud ne, zkuste přidat příkazy `print` do bloku `while`, aby se v každé iteraci zobrazil `výsledek` a `i`.\n",
    "\n",
    "> Iterace je výkonná technika, protože poskytuje počítačům obrovskou výhodu oproti lidem při provádění tisíců nebo dokonce milionů opakujících se operací opravdu rychle. S pouhými 4-5 řádky kódu jsme byli schopni znásobit 100 čísel téměř okamžitě. Stejný kód lze použít k vynásobení tisíce čísel (stačí změnit podmínku na `i <= 1000`) během několika sekund.\n",
    "\n",
    "Podívejte se, jak dlouho buňce trvá vyhodnocení, přidáním tzv. *magického* příkazu `%% time` v horní části buňky. Zkuste zkontrolovat, jak dlouho trvá výpočet faktoriálu `100`,` 1000`, `10000`,` 100000` atd."
   ]
  },
  {
   "cell_type": "code",
   "execution_count": 21,
   "metadata": {},
   "outputs": [
    {
     "name": "stdout",
     "output_type": "stream",
     "text": [
      "402387260077093773543702433923003985719374864210714632543799910429938512398629020592044208486969404800479988610197196058631666872994808558901323829669944590997424504087073759918823627727188732519779505950995276120874975462497043601418278094646496291056393887437886487337119181045825783647849977012476632889835955735432513185323958463075557409114262417474349347553428646576611667797396668820291207379143853719588249808126867838374559731746136085379534524221586593201928090878297308431392844403281231558611036976801357304216168747609675871348312025478589320767169132448426236131412508780208000261683151027341827977704784635868170164365024153691398281264810213092761244896359928705114964975419909342221566832572080821333186116811553615836546984046708975602900950537616475847728421889679646244945160765353408198901385442487984959953319101723355556602139450399736280750137837615307127761926849034352625200015888535147331611702103968175921510907788019393178114194545257223865541461062892187960223838971476088506276862967146674697562911234082439208160153780889893964518263243671616762179168909779911903754031274622289988005195444414282012187361745992642956581746628302955570299024324153181617210465832036786906117260158783520751516284225540265170483304226143974286933061690897968482590125458327168226458066526769958652682272807075781391858178889652208164348344825993266043367660176999612831860788386150279465955131156552036093988180612138558600301435694527224206344631797460594682573103790084024432438465657245014402821885252470935190620929023136493273497565513958720559654228749774011413346962715422845862377387538230483865688976461927383814900140767310446640259899490222221765904339901886018566526485061799702356193897017860040811889729918311021171229845901641921068884387121855646124960798722908519296819372388642614839657382291123125024186649353143970137428531926649875337218940694281434118520158014123344828015051399694290153483077644569099073152433278288269864602789864321139083506217095002597389863554277196742822248757586765752344220207573630569498825087968928162753848863396909959826280956121450994871701244516461260379029309120889086942028510640182154399457156805941872748998094254742173582401063677404595741785160829230135358081840096996372524230560855903700624271243416909004153690105933983835777939410970027753472000000000000000000000000000000000000000000000000000000000000000000000000000000000000000000000000000000000000000000000000000000000000000000000000000000000000000000000000000000000000000000000000000000000000000000000000000000000000000000000000000000000\n",
      "CPU times: user 633 µs, sys: 0 ns, total: 633 µs\n",
      "Wall time: 611 µs\n"
     ]
    }
   ],
   "source": [
    "%%time\n",
    "\n",
    "výsledek = 1\n",
    "i = 1\n",
    "\n",
    "while i <= 1000:\n",
    "    výsledek = výsledek * i\n",
    "    i = i + 1\n",
    "    \n",
    "print(výsledek)"
   ]
  },
  {
   "cell_type": "markdown",
   "metadata": {},
   "source": [
    "Zde je další příklad, který k vytvoření zajímavého vzoru používá dvě smyčky `while`."
   ]
  },
  {
   "cell_type": "code",
   "execution_count": 22,
   "metadata": {},
   "outputs": [
    {
     "name": "stdout",
     "output_type": "stream",
     "text": [
      "*\n",
      "**\n",
      "***\n",
      "****\n",
      "*****\n",
      "******\n",
      "*******\n",
      "********\n",
      "*********\n",
      "**********\n",
      "***********\n",
      "**********\n",
      "*********\n",
      "********\n",
      "*******\n",
      "******\n",
      "*****\n",
      "****\n",
      "***\n",
      "**\n",
      "*\n"
     ]
    }
   ],
   "source": [
    "čára = '*'\n",
    "maximální_délka = 10\n",
    "\n",
    "while len(čára) <= maximální_délka:\n",
    "    print(čára)\n",
    "    čára += \"*\"\n",
    "    \n",
    "while len(čára) > 0:\n",
    "    print(čára)\n",
    "    čára = čára[:-1]"
   ]
  },
  {
   "cell_type": "markdown",
   "metadata": {},
   "source": [
    "Vidíte, jak funguje výše uvedený příklad? Jako cvičení zkuste zobrazit následující vzor pomocí smyčky while (použijte konkatinaci stringů):\n",
    "\n",
    "```\n",
    "          *\n",
    "         **\n",
    "        ***\n",
    "       ****\n",
    "      *****\n",
    "     ******\n",
    "      *****\n",
    "       ****\n",
    "        ***\n",
    "         **\n",
    "          *\n",
    "```\n",
    "\n",
    "Potom je zkuste spojit dohromady:\n",
    "\n",
    "\n",
    "```\n",
    "          *\n",
    "         ***\n",
    "        *****\n",
    "       *******\n",
    "      *********\n",
    "     ***********\n",
    "      *********\n",
    "       *******\n",
    "        *****\n",
    "         ***\n",
    "          *\n",
    "```"
   ]
  },
  {
   "cell_type": "markdown",
   "metadata": {},
   "source": [
    "### Nekonečné smyčky\n",
    "\n",
    "Představte si, že se podmínka uvnitř smyčky `while` vždy vyhodnotí jako pravdivá. V tom případě bude Python tuto smyčku vyhodnocovat donekonečna, a vyhodnocovací proces tedy nikdy neskončí. Této situaci se říká nekonečná smyčka. Obecně to znamená, že jste někde ve svém kódu udělali chybu. Možná jste zadali špatnou podmínku nebo jste zapomněli měnit proměnnou uvnitř smyčky, která by změnila hodnotu podmínky na `False`.\n",
    "\n",
    "Pokud se ocitnete v této situaci, stačí zmáčknout tlačítko *stop* na ovládací paletě nebo vybrat \"Kernel > Interrupt\" z menu. Takto přerušíte vyhodnocování kódu. Následující dvě buňky obě vedou na nekonečné smyčky a budou muset být přerušeny."
   ]
  },
  {
   "cell_type": "code",
   "execution_count": 23,
   "metadata": {},
   "outputs": [
    {
     "ename": "KeyboardInterrupt",
     "evalue": "",
     "output_type": "error",
     "traceback": [
      "\u001b[0;31m---------------------------------------------------------------------------\u001b[0m",
      "\u001b[0;31mKeyboardInterrupt\u001b[0m                         Traceback (most recent call last)",
      "\u001b[0;32m<ipython-input-23-18ee78de2c43>\u001b[0m in \u001b[0;36m<module>\u001b[0;34m\u001b[0m\n\u001b[1;32m      4\u001b[0m \u001b[0mi\u001b[0m \u001b[0;34m=\u001b[0m \u001b[0;36m1\u001b[0m\u001b[0;34m\u001b[0m\u001b[0;34m\u001b[0m\u001b[0m\n\u001b[1;32m      5\u001b[0m \u001b[0;34m\u001b[0m\u001b[0m\n\u001b[0;32m----> 6\u001b[0;31m \u001b[0;32mwhile\u001b[0m \u001b[0mi\u001b[0m \u001b[0;34m<=\u001b[0m \u001b[0;36m100\u001b[0m\u001b[0;34m:\u001b[0m\u001b[0;34m\u001b[0m\u001b[0;34m\u001b[0m\u001b[0m\n\u001b[0m\u001b[1;32m      7\u001b[0m     \u001b[0mvýsledek\u001b[0m \u001b[0;34m=\u001b[0m \u001b[0mvýsledek\u001b[0m \u001b[0;34m*\u001b[0m \u001b[0mi\u001b[0m\u001b[0;34m\u001b[0m\u001b[0;34m\u001b[0m\u001b[0m\n\u001b[1;32m      8\u001b[0m     \u001b[0;31m# zapomněli jsme navyšovat inkrement i\u001b[0m\u001b[0;34m\u001b[0m\u001b[0;34m\u001b[0m\u001b[0;34m\u001b[0m\u001b[0m\n",
      "\u001b[0;31mKeyboardInterrupt\u001b[0m: "
     ]
    }
   ],
   "source": [
    "# Nekonečná smyčka -  přerušte tuto buňku\n",
    "\n",
    "výsledek = 1\n",
    "i = 1\n",
    "\n",
    "while i <= 100:\n",
    "    výsledek = výsledek * i\n",
    "    # zapomněli jsme navyšovat inkrement i"
   ]
  },
  {
   "cell_type": "code",
   "execution_count": 24,
   "metadata": {},
   "outputs": [
    {
     "ename": "KeyboardInterrupt",
     "evalue": "",
     "output_type": "error",
     "traceback": [
      "\u001b[0;31m---------------------------------------------------------------------------\u001b[0m",
      "\u001b[0;31mKeyboardInterrupt\u001b[0m                         Traceback (most recent call last)",
      "\u001b[0;32m<ipython-input-24-28d9b00d659f>\u001b[0m in \u001b[0;36m<module>\u001b[0;34m\u001b[0m\n\u001b[1;32m      5\u001b[0m \u001b[0;34m\u001b[0m\u001b[0m\n\u001b[1;32m      6\u001b[0m \u001b[0;32mwhile\u001b[0m \u001b[0mi\u001b[0m \u001b[0;34m>\u001b[0m \u001b[0;36m0\u001b[0m \u001b[0;34m:\u001b[0m \u001b[0;31m# špatně zadaná podmínka\u001b[0m\u001b[0;34m\u001b[0m\u001b[0;34m\u001b[0m\u001b[0m\n\u001b[0;32m----> 7\u001b[0;31m     \u001b[0mvýsledek\u001b[0m \u001b[0;34m*=\u001b[0m \u001b[0mi\u001b[0m\u001b[0;34m\u001b[0m\u001b[0;34m\u001b[0m\u001b[0m\n\u001b[0m\u001b[1;32m      8\u001b[0m     \u001b[0mi\u001b[0m \u001b[0;34m+=\u001b[0m \u001b[0;36m1\u001b[0m\u001b[0;34m\u001b[0m\u001b[0;34m\u001b[0m\u001b[0m\n",
      "\u001b[0;31mKeyboardInterrupt\u001b[0m: "
     ]
    }
   ],
   "source": [
    "# Nekonečná smyčka -  přerušte tuto buňku\n",
    "\n",
    "výsledek = 1\n",
    "i = 1\n",
    "\n",
    "while i > 0 : # špatně zadaná podmínka\n",
    "    výsledek *= i\n",
    "    i += 1"
   ]
  },
  {
   "cell_type": "markdown",
   "metadata": {},
   "source": [
    "### Výroky `break` a `continue`\n",
    "\n",
    "Můžete použít výrok `break` uvnitř smyčky, abyste okamžite přerušili její vyhodnocení (i pokud je podmínka smyčky stále pravdivá."
   ]
  },
  {
   "cell_type": "code",
   "execution_count": 25,
   "metadata": {},
   "outputs": [
    {
     "name": "stdout",
     "output_type": "stream",
     "text": [
      "Ha! Číslo 42! Přerušuji smyčku!\n",
      "i: 42\n",
      "výsledek: 1405006117752879898543142606244511569936384000000000\n"
     ]
    }
   ],
   "source": [
    "i = 1\n",
    "výsledek = 1\n",
    "\n",
    "while i <= 100:\n",
    "    výsledek *= i\n",
    "    if i == 42:\n",
    "        print('Ha! Číslo 42! Přerušuji smyčku!')\n",
    "        break\n",
    "    i += 1\n",
    "    \n",
    "print('i:', i)\n",
    "print('výsledek:', výsledek)"
   ]
  },
  {
   "cell_type": "markdown",
   "metadata": {},
   "source": [
    "Určitě jste si všimli, že se hodnota `i` zastavila na 42. Tento příklad nám také ukazuje, jak můžeme použít výraz `if` uvnitř smyčky `while`.\n",
    "\n",
    "Někdy nebudete chtít smyčku přerušit úplně, ale jednoduše budete chtít přeskočit zbylá trvzení uvnitř smyčky a *pokračovat* na další cyklus. Dosáhnete toho pomocí výrazu `continue`."
   ]
  },
  {
   "cell_type": "code",
   "execution_count": 4,
   "metadata": {},
   "outputs": [
    {
     "name": "stdout",
     "output_type": "stream",
     "text": [
      "Přeskakuji 2\n",
      "Násobím pomocí 3\n",
      "Přeskakuji 4\n",
      "Násobím pomocí 5\n",
      "Přeskakuji 6\n",
      "Násobím pomocí 7\n",
      "Přeskakuji 8\n",
      "Násobím pomocí 9\n",
      "Přeskakuji 10\n",
      "i: 10\n",
      "result: 945\n"
     ]
    }
   ],
   "source": [
    "i = 1\n",
    "výsledek = 1\n",
    "\n",
    "while i < 10:\n",
    "    i += 1\n",
    "    if i % 2 == 0:\n",
    "        print('Přeskakuji {}'.format(i))\n",
    "        continue\n",
    "    print('Násobím pomocí {}'.format(i))\n",
    "    výsledek = výsledek * i\n",
    "    \n",
    "print('i:', i)\n",
    "print('result:', výsledek)"
   ]
  },
  {
   "cell_type": "markdown",
   "metadata": {},
   "source": [
    "Na příkladu výše je tvrzení `result = result * i` uvnitř smyčky přeskočeno, pokud je `i` liché. \n",
    "\n",
    "> **Logging**: Proces přidávání příkazů `print` v různých bodech kódu (často v rámci smyček a podmíněných příkazů) pro kontrolu hodnot proměnných v různých fázích provádění se nazývá logging. Jak se naše programy zvětšují, přirozeně se stávají náchylnými k lidským chybám. Logging může pomoci při ověřování, zda program funguje podle očekávání. V mnoha případech jsou příkazy `print` přidány během psaní a testování nějakého kódu a později jsou odstraněny."
   ]
  },
  {
   "cell_type": "markdown",
   "metadata": {},
   "source": [
    "## Iterace pomoccí smyček `for`\n",
    "\n",
    "Smyčka `for` se používá, pokud chcete iterovat přes nějakou sekvenci, jako například seznam, tuple, slovník, string nebo přes *řady*. Smyčky `for` mají následující syntax. \n",
    "```\n",
    "for hodnota in sekvenci:\n",
    "    tvrzení\n",
    "```\n",
    "Tvrzení v rámci smyčky jsou vyhodnoceny pro každý prvek uvnitř `sekvence`. V další buňce je příklad, který zobrazuje postupně každý prvek uvnitř seznamu."
   ]
  },
  {
   "cell_type": "code",
   "execution_count": 27,
   "metadata": {},
   "outputs": [
    {
     "name": "stdout",
     "output_type": "stream",
     "text": [
      "Pondělí\n",
      "Úterý\n",
      "Středa\n",
      "Čtvrtek\n",
      "Pátek\n"
     ]
    }
   ],
   "source": [
    "dny = ['Pondělí', 'Úterý', 'Středa', 'Čtvrtek', 'Pátek']\n",
    "\n",
    "for den in dny:\n",
    "    print(den)"
   ]
  },
  {
   "cell_type": "markdown",
   "metadata": {},
   "source": [
    "Vyzkoušejme si smyčky `for` s jinými datovými typy."
   ]
  },
  {
   "cell_type": "code",
   "execution_count": 28,
   "metadata": {},
   "outputs": [
    {
     "name": "stdout",
     "output_type": "stream",
     "text": [
      "P\n",
      "o\n",
      "n\n",
      "d\n",
      "ě\n",
      "l\n",
      "í\n"
     ]
    }
   ],
   "source": [
    "for písmeno in 'Pondělí':\n",
    "    print(písmeno)"
   ]
  },
  {
   "cell_type": "code",
   "execution_count": 29,
   "metadata": {},
   "outputs": [
    {
     "name": "stdout",
     "output_type": "stream",
     "text": [
      "Ovoce: Jablko\n",
      "Ovoce: Banán\n",
      "Ovoce: Mandarinka\n"
     ]
    }
   ],
   "source": [
    "for ovoce in ('Jablko', 'Banán', 'Mandarinka'):\n",
    "    print(\"Ovoce:\", ovoce)"
   ]
  },
  {
   "cell_type": "code",
   "execution_count": 30,
   "metadata": {},
   "outputs": [
    {
     "name": "stdout",
     "output_type": "stream",
     "text": [
      "Klíč: jméno , Hodnota: Jan Novák\n",
      "Klíč: pohlaví , Hodnota: Muž\n",
      "Klíč: věk , Hodnota: 32\n"
     ]
    }
   ],
   "source": [
    "osoba = {\n",
    "    'jméno': 'Jan Novák',\n",
    "    'pohlaví': 'Muž',\n",
    "    'věk': 32,\n",
    "}\n",
    "\n",
    "for klíč in osoba:\n",
    "    print(\"Klíč:\", klíč, \",\", \"Hodnota:\", osoba[klíč])"
   ]
  },
  {
   "cell_type": "markdown",
   "metadata": {},
   "source": [
    "Všimněte si, že při používání slovníku se smyčkou `for` se iterace děje přes klíče slovníku. Klíč lze použít ve smyčce pro přístup k hodnotě. Můžete také iterovat přímo nad hodnotami pomocí metody `.values` nebo přes páry klíč – hodnota pomocí metody `.items`."
   ]
  },
  {
   "cell_type": "code",
   "execution_count": 31,
   "metadata": {},
   "outputs": [
    {
     "name": "stdout",
     "output_type": "stream",
     "text": [
      "Jan Novák\n",
      "Muž\n",
      "32\n"
     ]
    }
   ],
   "source": [
    "for hodnota in osoba.values():\n",
    "    print(hodnota)"
   ]
  },
  {
   "cell_type": "code",
   "execution_count": 32,
   "metadata": {},
   "outputs": [
    {
     "name": "stdout",
     "output_type": "stream",
     "text": [
      "('jméno', 'Jan Novák')\n",
      "('pohlaví', 'Muž')\n",
      "('věk', 32)\n"
     ]
    }
   ],
   "source": [
    "for klíč_hodnota in osoba.items():\n",
    "    print(klíč_hodnota)"
   ]
  },
  {
   "cell_type": "markdown",
   "metadata": {},
   "source": [
    "Protože pár klíč – hodnota je tuple, můžeme také extrahovat klíč a hodnotu do samostatných proměnných."
   ]
  },
  {
   "cell_type": "code",
   "execution_count": 33,
   "metadata": {},
   "outputs": [
    {
     "name": "stdout",
     "output_type": "stream",
     "text": [
      "Klíč: jméno , Hodnota: Jan Novák\n",
      "Klíč: pohlaví , Hodnota: Muž\n",
      "Klíč: věk , Hodnota: 32\n"
     ]
    }
   ],
   "source": [
    "for klíč, hodnota in osoba.items():\n",
    "    print(\"Klíč:\", klíč, \",\", \"Hodnota:\", hodnota)"
   ]
  },
  {
   "cell_type": "markdown",
   "metadata": {},
   "source": [
    "### Iterace za použití funkcí `range` a `enumerate`\n",
    "\n",
    "Funkce `range` se používá k vytvoření sekvence čísel, přes které můžeme iterovat pomocí smyčky `for`. Existují tři způsoby jak tuto funkci použít:\n",
    " \n",
    "* `range(n)` - Vytvoří sekvenci čísel od `0` po `n-1`\n",
    "* `range(a, b)` - Vytvoří sekvenci čísel od `a` do `b-1`\n",
    "* `range(a, b, schod)` - Vytvoří sekvenci čísel od `a` do `b-1` se schodkem `schod`\n",
    "\n",
    "Pojďme si to vyzkoušet!"
   ]
  },
  {
   "cell_type": "code",
   "execution_count": 34,
   "metadata": {},
   "outputs": [
    {
     "name": "stdout",
     "output_type": "stream",
     "text": [
      "0\n",
      "1\n",
      "2\n",
      "3\n",
      "4\n",
      "5\n",
      "6\n"
     ]
    }
   ],
   "source": [
    "for i in range(7):\n",
    "    print(i)"
   ]
  },
  {
   "cell_type": "code",
   "execution_count": 35,
   "metadata": {},
   "outputs": [
    {
     "name": "stdout",
     "output_type": "stream",
     "text": [
      "3\n",
      "4\n",
      "5\n",
      "6\n",
      "7\n",
      "8\n",
      "9\n"
     ]
    }
   ],
   "source": [
    "for i in range(3, 10):\n",
    "    print(i)"
   ]
  },
  {
   "cell_type": "code",
   "execution_count": 36,
   "metadata": {},
   "outputs": [
    {
     "name": "stdout",
     "output_type": "stream",
     "text": [
      "3\n",
      "7\n",
      "11\n"
     ]
    }
   ],
   "source": [
    "for i in range(3, 14, 4):\n",
    "    print(i)"
   ]
  },
  {
   "cell_type": "markdown",
   "metadata": {},
   "source": [
    "Rozsahy se používají pro iteraci seznamů, když potřebujete sledovat index prvků při iteraci."
   ]
  },
  {
   "cell_type": "code",
   "execution_count": 37,
   "metadata": {},
   "outputs": [
    {
     "data": {
      "text/plain": [
       "['Pondělí', 'Úterý', 'Středa', 'Čtvrtek', 'Pátek']"
      ]
     },
     "execution_count": 37,
     "metadata": {},
     "output_type": "execute_result"
    }
   ],
   "source": [
    "dny"
   ]
  },
  {
   "cell_type": "code",
   "execution_count": 38,
   "metadata": {},
   "outputs": [
    {
     "name": "stdout",
     "output_type": "stream",
     "text": [
      "Hodnota na pozici 0 je Pondělí.\n",
      "Hodnota na pozici 1 je Úterý.\n",
      "Hodnota na pozici 2 je Středa.\n",
      "Hodnota na pozici 3 je Čtvrtek.\n",
      "Hodnota na pozici 4 je Pátek.\n"
     ]
    }
   ],
   "source": [
    "for i in range(len(dny)):\n",
    "    print('Hodnota na pozici {} je {}.'.format(i, dny[i]))"
   ]
  },
  {
   "cell_type": "markdown",
   "metadata": {},
   "source": [
    "Dalším způsobem, jak dosáhnout stejného výsledku, je použití funkce `enumerate` s `dny` jako vstupem, který vrací tuple obsahující index a odpovídající prvek."
   ]
  },
  {
   "cell_type": "code",
   "execution_count": 39,
   "metadata": {},
   "outputs": [
    {
     "name": "stdout",
     "output_type": "stream",
     "text": [
      "Hodnota na pozici 0 je Pondělí.\n",
      "Hodnota na pozici 1 je Úterý.\n",
      "Hodnota na pozici 2 je Středa.\n",
      "Hodnota na pozici 3 je Čtvrtek.\n",
      "Hodnota na pozici 4 je Pátek.\n"
     ]
    }
   ],
   "source": [
    "for i, hodnota in enumerate(dny):\n",
    "    print('Hodnota na pozici {} je {}.'.format(i, hodnota))"
   ]
  },
  {
   "cell_type": "markdown",
   "metadata": {},
   "source": [
    "### Výroky `break`, `continue` a `pass` \n",
    "\n",
    "Podobně jako u smyček `while` také smyčky `for` podporují výroky `break` a `continue`. `Break` se používá pro ukončení smyčky a `continue` se používá pro přeskočení částí a pokračování na další cyklus."
   ]
  },
  {
   "cell_type": "code",
   "execution_count": 40,
   "metadata": {},
   "outputs": [
    {
     "data": {
      "text/plain": [
       "['Pondělí', 'Úterý', 'Středa', 'Čtvrtek', 'Pátek']"
      ]
     },
     "execution_count": 40,
     "metadata": {},
     "output_type": "execute_result"
    }
   ],
   "source": [
    "dny"
   ]
  },
  {
   "cell_type": "code",
   "execution_count": 41,
   "metadata": {},
   "outputs": [
    {
     "name": "stdout",
     "output_type": "stream",
     "text": [
      "Dnes je Pondělí\n",
      "Dnes je Úterý\n",
      "Dnes je Středa\n",
      "Od Středy nepracuji\n"
     ]
    }
   ],
   "source": [
    "for den in dny:\n",
    "    print('Dnes je {}'.format(den))\n",
    "    if (den == 'Středa'):\n",
    "        print(\"Od Středy nepracuji\")\n",
    "        break"
   ]
  },
  {
   "cell_type": "code",
   "execution_count": 43,
   "metadata": {},
   "outputs": [
    {
     "name": "stdout",
     "output_type": "stream",
     "text": [
      "Dnes je Pondělí\n",
      "Dnes je Úterý\n",
      "Ve Středu nepracuji\n",
      "Dnes je Čtvrtek\n",
      "Dnes je Pátek\n"
     ]
    }
   ],
   "source": [
    "for den in dny:\n",
    "    if (den == 'Středa'):\n",
    "        print(\"Ve Středu nepracuji\")\n",
    "        continue\n",
    "    print('Dnes je {}'.format(den))"
   ]
  },
  {
   "cell_type": "markdown",
   "metadata": {},
   "source": [
    "Stejně jako příkazy `if` nemohou být smyčky `for` prázdné, takže můžete použít výraz `pass`, pokud nechcete ve smyčce provádět žádné příkazy."
   ]
  },
  {
   "cell_type": "code",
   "execution_count": 44,
   "metadata": {},
   "outputs": [],
   "source": [
    "for den in dny:\n",
    "    pass"
   ]
  },
  {
   "cell_type": "markdown",
   "metadata": {},
   "source": [
    "### Vnořené smyčky  `for` a `while`\n",
    "\n",
    "Podobně jako podmíněné příkazy mohou být smyčky vnořeny do jiných smyček. To je užitečné pro iterování přes seznamy seznamů, slovníků atd."
   ]
  },
  {
   "cell_type": "code",
   "execution_count": 45,
   "metadata": {},
   "outputs": [
    {
     "name": "stdout",
     "output_type": "stream",
     "text": [
      "jméno : Jan\n",
      "pohlaví : muž\n",
      " \n",
      "jméno : Jana\n",
      "pohlaví : žena\n",
      " \n"
     ]
    }
   ],
   "source": [
    "osoby = [{'jméno': 'Jan', 'pohlaví': 'muž'}, {'jméno': 'Jana', 'pohlaví': 'žena'}]\n",
    "\n",
    "for osoba in osoby:\n",
    "    for klíč in osoba:\n",
    "        print(klíč, \":\", osoba[klíč])\n",
    "    print(\" \")"
   ]
  },
  {
   "cell_type": "code",
   "execution_count": 46,
   "metadata": {},
   "outputs": [
    {
     "name": "stdout",
     "output_type": "stream",
     "text": [
      "Pondělí jabklo\n",
      "Pondělí banán\n",
      "Pondělí mandarinka\n",
      "Úterý jabklo\n",
      "Úterý banán\n",
      "Úterý mandarinka\n",
      "Středa jabklo\n",
      "Středa banán\n",
      "Středa mandarinka\n"
     ]
    }
   ],
   "source": [
    "dny = ['Pondělí', 'Úterý', 'Středa']\n",
    "ovoce = ['jabklo', 'banán', 'mandarinka']\n",
    "\n",
    "for den in dny:\n",
    "    for kus_ovoce in ovoce:\n",
    "        print(den, kus_ovoce)"
   ]
  }
 ],
 "metadata": {
  "kernelspec": {
   "display_name": "Python 3",
   "language": "python",
   "name": "python3"
  },
  "language_info": {
   "codemirror_mode": {
    "name": "ipython",
    "version": 3
   },
   "file_extension": ".py",
   "mimetype": "text/x-python",
   "name": "python",
   "nbconvert_exporter": "python",
   "pygments_lexer": "ipython3",
   "version": "3.8.3"
  }
 },
 "nbformat": 4,
 "nbformat_minor": 4
}
