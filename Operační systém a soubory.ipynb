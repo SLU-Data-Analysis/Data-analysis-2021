{
 "cells": [
  {
   "cell_type": "markdown",
   "metadata": {},
   "source": [
    "# Čtení a zápis do souborů pomocí Pythonu\n",
    "\n",
    "V této lekci najdete:\n",
    "\n",
    "- Interakce se systémovými soubory pomocí modulu `os`\n",
    "- Stahování souborů z internetu pomocí modulu `urllib`\n",
    "- Opětovné použití funkcí a použití funkcí základní knihovny Pythonu\n",
    "- Analýza dat ze souborů CSV do slovníků a seznamů\n",
    "- Zápis formátovaných dat zpět do textových souborů\n",
    "\n",
    "## Interakce s operačním systémem a soubory\n",
    "\n",
    "Modul `os` v Pythonu poskytuje mnoho funkcí pro interakci s operačním systémem a souborovy. Importujeme tento modul a vyzkoušíme."
   ]
  },
  {
   "cell_type": "code",
   "execution_count": 1,
   "metadata": {},
   "outputs": [],
   "source": [
    "import os"
   ]
  },
  {
   "cell_type": "code",
   "execution_count": null,
   "metadata": {},
   "outputs": [],
   "source": []
  }
 ],
 "metadata": {
  "kernelspec": {
   "display_name": "Python 3",
   "language": "python",
   "name": "python3"
  },
  "language_info": {
   "codemirror_mode": {
    "name": "ipython",
    "version": 3
   },
   "file_extension": ".py",
   "mimetype": "text/x-python",
   "name": "python",
   "nbconvert_exporter": "python",
   "pygments_lexer": "ipython3",
   "version": "3.8.3"
  }
 },
 "nbformat": 4,
 "nbformat_minor": 4
}
