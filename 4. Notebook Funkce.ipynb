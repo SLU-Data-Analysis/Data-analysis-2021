{
 "cells": [
  {
   "cell_type": "markdown",
   "metadata": {},
   "source": [
    "# Použití funkcí v Pythonu"
   ]
  },
  {
   "cell_type": "markdown",
   "metadata": {},
   "source": [
    "V této části se seznámíme s:\n",
    "\n",
    "- Vytváření a používání funkcí v Pythonu\n",
    "- Lokální proměnné, return hodnoty a volitelné argumenty\n",
    "- Opětovné použití funkcí a použití funkcí základní knihovny Pythonu\n",
    "- Práce s vyjímkami za použití `try`-`except` bloků"
   ]
  },
  {
   "cell_type": "markdown",
   "metadata": {},
   "source": [
    "## Vytváření funkcí v Pythonu a jejich používání\n",
    "\n",
    "Funkce je sada pokynů, která přijímá jeden nebo více vstupů, provádí některé operace, často vrací výstup a je opakovaně použitelná. Python obsahuje mnoho vestavěných funkcí, jako je `print`, `len` atd. a umožňuje definovat nové."
   ]
  },
  {
   "cell_type": "code",
   "execution_count": 2,
   "metadata": {},
   "outputs": [
    {
     "name": "stdout",
     "output_type": "stream",
     "text": [
      "Dnes je Čtvrtek\n"
     ]
    }
   ],
   "source": [
    "dnes = \"Čtvrtek\"\n",
    "print(\"Dnes je\", dnes)"
   ]
  },
  {
   "cell_type": "markdown",
   "metadata": {},
   "source": [
    "Novou funkci můžete definovat pomocí klíčového slova `def`."
   ]
  },
  {
   "cell_type": "code",
   "execution_count": 3,
   "metadata": {},
   "outputs": [],
   "source": [
    "def pozdrav():\n",
    "    print(\"Ahoj!\")\n",
    "    print(\"Jak se máš?\")"
   ]
  },
  {
   "cell_type": "code",
   "execution_count": 4,
   "metadata": {},
   "outputs": [
    {
     "name": "stdout",
     "output_type": "stream",
     "text": [
      "Ahoj!\n",
      "Jak se máš?\n"
     ]
    }
   ],
   "source": [
    "pozdrav()"
   ]
  },
  {
   "cell_type": "markdown",
   "metadata": {},
   "source": [
    "Všimněte si kulatých závorek `()` a dvojtečky `:` za jménem funkce. Obě jsou podstatnou součástí syntaxe. *Tělo* funkce obsahuje odsazený blok tvrzení. Po definování funkce se tvrzení uvnitř nevyhodnotí. Abychom tato tvrzení vyhodnotili, musíme funkci *vyvolat*."
   ]
  },
  {
   "cell_type": "markdown",
   "metadata": {},
   "source": [
    "### Argumenty funkce\n",
    "\n",
    "Funkce mohou být vytvořeny bez *vstupů* nebo s mnoha *vstupy* (Také se jim říká *argumenty* nebo *parametry* funkce). Parametry funkce nám pomáhají psát funkce, které mohou provádět stejné operace na různých hodnotách. Funkce nám také mohou vrátit výsledek (*return* hodnotu), který lze uložit do proměnné nebo použít v jiných výrazech.\n",
    "\n",
    "Následuje funkce, která odfiltruje ze seznamu sudá čísla a vrátí nový seznam pomocí klíčového slova `return`."
   ]
  },
  {
   "cell_type": "code",
   "execution_count": 13,
   "metadata": {},
   "outputs": [],
   "source": [
    "def vyber_sudé(číselný_list):\n",
    "    výsledný_list = []\n",
    "    for číslo in číselný_list:\n",
    "        if číslo % 2 == 0:\n",
    "            výsledný_list.append(číslo)\n",
    "    return výsledný_list"
   ]
  },
  {
   "cell_type": "markdown",
   "metadata": {},
   "source": [
    "Rozumíte tomu, co funkce dělá, když se podíváte na kód? Pokud ne, zkuste provést každý řádek těla funkce samostatně v buňce kódu se skutečným seznamem čísel namísto `číselný_list`."
   ]
  },
  {
   "cell_type": "code",
   "execution_count": 14,
   "metadata": {},
   "outputs": [],
   "source": [
    "sudý_list = vyber_sudé([1, 2, 3, 4, 5, 6, 7])"
   ]
  },
  {
   "cell_type": "code",
   "execution_count": 15,
   "metadata": {},
   "outputs": [
    {
     "data": {
      "text/plain": [
       "[2, 4, 6]"
      ]
     },
     "execution_count": 15,
     "metadata": {},
     "output_type": "execute_result"
    }
   ],
   "source": [
    "sudý_list"
   ]
  },
  {
   "cell_type": "markdown",
   "metadata": {},
   "source": [
    "## Jak psát efektivní funkce v Pythonu\n",
    "\n",
    "Jako datový analytik strávíte hodně času psaním a používáním funkcí. Python nabízí mnoho vlastností, díky nimž budou vaše funkce výkonné a flexibilní. Prozkoumejme některé z nich řešením tohoto problému:\n",
    "\n",
    "> Radek plánuje koupit dům, který stojí `1 260 000 korun`. Zvažuje dvě možnosti financování svého nákupu:\n",
    ">\n",
    "> * Volba 1: Zaplatit `300,000 korun` a na zbytek si vzít 8letou půjčku s úrokovou sazbou 10 % (s měsíčním úročením).\n",
    "> * Volba 2: Vzít si 10letou půjčku s úrokovou sazbou 10 % (s měsíčním úročením) na celou částku.\n",
    ">\n",
    "> Obě tyto půjčky se splácejí ve stejných měsíčních splátkách (SMS). Která půjčka má nižší SMS?\n",
    "\n",
    "Jelikož musíme porovnat SMS pro dvě možnosti, dobrý nápad bude definovat funkci pro výpočet SMS půjčky. Vstupy do funkce budou náklady na dům, záloha, doba trvání půjčky, úroková sazba atd. Tuto funkci sestavíme krok za krokem.\n",
    "\n",
    "Nejprve si napíšeme jednoduchou funkci, která vypočítá SMS z celkových nákladů domu, za předpokladu, že půjčka musí být splacena do jednoho roku, a to bez úroku nebo zálohy."
   ]
  },
  {
   "cell_type": "code",
   "execution_count": 16,
   "metadata": {},
   "outputs": [],
   "source": [
    "def půjčka_sms(částka):\n",
    "    sms = částka / 12\n",
    "    print('SMS půjčky je {} korun'.format(sms))"
   ]
  },
  {
   "cell_type": "code",
   "execution_count": 17,
   "metadata": {},
   "outputs": [
    {
     "name": "stdout",
     "output_type": "stream",
     "text": [
      "SMS půjčky je 105000.0 korun\n"
     ]
    }
   ],
   "source": [
    "půjčka_sms(1260000)"
   ]
  },
  {
   "cell_type": "markdown",
   "metadata": {},
   "source": [
    "### Lokální proměnné a rozsah\n",
    "\n",
    "Přidejme druhý argument, který zohlední dobu trvání půjčky v měsících."
   ]
  },
  {
   "cell_type": "code",
   "execution_count": 18,
   "metadata": {},
   "outputs": [],
   "source": [
    "def půjčka_sms(částka, délka):\n",
    "    sms = částka / délka\n",
    "    print('SMS půjčky je {} korun'.format(sms))"
   ]
  },
  {
   "cell_type": "markdown",
   "metadata": {},
   "source": [
    "Všimněte si, že proměnná `sms` definovaná uvnitř funkce není přístupná mimo tuto funkci. To samé platí pro parametry `částka` a `délka`. Toto jsou všechno *lokální proměnné*, které leží v *rozsahu* funkce.\n",
    "\n",
    "> **Rozsah**: Rozsah odkazuje na oblast v kódu, kde je přístupná konkrétní lokální proměnná. Každá funkce (nebo definice třídy) definuje rozsah v Pythonu. Proměnné v takovém rozsahu se nazývají *lokální proměnné*. Proměnné, které jsou dostupné odkudkoliv se nazývají *globální proměnné*. Rozsah nám umožňuje použít stejná jména pro proměnné v různých funkcích bez toho, aniž by se sama ovlivňovala."
   ]
  },
  {
   "cell_type": "code",
   "execution_count": 19,
   "metadata": {},
   "outputs": [
    {
     "ename": "NameError",
     "evalue": "name 'sms' is not defined",
     "output_type": "error",
     "traceback": [
      "\u001b[0;31m---------------------------------------------------------------------------\u001b[0m",
      "\u001b[0;31mNameError\u001b[0m                                 Traceback (most recent call last)",
      "\u001b[0;32m<ipython-input-19-77a7eb658c5f>\u001b[0m in \u001b[0;36m<module>\u001b[0;34m\u001b[0m\n\u001b[0;32m----> 1\u001b[0;31m \u001b[0msms\u001b[0m\u001b[0;34m\u001b[0m\u001b[0;34m\u001b[0m\u001b[0m\n\u001b[0m",
      "\u001b[0;31mNameError\u001b[0m: name 'sms' is not defined"
     ]
    }
   ],
   "source": [
    "sms"
   ]
  },
  {
   "cell_type": "code",
   "execution_count": 20,
   "metadata": {},
   "outputs": [
    {
     "ename": "NameError",
     "evalue": "name 'částka' is not defined",
     "output_type": "error",
     "traceback": [
      "\u001b[0;31m---------------------------------------------------------------------------\u001b[0m",
      "\u001b[0;31mNameError\u001b[0m                                 Traceback (most recent call last)",
      "\u001b[0;32m<ipython-input-20-d0543cb5257d>\u001b[0m in \u001b[0;36m<module>\u001b[0;34m\u001b[0m\n\u001b[0;32m----> 1\u001b[0;31m \u001b[0mčástka\u001b[0m\u001b[0;34m\u001b[0m\u001b[0;34m\u001b[0m\u001b[0m\n\u001b[0m",
      "\u001b[0;31mNameError\u001b[0m: name 'částka' is not defined"
     ]
    }
   ],
   "source": [
    "částka"
   ]
  },
  {
   "cell_type": "code",
   "execution_count": 21,
   "metadata": {},
   "outputs": [
    {
     "ename": "NameError",
     "evalue": "name 'délka' is not defined",
     "output_type": "error",
     "traceback": [
      "\u001b[0;31m---------------------------------------------------------------------------\u001b[0m",
      "\u001b[0;31mNameError\u001b[0m                                 Traceback (most recent call last)",
      "\u001b[0;32m<ipython-input-21-3403e4e59040>\u001b[0m in \u001b[0;36m<module>\u001b[0;34m\u001b[0m\n\u001b[0;32m----> 1\u001b[0;31m \u001b[0mdélka\u001b[0m\u001b[0;34m\u001b[0m\u001b[0;34m\u001b[0m\u001b[0m\n\u001b[0m",
      "\u001b[0;31mNameError\u001b[0m: name 'délka' is not defined"
     ]
    }
   ],
   "source": [
    "délka"
   ]
  },
  {
   "cell_type": "markdown",
   "metadata": {},
   "source": [
    "Nyní můžeme porovnat 8letou půjčku s 10letou půjčkou (za předpokladu, že nebudete mít zálohu nebo úroky)."
   ]
  },
  {
   "cell_type": "code",
   "execution_count": 23,
   "metadata": {},
   "outputs": [
    {
     "name": "stdout",
     "output_type": "stream",
     "text": [
      "SMS půjčky je 13125.0 korun\n"
     ]
    }
   ],
   "source": [
    "půjčka_sms(1260000,8*12)"
   ]
  },
  {
   "cell_type": "code",
   "execution_count": 24,
   "metadata": {},
   "outputs": [
    {
     "name": "stdout",
     "output_type": "stream",
     "text": [
      "SMS půjčky je 10500.0 korun\n"
     ]
    }
   ],
   "source": [
    "půjčka_sms(1260000,10*12)"
   ]
  },
  {
   "cell_type": "markdown",
   "metadata": {},
   "source": [
    "### Volitelné parametry\n",
    "\n",
    "Přidáme nový parametr, který nám řekne, kolik jsme zaplatili dopředu. Tento parametr bude *volitelný*, který bude mít výchozí hodnotu 0."
   ]
  },
  {
   "cell_type": "code",
   "execution_count": 28,
   "metadata": {},
   "outputs": [],
   "source": [
    "def půjčka_sms(částka, délka, záloha=0):\n",
    "    půjčená_částka = částka - záloha\n",
    "    sms = půjčená_částka / délka\n",
    "    print('SMS půjčky je {} korun'.format(sms))\n",
    "    return sms"
   ]
  },
  {
   "cell_type": "code",
   "execution_count": 29,
   "metadata": {},
   "outputs": [
    {
     "name": "stdout",
     "output_type": "stream",
     "text": [
      "SMS půjčky je 10000.0 korun\n"
     ]
    }
   ],
   "source": [
    "sms1 = půjčka_sms(1260000,8*12,300000)"
   ]
  },
  {
   "cell_type": "code",
   "execution_count": 30,
   "metadata": {},
   "outputs": [
    {
     "name": "stdout",
     "output_type": "stream",
     "text": [
      "SMS půjčky je 10500.0 korun\n"
     ]
    }
   ],
   "source": [
    "sms2 = půjčka_sms(1260000,10*12)"
   ]
  },
  {
   "cell_type": "markdown",
   "metadata": {},
   "source": [
    "Jako další přidáme kalkulaci úroku do funkce. Zde je vzorec použitý k výpočtu SMS pro půjčku:\n",
    "\n",
    "```\n",
    "SMS = ( P*r*(1+r)^n )/((1+r)^n - 1)\n",
    "\n",
    "\"Zde přidat vzorec\"\n",
    "\n",
    "```\n",
    "kde: \n",
    "* `P` je hodnota půjčky\n",
    "* `n` je počet splátek\n",
    "* `r` je úroková sazba"
   ]
  },
  {
   "cell_type": "code",
   "execution_count": 2,
   "metadata": {},
   "outputs": [],
   "source": [
    "def půjčka_sms(částka, počet_splátek, úroková_sazba, záloha=0):\n",
    "    půjčená_částka = částka - záloha\n",
    "    sms = půjčená_částka * úroková_sazba * ((1+úroková_sazba)**počet_splátek) / (((1+úroková_sazba)**počet_splátek)-1)\n",
    "    print('SMS půjčky je {} korun'.format(sms))\n",
    "    return sms"
   ]
  },
  {
   "cell_type": "markdown",
   "metadata": {},
   "source": [
    "Všimněte si, že všechny povinné parametry funkce jako `částka`, `počet_splátek`, `úroková sazba` se musí objevit před volitelnými parametry jako `záloha`.\n",
    "\n",
    "Pojďmě spočítat SMS pro volbu číslo 1."
   ]
  },
  {
   "cell_type": "code",
   "execution_count": 32,
   "metadata": {},
   "outputs": [
    {
     "name": "stdout",
     "output_type": "stream",
     "text": [
      "SMS půjčky je 14567.19753389219 korun\n"
     ]
    },
    {
     "data": {
      "text/plain": [
       "14567.19753389219"
      ]
     },
     "execution_count": 32,
     "metadata": {},
     "output_type": "execute_result"
    }
   ],
   "source": [
    "půjčka_sms(1260000, 8*12, 0.1/12, 300000)"
   ]
  },
  {
   "cell_type": "markdown",
   "metadata": {},
   "source": [
    "Při počítání SMS pro druhou volbu nemusíme zadávat parametr `záloha`.\n",
    "\n",
    "Vyvolání funkce s mnoha argumenty může být často matoucí a je náchylné k lidským chybám. Python nám umožňuje vyvolání funkcí pomocí *pojmenovaných* argumentů pro lepší přehlednost. Vyvolání funkcí můžete také rozdělit na více řádků."
   ]
  },
  {
   "cell_type": "code",
   "execution_count": 3,
   "metadata": {},
   "outputs": [
    {
     "name": "stdout",
     "output_type": "stream",
     "text": [
      "SMS půjčky je 15287.276888775077 korun\n"
     ]
    },
    {
     "data": {
      "text/plain": [
       "15287.276888775077"
      ]
     },
     "execution_count": 3,
     "metadata": {},
     "output_type": "execute_result"
    }
   ],
   "source": [
    "půjčka_sms(částka = 1260000, \n",
    "           počet_splátek = 10*12, \n",
    "           úroková_sazba = 0.08/12)"
   ]
  },
  {
   "cell_type": "markdown",
   "metadata": {},
   "source": [
    "### Moduly a knihovny\n",
    "\n",
    "Z našich předchozích výpočtů vidíme, že volba 1 je lepší než volba 2, ale bylo by lepší, kdybychom mohli celkovou splátku zaokrohlit. Mohli bychom napsat funkci, která by za nás zaokrouhlila nahoru jakékoliv číslo. \n",
    "Zkuste si takovou funkci napsat jako cvičení.\n",
    "\n",
    "Protože zaokrouhlování čísel je docela běžná operace, Python pro ni poskytuje funkci (spolu s tisíci dalších funkcí) jako součást [Python Standard Library](https://docs.python.org/3/library/). Funkce jsou uspořádány do *modulů*, které je třeba importovat, aby bylo možné obsažené funkce používat.\n",
    "\n",
    "> **Moduly**: Moduly jsou soubory obsahující Python kód (proměnné, funkce, třídy atd.). Poskytují způsob organizace kódu pro velké projekty do souborů a složek. Klíčovou výhodou používání modulů je _namespaces_: modul musíte nejprve importovat, abyste mohli používat jeho funkce ve skriptu nebo notebooku v Pythonu. Namespaces poskytují zapouzdření a zabraňují konfliktům názvů mezi vaším kódem a modulem nebo mezi moduly.\n",
    "\n",
    "K zaokrouhlení čísel můžeme použít funkci `ceil` z modulu `math`. Naimportujeme modul a použijeme jej k zaokrouhlování čísla `1.2`."
   ]
  },
  {
   "cell_type": "code",
   "execution_count": 4,
   "metadata": {},
   "outputs": [],
   "source": [
    "import math"
   ]
  },
  {
   "cell_type": "code",
   "execution_count": 6,
   "metadata": {},
   "outputs": [
    {
     "name": "stdout",
     "output_type": "stream",
     "text": [
      "Help on built-in function ceil in module math:\n",
      "\n",
      "ceil(x, /)\n",
      "    Return the ceiling of x as an Integral.\n",
      "    \n",
      "    This is the smallest integer >= x.\n",
      "\n"
     ]
    }
   ],
   "source": [
    "help(math.ceil)"
   ]
  },
  {
   "cell_type": "code",
   "execution_count": 7,
   "metadata": {},
   "outputs": [
    {
     "data": {
      "text/plain": [
       "2"
      ]
     },
     "execution_count": 7,
     "metadata": {},
     "output_type": "execute_result"
    }
   ],
   "source": [
    "math.ceil(1.2)"
   ]
  },
  {
   "cell_type": "markdown",
   "metadata": {},
   "source": [
    "Pojďme vyzkoušet funkci `math.ceil` v naší funkci `půjčka_sms` abychom zaokrohlili naše SMS.\n",
    "\n",
    "> Použití funkcí k sestavení dalších funkcí je skvělý způsob, jak znovu použít kód, implementovat složitou logiku a přitom zachovat malý, srozumitelný a spravovatelný kód. V ideálním případě by funkce měla sloužit pouze jednomu účelu. Pokud zjistíte, že píšete funkci, která dělá příliš mnoho věcí, zvažte její rozdělení na několik menších nezávislých funkcí. Jako obecné pravidlo zkuste omezit své funkce na 10 řádků kódu nebo méně."
   ]
  },
  {
   "cell_type": "code",
   "execution_count": 14,
   "metadata": {},
   "outputs": [],
   "source": [
    "def půjčka_sms(částka, počet_splátek, úroková_sazba, záloha=0):\n",
    "    půjčená_částka = částka - záloha\n",
    "    sms = půjčená_částka * úroková_sazba * ((1+úroková_sazba)**počet_splátek) / (((1+úroková_sazba)**počet_splátek)-1)\n",
    "    sms = math.ceil(sms)\n",
    "    return sms"
   ]
  },
  {
   "cell_type": "code",
   "execution_count": 9,
   "metadata": {},
   "outputs": [
    {
     "name": "stdout",
     "output_type": "stream",
     "text": [
      "SMS půjčky je 14568 korun\n"
     ]
    }
   ],
   "source": [
    "sms1 = půjčka_sms(1260000, 8*12, 0.1/12, 300000)"
   ]
  },
  {
   "cell_type": "code",
   "execution_count": 10,
   "metadata": {},
   "outputs": [
    {
     "name": "stdout",
     "output_type": "stream",
     "text": [
      "SMS půjčky je 15288 korun\n"
     ]
    }
   ],
   "source": [
    "sms2 = půjčka_sms(částka = 1260000, \n",
    "           počet_splátek = 10*12, \n",
    "           úroková_sazba = 0.08/12)"
   ]
  },
  {
   "cell_type": "markdown",
   "metadata": {},
   "source": [
    "Porovnejme SMS a zobrazme zprávu o možnosti s nižším SMS."
   ]
  },
  {
   "cell_type": "code",
   "execution_count": 12,
   "metadata": {},
   "outputs": [
    {
     "name": "stdout",
     "output_type": "stream",
     "text": [
      "Volba 1 má menší stálou měsíční splátku (SMS): 14568\n"
     ]
    }
   ],
   "source": [
    "if sms1 < sms2: \n",
    "    print(\"Volba 1 má menší stálou měsíční splátku (SMS): {}\".format(sms1))\n",
    "else:\n",
    "    print(\"Volba 2 má menší stálou měsíční splátku (SMS): {}\".format(sms2))"
   ]
  },
  {
   "cell_type": "markdown",
   "metadata": {},
   "source": [
    "### Opětovné použití a vylepšení funkcí\n",
    "\n",
    "Teď jsme si jistí, že volba 1 má nižší SMS, co je ale ještě lepší, vytvořili jsme užitečnou funkci `půjčka_sms`, kterou můžeme použít k vyřešení podobných problémů a bude nám k tomu stačit pouze pár řádků kódu. Zkusme to s několika dalšími otázkami."
   ]
  },
  {
   "cell_type": "markdown",
   "metadata": {},
   "source": [
    "> **Úloha**: Karel právě splácí hypotéku na svůj dům, který koupil před několika lety. Cena domu byla `800 000`. Shaun zaplatil `25 %` ceny jako zálohu. Na zbytek si vzal 6letou hypotéku s roční úrokovou sazbou `7 %`. Karel si chce koupit auto za `60 000`, na které si chce vzít 1letou půjčku s úrokovou sazbou `12 %`. Obě splátky se splácejí systémem stejných měsíčních splátek. Kolik bude Karel celkem splácet?\n",
    "\n",
    "Tuto úlohu můžeme jednoduše spočítat pomocí námi vytvořené funkce `půjčka_sms`."
   ]
  },
  {
   "cell_type": "code",
   "execution_count": 15,
   "metadata": {},
   "outputs": [
    {
     "data": {
      "text/plain": [
       "10230"
      ]
     },
     "execution_count": 15,
     "metadata": {},
     "output_type": "execute_result"
    }
   ],
   "source": [
    "dům_cena = 800000\n",
    "dům_délka = 6*12 # měsíce\n",
    "dům_úroková_sazba = 0.07/12 # měsíčně\n",
    "dům_záloha = .25 * 800000\n",
    "\n",
    "sms_dům = půjčka_sms(částka = dům_cena,\n",
    "                     počet_splátek = dům_délka,\n",
    "                     úroková_sazba = dům_úroková_sazba, \n",
    "                     záloha = dům_záloha)\n",
    "\n",
    "sms_dům"
   ]
  },
  {
   "cell_type": "code",
   "execution_count": 16,
   "metadata": {},
   "outputs": [
    {
     "data": {
      "text/plain": [
       "5331"
      ]
     },
     "execution_count": 16,
     "metadata": {},
     "output_type": "execute_result"
    }
   ],
   "source": [
    "auto_cena = 60000\n",
    "auto_délka = 12 # měsíce\n",
    "auto_úroková_sazba = 0.12/12 # měsíčně\n",
    "\n",
    "sms_auto = půjčka_sms(částka = auto_cena,\n",
    "                     počet_splátek = auto_délka,\n",
    "                     úroková_sazba = auto_úroková_sazba)\n",
    "\n",
    "sms_auto"
   ]
  },
  {
   "cell_type": "code",
   "execution_count": 17,
   "metadata": {},
   "outputs": [
    {
     "name": "stdout",
     "output_type": "stream",
     "text": [
      "Karel za auto a dům splácí 15561.\n"
     ]
    }
   ],
   "source": [
    "print(\"Karel za auto a dům splácí {}.\".format(sms_dům+sms_auto))"
   ]
  },
  {
   "cell_type": "markdown",
   "metadata": {},
   "source": [
    "### Výjimky a `try`-`except` blok\n",
    "\n",
    "> Otázka: Pokud si půjčíš na 10letou půjčku `100,000` s roční úrokovou sazbou 9 %, kolik přesně platíš na úroku?\n",
    "\n",
    "Jedním ze způsobů řešení tohoto problému je srovnání SMS pro dva úvěry: jeden s danou úrokovou sazbou a druhý s 0 % úrokovou sazbou. Celkový zaplacený úrok je pak jednoduše součtem měsíčních rozdílů po dobu trvání půjčky."
   ]
  },
  {
   "cell_type": "code",
   "execution_count": 18,
   "metadata": {},
   "outputs": [
    {
     "data": {
      "text/plain": [
       "1267"
      ]
     },
     "execution_count": 18,
     "metadata": {},
     "output_type": "execute_result"
    }
   ],
   "source": [
    "sms_s_urokem = půjčka_sms(100000, 10*12, 0.09/12)\n",
    "sms_s_urokem"
   ]
  },
  {
   "cell_type": "code",
   "execution_count": 19,
   "metadata": {},
   "outputs": [
    {
     "ename": "ZeroDivisionError",
     "evalue": "float division by zero",
     "output_type": "error",
     "traceback": [
      "\u001b[0;31m---------------------------------------------------------------------------\u001b[0m",
      "\u001b[0;31mZeroDivisionError\u001b[0m                         Traceback (most recent call last)",
      "\u001b[0;32m<ipython-input-19-fab5f5e47924>\u001b[0m in \u001b[0;36m<module>\u001b[0;34m\u001b[0m\n\u001b[0;32m----> 1\u001b[0;31m \u001b[0msms_bez_uroku\u001b[0m \u001b[0;34m=\u001b[0m \u001b[0mpůjčka_sms\u001b[0m\u001b[0;34m(\u001b[0m\u001b[0;36m100000\u001b[0m\u001b[0;34m,\u001b[0m \u001b[0;36m10\u001b[0m\u001b[0;34m*\u001b[0m\u001b[0;36m12\u001b[0m\u001b[0;34m,\u001b[0m \u001b[0;36m0.00\u001b[0m\u001b[0;34m/\u001b[0m\u001b[0;36m12\u001b[0m\u001b[0;34m)\u001b[0m\u001b[0;34m\u001b[0m\u001b[0;34m\u001b[0m\u001b[0m\n\u001b[0m",
      "\u001b[0;32m<ipython-input-14-b9f62069d1f3>\u001b[0m in \u001b[0;36mpůjčka_sms\u001b[0;34m(částka, počet_splátek, úroková_sazba, záloha)\u001b[0m\n\u001b[1;32m      1\u001b[0m \u001b[0;32mdef\u001b[0m \u001b[0mpůjčka_sms\u001b[0m\u001b[0;34m(\u001b[0m\u001b[0mčástka\u001b[0m\u001b[0;34m,\u001b[0m \u001b[0mpočet_splátek\u001b[0m\u001b[0;34m,\u001b[0m \u001b[0múroková_sazba\u001b[0m\u001b[0;34m,\u001b[0m \u001b[0mzáloha\u001b[0m\u001b[0;34m=\u001b[0m\u001b[0;36m0\u001b[0m\u001b[0;34m)\u001b[0m\u001b[0;34m:\u001b[0m\u001b[0;34m\u001b[0m\u001b[0;34m\u001b[0m\u001b[0m\n\u001b[1;32m      2\u001b[0m     \u001b[0mpůjčená_částka\u001b[0m \u001b[0;34m=\u001b[0m \u001b[0mčástka\u001b[0m \u001b[0;34m-\u001b[0m \u001b[0mzáloha\u001b[0m\u001b[0;34m\u001b[0m\u001b[0;34m\u001b[0m\u001b[0m\n\u001b[0;32m----> 3\u001b[0;31m     \u001b[0msms\u001b[0m \u001b[0;34m=\u001b[0m \u001b[0mpůjčená_částka\u001b[0m \u001b[0;34m*\u001b[0m \u001b[0múroková_sazba\u001b[0m \u001b[0;34m*\u001b[0m \u001b[0;34m(\u001b[0m\u001b[0;34m(\u001b[0m\u001b[0;36m1\u001b[0m\u001b[0;34m+\u001b[0m\u001b[0múroková_sazba\u001b[0m\u001b[0;34m)\u001b[0m\u001b[0;34m**\u001b[0m\u001b[0mpočet_splátek\u001b[0m\u001b[0;34m)\u001b[0m \u001b[0;34m/\u001b[0m \u001b[0;34m(\u001b[0m\u001b[0;34m(\u001b[0m\u001b[0;34m(\u001b[0m\u001b[0;36m1\u001b[0m\u001b[0;34m+\u001b[0m\u001b[0múroková_sazba\u001b[0m\u001b[0;34m)\u001b[0m\u001b[0;34m**\u001b[0m\u001b[0mpočet_splátek\u001b[0m\u001b[0;34m)\u001b[0m\u001b[0;34m-\u001b[0m\u001b[0;36m1\u001b[0m\u001b[0;34m)\u001b[0m\u001b[0;34m\u001b[0m\u001b[0;34m\u001b[0m\u001b[0m\n\u001b[0m\u001b[1;32m      4\u001b[0m     \u001b[0msms\u001b[0m \u001b[0;34m=\u001b[0m \u001b[0mmath\u001b[0m\u001b[0;34m.\u001b[0m\u001b[0mceil\u001b[0m\u001b[0;34m(\u001b[0m\u001b[0msms\u001b[0m\u001b[0;34m)\u001b[0m\u001b[0;34m\u001b[0m\u001b[0;34m\u001b[0m\u001b[0m\n\u001b[1;32m      5\u001b[0m     \u001b[0;32mreturn\u001b[0m \u001b[0msms\u001b[0m\u001b[0;34m\u001b[0m\u001b[0;34m\u001b[0m\u001b[0m\n",
      "\u001b[0;31mZeroDivisionError\u001b[0m: float division by zero"
     ]
    }
   ],
   "source": [
    "sms_bez_uroku = půjčka_sms(100000, 10*12, 0.00/12)"
   ]
  },
  {
   "cell_type": "markdown",
   "metadata": {},
   "source": [
    "Zdá se, že se něco pokazilo! Pokud se podíváte na chybovou zprávu výše, Python nám přesně řekne, co se děje. Python nám *vyhodí* error `ZeroDivisionError` se zprávou, že se pokoušíme dělit nulou. `ZeroDivisonError` je *výjimka*, která zastaví další vyhodnocování programu.\n",
    "\n",
    "> **Výjimka**: I když je příkaz nebo výraz syntakticky správný, může se objevit chyba, když se ho Python pokusí vyhodnotit. Chyby zjištěné během vyhodnocování se nazývají výjimky. Výjimky obvykle zastaví další vyhodnocování programu, pokud se s nimi nepočítá v rámci bloku `try`-`except`.\n",
    "\n",
    "`try`-`except` blok můžete použít, abyste se vyhnuli výjimce. Uveďme si příklad:"
   ]
  },
  {
   "cell_type": "code",
   "execution_count": 20,
   "metadata": {},
   "outputs": [
    {
     "name": "stdout",
     "output_type": "stream",
     "text": [
      "Vyhodnocuji výsledek..\n",
      "Výsledek se nepodařilo vyhodnotit, protože jste se pokoušeli dělit nulou\n",
      "None\n"
     ]
    }
   ],
   "source": [
    "try:\n",
    "    print(\"Vyhodnocuji výsledek..\")\n",
    "    result = 5 / 0\n",
    "    print(\"Vyhodnocení proběhlo úspešně\")\n",
    "except ZeroDivisionError:\n",
    "    print(\"Výsledek se nepodařilo vyhodnotit, protože jste se pokoušeli dělit nulou\")\n",
    "    result = None\n",
    "\n",
    "print(result)"
   ]
  },
  {
   "cell_type": "markdown",
   "metadata": {},
   "source": [
    "Jakmile se objeví vyjímka uvnitř bloku `try`, zbytek tohoto bloku se přeskočí a `except` blok se vyhodnotí, pokud typ výjimky odpovídá výjimce, pro kterou byl `except` blok napsán. Potom, co program vyhodnotí `except` blok, pokračuje dál.\n",
    "\n",
    "Můžete napsat více bloků `except` pro každou vyjímku, kterou očekáváte.\n",
    "\n",
    "Pojďme vylepšit naši funkci `půjčka_sms`, aby obsahovala `try`-`except` blok pro příad, že úroková sazba se bude rovnat 0 %.\n",
    "\n",
    "Je běžnou praxí provádět změny/vylepšení funkcí, jakmile se objeví nové scénáře a případy použití."
   ]
  },
  {
   "cell_type": "code",
   "execution_count": 22,
   "metadata": {},
   "outputs": [],
   "source": [
    "def půjčka_sms(částka, počet_splátek, úroková_sazba, záloha=0):\n",
    "    půjčená_částka = částka - záloha\n",
    "    try:\n",
    "        sms = půjčená_částka * úroková_sazba * ((1+úroková_sazba)**počet_splátek) / (((1+úroková_sazba)**počet_splátek)-1)\n",
    "    except ZeroDivisionError:\n",
    "        sms = půjčená_částka / počet_splátek\n",
    "    sms = math.ceil(sms)\n",
    "    return sms"
   ]
  },
  {
   "cell_type": "markdown",
   "metadata": {},
   "source": [
    "Naši upravenou funkci `půjčka_sms` teď můžeme použít na vyřešení naší otázky.\n",
    "\n",
    "> **Q**: Pokud si půjčíš na 10letou půjčku `100,000` s roční úrokovou sazbou 9 %, kolik přesně platíš na úroku?\n"
   ]
  },
  {
   "cell_type": "code",
   "execution_count": 23,
   "metadata": {},
   "outputs": [
    {
     "data": {
      "text/plain": [
       "1267"
      ]
     },
     "execution_count": 23,
     "metadata": {},
     "output_type": "execute_result"
    }
   ],
   "source": [
    "sms_s_urokem = půjčka_sms(100000, 10*12, 0.09/12)\n",
    "sms_s_urokem"
   ]
  },
  {
   "cell_type": "code",
   "execution_count": 24,
   "metadata": {},
   "outputs": [
    {
     "data": {
      "text/plain": [
       "834"
      ]
     },
     "execution_count": 24,
     "metadata": {},
     "output_type": "execute_result"
    }
   ],
   "source": [
    "sms_bez_uroku = půjčka_sms(100000, 10*12, 0.00/12)\n",
    "sms_bez_uroku"
   ]
  },
  {
   "cell_type": "code",
   "execution_count": 25,
   "metadata": {},
   "outputs": [],
   "source": [
    "celkový_úrok = (sms_s_urokem - sms_bez_uroku) * 10 * 12"
   ]
  },
  {
   "cell_type": "code",
   "execution_count": 27,
   "metadata": {},
   "outputs": [
    {
     "name": "stdout",
     "output_type": "stream",
     "text": [
      "Celkový zaplacený úrok je 51960.\n"
     ]
    }
   ],
   "source": [
    "print(\"Celkový zaplacený úrok je {}.\".format(celkový_úrok))"
   ]
  },
  {
   "cell_type": "markdown",
   "metadata": {},
   "source": [
    "## Cvičení – plán dovolené\n",
    "\n",
    "Plánujete dovolenou a musíte se rozhodnout, které město chcete navštívit. Do užšího výběru jste zařadili čtyři města a zjistili jste si náklady na zpáteční let, denní náklady na hotel a týdenní náklady na pronájem auta. Při pronájmu automobilu musíte platit celé týdny, i když auto vrátíte dříve.\n",
    "\n",
    "\n",
    "| Město | Zpáteční let (`$`) | Denní náklady na hotel (`$`) | Týdenní náklady na auto  (`$`) | \n",
    "|------|--------------------------|------------------|------------------------|\n",
    "| Paris|       200                |       20         |          200           |\n",
    "| London|      250                |       30         |          120           |\n",
    "| Dubai|       370                |       15         |          80           |\n",
    "| Mumbai|      450                |       10         |          70           |         \n",
    "\n",
    "\n",
    "Odpovězte na následující otázky pomocí výše uvedených údajů:\n",
    "\n",
    "1. Pokud plánujete týdenní cestu, které město byste měli navštívit, abyste utratili nejméně peněz?\n",
    "2. Jak se změní odpověď na předchozí otázku, pokud změníte dobu cesty na čtyři dny, deset dní nebo dva týdny?\n",
    "3. Pokud je váš celkový rozpočet na cestu `1 000 $`, které město byste měli navštívit, abyste maximalizovali dobu trvání své cesty? Které město byste měli navštívit, pokud chcete dobu trvání minimalizovat?\n",
    "4. Jak se změní odpověď na předchozí otázku, pokud máte rozpočet `600 $`, `2000 $` nebo `1500 $`?\n",
    "\n",
    "*Nápověda: Chcete-li na tyto otázky odpovědět, pomůže vám, když si definujete funkci „cost_of_trip“ s příslušnými vstupy, jako jsou letové náklady, sazba za hotel, sazba za pronájem auta a doba trvání cesty. Pro výpočet celkových nákladů na pronájem automobilu může být užitečná funkce `math.ceil`.*"
   ]
  }
 ],
 "metadata": {
  "kernelspec": {
   "display_name": "Python 3",
   "language": "python",
   "name": "python3"
  },
  "language_info": {
   "codemirror_mode": {
    "name": "ipython",
    "version": 3
   },
   "file_extension": ".py",
   "mimetype": "text/x-python",
   "name": "python",
   "nbconvert_exporter": "python",
   "pygments_lexer": "ipython3",
   "version": "3.8.3"
  }
 },
 "nbformat": 4,
 "nbformat_minor": 4
}
