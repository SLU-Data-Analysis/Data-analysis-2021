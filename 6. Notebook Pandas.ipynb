{
 "cells": [
  {
   "cell_type": "markdown",
   "metadata": {},
   "source": [
    "# Analýza tabulkových dat pomocí Pythonu a knihovny Pandas"
   ]
  },
  {
   "cell_type": "markdown",
   "metadata": {},
   "source": [
    "V této části se seznámíme s:\n",
    "\n",
    "- Načítání souboru CSV do datového rámce Pandas\n",
    "- Načítání dat z datových rámců Pandas\n",
    "- Analýza dat v datových rámcích Pandas\n",
    "- Sloučení, seskupení a agregace dat\n",
    "- Základní grafy pomocí knihovny Pandas\n",
    "- Zapisování dat zpět do souborů CSV"
   ]
  },
  {
   "cell_type": "markdown",
   "metadata": {},
   "source": [
    "## Načítání dat ze souborů CSV pomocí knihovny Pandas\n",
    "\n",
    "[Pandas](https://pandas.pydata.org/) je populární knihovna Pythonu používaná pro práci s tabulkovými daty (podobně jako data uložená v excelové tabulce). Pandas poskytuje funkce ke čtení dat z různých formátů souborů, jako jsou CSV, tabulky aplikace Excel, tabulky HTML, JSON, SQL a další. V tomto notebooku budeme používat již připravený dataset covid-cz, který se zabývá daty spjatými s pandemií onemocnění covid-19 v České republice."
   ]
  },
  {
   "cell_type": "markdown",
   "metadata": {},
   "source": [
    "Nejprve musíme knihovnu Pandas importovat do našeho notebooku. Je zvykem Pandas importovat pod aliasem `pd`."
   ]
  },
  {
   "cell_type": "markdown",
   "metadata": {},
   "source": [
    "Abychom data nahráli do našeho notebooku, využijeme pandas metodu `read_csv`."
   ]
  },
  {
   "cell_type": "code",
   "execution_count": 1,
   "metadata": {},
   "outputs": [],
   "source": [
    "import pandas as pd"
   ]
  },
  {
   "cell_type": "code",
   "execution_count": 2,
   "metadata": {},
   "outputs": [],
   "source": [
    "covid_df = pd.read_csv('Data/covid_cz.csv')"
   ]
  },
  {
   "cell_type": "markdown",
   "metadata": {},
   "source": [
    "Data ze souboru se čtou a ukládají v objektu `DataFrame` – jedné z hlavních datových struktur v Pandas pro ukládání a práci s tabulkovými daty. V názvech proměnných pro datové rámce (Dataframes) obvykle používáme příponu `_df`."
   ]
  },
  {
   "cell_type": "code",
   "execution_count": 3,
   "metadata": {},
   "outputs": [
    {
     "data": {
      "text/plain": [
       "pandas.core.frame.DataFrame"
      ]
     },
     "execution_count": 3,
     "metadata": {},
     "output_type": "execute_result"
    }
   ],
   "source": [
    "type(covid_df)"
   ]
  },
  {
   "cell_type": "code",
   "execution_count": 4,
   "metadata": {
    "scrolled": true
   },
   "outputs": [
    {
     "data": {
      "text/html": [
       "<div>\n",
       "<style scoped>\n",
       "    .dataframe tbody tr th:only-of-type {\n",
       "        vertical-align: middle;\n",
       "    }\n",
       "\n",
       "    .dataframe tbody tr th {\n",
       "        vertical-align: top;\n",
       "    }\n",
       "\n",
       "    .dataframe thead th {\n",
       "        text-align: right;\n",
       "    }\n",
       "</style>\n",
       "<table border=\"1\" class=\"dataframe\">\n",
       "  <thead>\n",
       "    <tr style=\"text-align: right;\">\n",
       "      <th></th>\n",
       "      <th>date</th>\n",
       "      <th>new_cases</th>\n",
       "      <th>new_deaths</th>\n",
       "      <th>new_tests</th>\n",
       "      <th>new_vaccinations</th>\n",
       "    </tr>\n",
       "  </thead>\n",
       "  <tbody>\n",
       "    <tr>\n",
       "      <th>0</th>\n",
       "      <td>2020-02-02</td>\n",
       "      <td>NaN</td>\n",
       "      <td>NaN</td>\n",
       "      <td>NaN</td>\n",
       "      <td>NaN</td>\n",
       "    </tr>\n",
       "    <tr>\n",
       "      <th>1</th>\n",
       "      <td>2020-02-09</td>\n",
       "      <td>NaN</td>\n",
       "      <td>NaN</td>\n",
       "      <td>NaN</td>\n",
       "      <td>NaN</td>\n",
       "    </tr>\n",
       "    <tr>\n",
       "      <th>2</th>\n",
       "      <td>2020-02-16</td>\n",
       "      <td>NaN</td>\n",
       "      <td>NaN</td>\n",
       "      <td>NaN</td>\n",
       "      <td>NaN</td>\n",
       "    </tr>\n",
       "    <tr>\n",
       "      <th>3</th>\n",
       "      <td>2020-02-23</td>\n",
       "      <td>NaN</td>\n",
       "      <td>NaN</td>\n",
       "      <td>NaN</td>\n",
       "      <td>NaN</td>\n",
       "    </tr>\n",
       "    <tr>\n",
       "      <th>4</th>\n",
       "      <td>2020-03-01</td>\n",
       "      <td>3.0</td>\n",
       "      <td>NaN</td>\n",
       "      <td>NaN</td>\n",
       "      <td>NaN</td>\n",
       "    </tr>\n",
       "    <tr>\n",
       "      <th>...</th>\n",
       "      <td>...</td>\n",
       "      <td>...</td>\n",
       "      <td>...</td>\n",
       "      <td>...</td>\n",
       "      <td>...</td>\n",
       "    </tr>\n",
       "    <tr>\n",
       "      <th>364</th>\n",
       "      <td>2021-02-24</td>\n",
       "      <td>15861.0</td>\n",
       "      <td>145.0</td>\n",
       "      <td>91299.0</td>\n",
       "      <td>19207.0</td>\n",
       "    </tr>\n",
       "    <tr>\n",
       "      <th>365</th>\n",
       "      <td>2021-02-25</td>\n",
       "      <td>13816.0</td>\n",
       "      <td>153.0</td>\n",
       "      <td>85033.0</td>\n",
       "      <td>22224.0</td>\n",
       "    </tr>\n",
       "    <tr>\n",
       "      <th>366</th>\n",
       "      <td>2021-02-26</td>\n",
       "      <td>14612.0</td>\n",
       "      <td>164.0</td>\n",
       "      <td>NaN</td>\n",
       "      <td>19039.0</td>\n",
       "    </tr>\n",
       "    <tr>\n",
       "      <th>367</th>\n",
       "      <td>2021-02-27</td>\n",
       "      <td>14815.0</td>\n",
       "      <td>195.0</td>\n",
       "      <td>NaN</td>\n",
       "      <td>3313.0</td>\n",
       "    </tr>\n",
       "    <tr>\n",
       "      <th>368</th>\n",
       "      <td>2021-02-28</td>\n",
       "      <td>7885.0</td>\n",
       "      <td>145.0</td>\n",
       "      <td>NaN</td>\n",
       "      <td>2608.0</td>\n",
       "    </tr>\n",
       "  </tbody>\n",
       "</table>\n",
       "<p>369 rows × 5 columns</p>\n",
       "</div>"
      ],
      "text/plain": [
       "           date  new_cases  new_deaths  new_tests  new_vaccinations\n",
       "0    2020-02-02        NaN         NaN        NaN               NaN\n",
       "1    2020-02-09        NaN         NaN        NaN               NaN\n",
       "2    2020-02-16        NaN         NaN        NaN               NaN\n",
       "3    2020-02-23        NaN         NaN        NaN               NaN\n",
       "4    2020-03-01        3.0         NaN        NaN               NaN\n",
       "..          ...        ...         ...        ...               ...\n",
       "364  2021-02-24    15861.0       145.0    91299.0           19207.0\n",
       "365  2021-02-25    13816.0       153.0    85033.0           22224.0\n",
       "366  2021-02-26    14612.0       164.0        NaN           19039.0\n",
       "367  2021-02-27    14815.0       195.0        NaN            3313.0\n",
       "368  2021-02-28     7885.0       145.0        NaN            2608.0\n",
       "\n",
       "[369 rows x 5 columns]"
      ]
     },
     "execution_count": 4,
     "metadata": {},
     "output_type": "execute_result"
    }
   ],
   "source": [
    "covid_df"
   ]
  },
  {
   "cell_type": "markdown",
   "metadata": {},
   "source": [
    "Při pohledu na datový rámec (Dataframe) zjistíme následující:\n",
    "\n",
    "- Soubor obsahuje data onemocnění covid-19 v České republice\n",
    "- Rámec obsahuje sloupce jako jsou new_cases, new_deaths, new_tests a new_vaccinations\n",
    "- Máme zde data za 369 dní: od 12.12.2019, do 28.02.2021\n",
    "\n",
    "Mějte na paměti, že se jedná o oficiálně hlášená čísla. Skutečný počet případů a úmrtí může být vyšší, protože ne všechny případy jsou diagnostikovány.\n",
    "\n",
    "Některé základní informace o datovém rámci (Dataframe) si můžeme zobrazit pomocí metody `.info`."
   ]
  },
  {
   "cell_type": "markdown",
   "metadata": {},
   "source": [
    "Zdá se, že každý sloupec obsahuje hodnoty konkrétního datového typu. Statistické informace pro číselné sloupce (průměr, směrodatná odchylka, minimální / maximální hodnoty a počet neprázdných hodnot) můžete zobrazit pomocí metody `.describe`."
   ]
  },
  {
   "cell_type": "code",
   "execution_count": 5,
   "metadata": {},
   "outputs": [
    {
     "name": "stdout",
     "output_type": "stream",
     "text": [
      "<class 'pandas.core.frame.DataFrame'>\n",
      "RangeIndex: 369 entries, 0 to 368\n",
      "Data columns (total 5 columns):\n",
      " #   Column            Non-Null Count  Dtype  \n",
      "---  ------            --------------  -----  \n",
      " 0   date              369 non-null    object \n",
      " 1   new_cases         365 non-null    float64\n",
      " 2   new_deaths        344 non-null    float64\n",
      " 3   new_tests         178 non-null    float64\n",
      " 4   new_vaccinations  63 non-null     float64\n",
      "dtypes: float64(4), object(1)\n",
      "memory usage: 14.5+ KB\n"
     ]
    }
   ],
   "source": [
    "covid_df.info()"
   ]
  },
  {
   "cell_type": "code",
   "execution_count": 6,
   "metadata": {},
   "outputs": [
    {
     "data": {
      "text/html": [
       "<div>\n",
       "<style scoped>\n",
       "    .dataframe tbody tr th:only-of-type {\n",
       "        vertical-align: middle;\n",
       "    }\n",
       "\n",
       "    .dataframe tbody tr th {\n",
       "        vertical-align: top;\n",
       "    }\n",
       "\n",
       "    .dataframe thead th {\n",
       "        text-align: right;\n",
       "    }\n",
       "</style>\n",
       "<table border=\"1\" class=\"dataframe\">\n",
       "  <thead>\n",
       "    <tr style=\"text-align: right;\">\n",
       "      <th></th>\n",
       "      <th>new_cases</th>\n",
       "      <th>new_deaths</th>\n",
       "      <th>new_tests</th>\n",
       "      <th>new_vaccinations</th>\n",
       "    </tr>\n",
       "  </thead>\n",
       "  <tbody>\n",
       "    <tr>\n",
       "      <th>count</th>\n",
       "      <td>365.000000</td>\n",
       "      <td>344.000000</td>\n",
       "      <td>178.000000</td>\n",
       "      <td>63.000000</td>\n",
       "    </tr>\n",
       "    <tr>\n",
       "      <th>mean</th>\n",
       "      <td>3384.268493</td>\n",
       "      <td>59.125000</td>\n",
       "      <td>39068.331461</td>\n",
       "      <td>10348.317460</td>\n",
       "    </tr>\n",
       "    <tr>\n",
       "      <th>std</th>\n",
       "      <td>4510.461766</td>\n",
       "      <td>72.054272</td>\n",
       "      <td>22657.524857</td>\n",
       "      <td>6914.352095</td>\n",
       "    </tr>\n",
       "    <tr>\n",
       "      <th>min</th>\n",
       "      <td>-148.000000</td>\n",
       "      <td>-3.000000</td>\n",
       "      <td>4537.000000</td>\n",
       "      <td>262.000000</td>\n",
       "    </tr>\n",
       "    <tr>\n",
       "      <th>25%</th>\n",
       "      <td>103.000000</td>\n",
       "      <td>2.000000</td>\n",
       "      <td>20691.500000</td>\n",
       "      <td>3144.500000</td>\n",
       "    </tr>\n",
       "    <tr>\n",
       "      <th>50%</th>\n",
       "      <td>403.000000</td>\n",
       "      <td>8.000000</td>\n",
       "      <td>34877.000000</td>\n",
       "      <td>13086.000000</td>\n",
       "    </tr>\n",
       "    <tr>\n",
       "      <th>75%</th>\n",
       "      <td>5857.000000</td>\n",
       "      <td>126.000000</td>\n",
       "      <td>54971.250000</td>\n",
       "      <td>15808.500000</td>\n",
       "    </tr>\n",
       "    <tr>\n",
       "      <th>max</th>\n",
       "      <td>17773.000000</td>\n",
       "      <td>295.000000</td>\n",
       "      <td>102609.000000</td>\n",
       "      <td>22224.000000</td>\n",
       "    </tr>\n",
       "  </tbody>\n",
       "</table>\n",
       "</div>"
      ],
      "text/plain": [
       "          new_cases  new_deaths      new_tests  new_vaccinations\n",
       "count    365.000000  344.000000     178.000000         63.000000\n",
       "mean    3384.268493   59.125000   39068.331461      10348.317460\n",
       "std     4510.461766   72.054272   22657.524857       6914.352095\n",
       "min     -148.000000   -3.000000    4537.000000        262.000000\n",
       "25%      103.000000    2.000000   20691.500000       3144.500000\n",
       "50%      403.000000    8.000000   34877.000000      13086.000000\n",
       "75%     5857.000000  126.000000   54971.250000      15808.500000\n",
       "max    17773.000000  295.000000  102609.000000      22224.000000"
      ]
     },
     "execution_count": 6,
     "metadata": {},
     "output_type": "execute_result"
    }
   ],
   "source": [
    "covid_df.describe()"
   ]
  },
  {
   "cell_type": "markdown",
   "metadata": {},
   "source": [
    "Vlastnost `columns` obsahuje seznam sloupců v datovém rámci."
   ]
  },
  {
   "cell_type": "markdown",
   "metadata": {},
   "source": [
    "Počet řádků a sloupců v datovém rámci můžete také načíst pomocí metody `.shape`."
   ]
  },
  {
   "cell_type": "code",
   "execution_count": 7,
   "metadata": {},
   "outputs": [
    {
     "data": {
      "text/plain": [
       "Index(['date', 'new_cases', 'new_deaths', 'new_tests', 'new_vaccinations'], dtype='object')"
      ]
     },
     "execution_count": 7,
     "metadata": {},
     "output_type": "execute_result"
    }
   ],
   "source": [
    "covid_df.columns"
   ]
  },
  {
   "cell_type": "code",
   "execution_count": 8,
   "metadata": {},
   "outputs": [
    {
     "data": {
      "text/plain": [
       "(369, 5)"
      ]
     },
     "execution_count": 8,
     "metadata": {},
     "output_type": "execute_result"
    }
   ],
   "source": [
    "covid_df.shape"
   ]
  },
  {
   "cell_type": "markdown",
   "metadata": {},
   "source": [
    "Zde je souhrn funkcí a metod, které jsme si již představili:\n",
    "\n",
    "* `pd.read_csv` – funkce pro načtení dat ze souboru CSV do objektu Pandas `DataFrame`\n",
    "* `.info()` – metoda pro zobrazení základních informací o řádcích, sloupcích a datových typech\n",
    "* `.describe()` – metoda pro zobrazení statistických informací o číselných sloupcích\n",
    "* `.columns` – získání seznamu názvů sloupců\n",
    "* `.shape` – získání počtu řádků a sloupců jako tuple"
   ]
  },
  {
   "cell_type": "markdown",
   "metadata": {},
   "source": [
    "## Čtení dat z datového rámce\n",
    "\n",
    "První věc, kterou nejspíš budete chtít udělat, je přečíst data z tohoto datového rámce, např. počty konkrétního dne nebo seznam hodnot v konkrétním sloupci. Abychom mohli data přečíst, musíme porozumět vnitřní reprezentaci dat v datovém rámci. Koncepčně si můžete datový rámec představit jako slovník seznamů: klíče jsou názvy sloupců a hodnoty jsou seznamy/pole obsahující data pro příslušné sloupce."
   ]
  },
  {
   "cell_type": "code",
   "execution_count": 9,
   "metadata": {},
   "outputs": [],
   "source": [
    "# Formát datového rámce pandas si můžete představit takto\n",
    "covid_data_dict = {\n",
    "    'date':       ['2020-08-30', '2020-08-31', '2020-09-01', '2020-09-02', '2020-09-03'],\n",
    "    'new_cases':  [1444, 1365, 996, 975, 1326],\n",
    "    'new_deaths': [1, 4, 6, 8, 6],\n",
    "    'new_tests': [53541, 42583, 54395, None, None]\n",
    "}"
   ]
  },
  {
   "cell_type": "markdown",
   "metadata": {},
   "source": [
    "Reprezentace dat ve výše uvedeném formátu má několik výhod:\n",
    "\n",
    "* Všechny hodnoty ve sloupci mají obvykle stejný typ hodnoty, takže je efektivnější je ukládat do jednoho pole.\n",
    "* Načítání hodnot pro konkrétní řádek jednoduše vyžaduje extrahování prvků v daném indexu z každého pole sloupců.\n",
    "* Reprezentace je kompaktnější (názvy sloupců se zaznamenávají pouze jednou) ve srovnání s jinými formáty, které používají slovník pro každý řádek dat (viz příklad níže)."
   ]
  },
  {
   "cell_type": "code",
   "execution_count": 10,
   "metadata": {},
   "outputs": [],
   "source": [
    "# Formát datového rámce pandas není podobný tomuto\n",
    "covid_data_list = [\n",
    "    {'date': '2020-08-30', 'new_cases': 1444, 'new_deaths': 1, 'new_tests': 53541},\n",
    "    {'date': '2020-08-31', 'new_cases': 1365, 'new_deaths': 4, 'new_tests': 42583},\n",
    "    {'date': '2020-09-01', 'new_cases': 996, 'new_deaths': 6, 'new_tests': 54395},\n",
    "    {'date': '2020-09-02', 'new_cases': 975, 'new_deaths': 8 },\n",
    "    {'date': '2020-09-03', 'new_cases': 1326, 'new_deaths': 6},\n",
    "]"
   ]
  },
  {
   "cell_type": "markdown",
   "metadata": {},
   "source": [
    "S ohledem na analogii slovníku seznamů nyní můžete hádat, jak načíst data z datového rámce. Můžeme například získat seznam hodnot z konkrétního sloupce pomocí indexační notace `[]`."
   ]
  },
  {
   "cell_type": "code",
   "execution_count": 11,
   "metadata": {},
   "outputs": [
    {
     "data": {
      "text/plain": [
       "[1444, 1365, 996, 975, 1326]"
      ]
     },
     "execution_count": 11,
     "metadata": {},
     "output_type": "execute_result"
    }
   ],
   "source": [
    "covid_data_dict['new_cases']"
   ]
  },
  {
   "cell_type": "code",
   "execution_count": 12,
   "metadata": {},
   "outputs": [
    {
     "data": {
      "text/plain": [
       "0          NaN\n",
       "1          NaN\n",
       "2          NaN\n",
       "3          NaN\n",
       "4          3.0\n",
       "        ...   \n",
       "364    15861.0\n",
       "365    13816.0\n",
       "366    14612.0\n",
       "367    14815.0\n",
       "368     7885.0\n",
       "Name: new_cases, Length: 369, dtype: float64"
      ]
     },
     "execution_count": 12,
     "metadata": {},
     "output_type": "execute_result"
    }
   ],
   "source": [
    "covid_df['new_cases']"
   ]
  },
  {
   "cell_type": "markdown",
   "metadata": {},
   "source": [
    "Každý sloupec je reprezentován pomocí datové struktury s názvem `Series`, což je v podstatě Numpy pole s některými dalšími metodami a vlastnostmi."
   ]
  },
  {
   "cell_type": "code",
   "execution_count": 13,
   "metadata": {},
   "outputs": [
    {
     "data": {
      "text/plain": [
       "pandas.core.series.Series"
      ]
     },
     "execution_count": 13,
     "metadata": {},
     "output_type": "execute_result"
    }
   ],
   "source": [
    "type(covid_df['new_cases'])"
   ]
  },
  {
   "cell_type": "markdown",
   "metadata": {},
   "source": [
    "Tak jako u Numpy pole můžete i u Pandas series pomocí indexovací notace `[]` načíst konkrétní hodnotu."
   ]
  },
  {
   "cell_type": "code",
   "execution_count": 14,
   "metadata": {},
   "outputs": [
    {
     "data": {
      "text/plain": [
       "7885.0"
      ]
     },
     "execution_count": 14,
     "metadata": {},
     "output_type": "execute_result"
    }
   ],
   "source": [
    "covid_df['new_cases'][368]"
   ]
  },
  {
   "cell_type": "markdown",
   "metadata": {},
   "source": [
    "Pandas také poskytuje metodu `.at` k přímému načtení prvku v určitém řádku a sloupci."
   ]
  },
  {
   "cell_type": "code",
   "execution_count": 15,
   "metadata": {},
   "outputs": [
    {
     "data": {
      "text/plain": [
       "7885.0"
      ]
     },
     "execution_count": 15,
     "metadata": {},
     "output_type": "execute_result"
    }
   ],
   "source": [
    "covid_df.at[368, 'new_cases']"
   ]
  },
  {
   "cell_type": "markdown",
   "metadata": {},
   "source": [
    "Místo použití indexovací notace `[]` umožňuje Pandas také přístup ke sloupcům jako vlastnostem datového rámce pomocí notace `.` Tato metoda však funguje pouze pro sloupce, jejichž názvy neobsahují mezery ani speciální znaky."
   ]
  },
  {
   "cell_type": "code",
   "execution_count": 16,
   "metadata": {},
   "outputs": [
    {
     "data": {
      "text/plain": [
       "0          NaN\n",
       "1          NaN\n",
       "2          NaN\n",
       "3          NaN\n",
       "4          3.0\n",
       "        ...   \n",
       "364    15861.0\n",
       "365    13816.0\n",
       "366    14612.0\n",
       "367    14815.0\n",
       "368     7885.0\n",
       "Name: new_cases, Length: 369, dtype: float64"
      ]
     },
     "execution_count": 16,
     "metadata": {},
     "output_type": "execute_result"
    }
   ],
   "source": [
    "covid_df.new_cases"
   ]
  },
  {
   "cell_type": "markdown",
   "metadata": {},
   "source": [
    "Dále můžete v rámci indexovací notace `[]` předat také seznam sloupců, abyste získali přístup k podmnožině datového rámce pouze s danými sloupci."
   ]
  },
  {
   "cell_type": "code",
   "execution_count": 17,
   "metadata": {},
   "outputs": [
    {
     "data": {
      "text/html": [
       "<div>\n",
       "<style scoped>\n",
       "    .dataframe tbody tr th:only-of-type {\n",
       "        vertical-align: middle;\n",
       "    }\n",
       "\n",
       "    .dataframe tbody tr th {\n",
       "        vertical-align: top;\n",
       "    }\n",
       "\n",
       "    .dataframe thead th {\n",
       "        text-align: right;\n",
       "    }\n",
       "</style>\n",
       "<table border=\"1\" class=\"dataframe\">\n",
       "  <thead>\n",
       "    <tr style=\"text-align: right;\">\n",
       "      <th></th>\n",
       "      <th>date</th>\n",
       "      <th>new_cases</th>\n",
       "    </tr>\n",
       "  </thead>\n",
       "  <tbody>\n",
       "    <tr>\n",
       "      <th>0</th>\n",
       "      <td>2020-02-02</td>\n",
       "      <td>NaN</td>\n",
       "    </tr>\n",
       "    <tr>\n",
       "      <th>1</th>\n",
       "      <td>2020-02-09</td>\n",
       "      <td>NaN</td>\n",
       "    </tr>\n",
       "    <tr>\n",
       "      <th>2</th>\n",
       "      <td>2020-02-16</td>\n",
       "      <td>NaN</td>\n",
       "    </tr>\n",
       "    <tr>\n",
       "      <th>3</th>\n",
       "      <td>2020-02-23</td>\n",
       "      <td>NaN</td>\n",
       "    </tr>\n",
       "    <tr>\n",
       "      <th>4</th>\n",
       "      <td>2020-03-01</td>\n",
       "      <td>3.0</td>\n",
       "    </tr>\n",
       "    <tr>\n",
       "      <th>...</th>\n",
       "      <td>...</td>\n",
       "      <td>...</td>\n",
       "    </tr>\n",
       "    <tr>\n",
       "      <th>364</th>\n",
       "      <td>2021-02-24</td>\n",
       "      <td>15861.0</td>\n",
       "    </tr>\n",
       "    <tr>\n",
       "      <th>365</th>\n",
       "      <td>2021-02-25</td>\n",
       "      <td>13816.0</td>\n",
       "    </tr>\n",
       "    <tr>\n",
       "      <th>366</th>\n",
       "      <td>2021-02-26</td>\n",
       "      <td>14612.0</td>\n",
       "    </tr>\n",
       "    <tr>\n",
       "      <th>367</th>\n",
       "      <td>2021-02-27</td>\n",
       "      <td>14815.0</td>\n",
       "    </tr>\n",
       "    <tr>\n",
       "      <th>368</th>\n",
       "      <td>2021-02-28</td>\n",
       "      <td>7885.0</td>\n",
       "    </tr>\n",
       "  </tbody>\n",
       "</table>\n",
       "<p>369 rows × 2 columns</p>\n",
       "</div>"
      ],
      "text/plain": [
       "           date  new_cases\n",
       "0    2020-02-02        NaN\n",
       "1    2020-02-09        NaN\n",
       "2    2020-02-16        NaN\n",
       "3    2020-02-23        NaN\n",
       "4    2020-03-01        3.0\n",
       "..          ...        ...\n",
       "364  2021-02-24    15861.0\n",
       "365  2021-02-25    13816.0\n",
       "366  2021-02-26    14612.0\n",
       "367  2021-02-27    14815.0\n",
       "368  2021-02-28     7885.0\n",
       "\n",
       "[369 rows x 2 columns]"
      ]
     },
     "execution_count": 17,
     "metadata": {},
     "output_type": "execute_result"
    }
   ],
   "source": [
    "cases_df = covid_df[['date', 'new_cases']]\n",
    "cases_df"
   ]
  },
  {
   "cell_type": "markdown",
   "metadata": {},
   "source": [
    "Nový datový rámec `cases_df` je pouze `náhledem` původního datového rámce `covid_df`. Oba odkazují na stejná data v paměti počítače. Změnou hodnot uvnitř jedné z nich se změní také příslušné hodnoty v té druhé. Díky sdílení dat mezi datovými rámci je manipulace s daty v Pandas rychlá. Nemusíte se obtěžovat s kopírováním tisíců nebo milionů řádků pokaždé, když chcete vytvořit nový datový rámec.\n",
    "\n",
    "Může se stát, že budete potřebovat úplnou kopii datového rámce. V takovém případě můžete použít metodu `copy`."
   ]
  },
  {
   "cell_type": "code",
   "execution_count": 18,
   "metadata": {},
   "outputs": [],
   "source": [
    "covid_df_copy = covid_df.copy()"
   ]
  },
  {
   "cell_type": "markdown",
   "metadata": {},
   "source": [
    "Data v rámci `covid_df_copy` jsou zcela oddělená od` covid_df` a změna hodnot uvnitř jednoho z nich nebude mít vliv na ten druhý."
   ]
  },
  {
   "cell_type": "markdown",
   "metadata": {},
   "source": [
    "Pro přístup ke konkrétnímu řádku dat poskytuje Pandas metodu `.loc`."
   ]
  },
  {
   "cell_type": "code",
   "execution_count": 19,
   "metadata": {},
   "outputs": [
    {
     "data": {
      "text/html": [
       "<div>\n",
       "<style scoped>\n",
       "    .dataframe tbody tr th:only-of-type {\n",
       "        vertical-align: middle;\n",
       "    }\n",
       "\n",
       "    .dataframe tbody tr th {\n",
       "        vertical-align: top;\n",
       "    }\n",
       "\n",
       "    .dataframe thead th {\n",
       "        text-align: right;\n",
       "    }\n",
       "</style>\n",
       "<table border=\"1\" class=\"dataframe\">\n",
       "  <thead>\n",
       "    <tr style=\"text-align: right;\">\n",
       "      <th></th>\n",
       "      <th>date</th>\n",
       "      <th>new_cases</th>\n",
       "      <th>new_deaths</th>\n",
       "      <th>new_tests</th>\n",
       "      <th>new_vaccinations</th>\n",
       "    </tr>\n",
       "  </thead>\n",
       "  <tbody>\n",
       "    <tr>\n",
       "      <th>0</th>\n",
       "      <td>2020-02-02</td>\n",
       "      <td>NaN</td>\n",
       "      <td>NaN</td>\n",
       "      <td>NaN</td>\n",
       "      <td>NaN</td>\n",
       "    </tr>\n",
       "    <tr>\n",
       "      <th>1</th>\n",
       "      <td>2020-02-09</td>\n",
       "      <td>NaN</td>\n",
       "      <td>NaN</td>\n",
       "      <td>NaN</td>\n",
       "      <td>NaN</td>\n",
       "    </tr>\n",
       "    <tr>\n",
       "      <th>2</th>\n",
       "      <td>2020-02-16</td>\n",
       "      <td>NaN</td>\n",
       "      <td>NaN</td>\n",
       "      <td>NaN</td>\n",
       "      <td>NaN</td>\n",
       "    </tr>\n",
       "    <tr>\n",
       "      <th>3</th>\n",
       "      <td>2020-02-23</td>\n",
       "      <td>NaN</td>\n",
       "      <td>NaN</td>\n",
       "      <td>NaN</td>\n",
       "      <td>NaN</td>\n",
       "    </tr>\n",
       "    <tr>\n",
       "      <th>4</th>\n",
       "      <td>2020-03-01</td>\n",
       "      <td>3.0</td>\n",
       "      <td>NaN</td>\n",
       "      <td>NaN</td>\n",
       "      <td>NaN</td>\n",
       "    </tr>\n",
       "    <tr>\n",
       "      <th>...</th>\n",
       "      <td>...</td>\n",
       "      <td>...</td>\n",
       "      <td>...</td>\n",
       "      <td>...</td>\n",
       "      <td>...</td>\n",
       "    </tr>\n",
       "    <tr>\n",
       "      <th>364</th>\n",
       "      <td>2021-02-24</td>\n",
       "      <td>15861.0</td>\n",
       "      <td>145.0</td>\n",
       "      <td>91299.0</td>\n",
       "      <td>19207.0</td>\n",
       "    </tr>\n",
       "    <tr>\n",
       "      <th>365</th>\n",
       "      <td>2021-02-25</td>\n",
       "      <td>13816.0</td>\n",
       "      <td>153.0</td>\n",
       "      <td>85033.0</td>\n",
       "      <td>22224.0</td>\n",
       "    </tr>\n",
       "    <tr>\n",
       "      <th>366</th>\n",
       "      <td>2021-02-26</td>\n",
       "      <td>14612.0</td>\n",
       "      <td>164.0</td>\n",
       "      <td>NaN</td>\n",
       "      <td>19039.0</td>\n",
       "    </tr>\n",
       "    <tr>\n",
       "      <th>367</th>\n",
       "      <td>2021-02-27</td>\n",
       "      <td>14815.0</td>\n",
       "      <td>195.0</td>\n",
       "      <td>NaN</td>\n",
       "      <td>3313.0</td>\n",
       "    </tr>\n",
       "    <tr>\n",
       "      <th>368</th>\n",
       "      <td>2021-02-28</td>\n",
       "      <td>7885.0</td>\n",
       "      <td>145.0</td>\n",
       "      <td>NaN</td>\n",
       "      <td>2608.0</td>\n",
       "    </tr>\n",
       "  </tbody>\n",
       "</table>\n",
       "<p>369 rows × 5 columns</p>\n",
       "</div>"
      ],
      "text/plain": [
       "           date  new_cases  new_deaths  new_tests  new_vaccinations\n",
       "0    2020-02-02        NaN         NaN        NaN               NaN\n",
       "1    2020-02-09        NaN         NaN        NaN               NaN\n",
       "2    2020-02-16        NaN         NaN        NaN               NaN\n",
       "3    2020-02-23        NaN         NaN        NaN               NaN\n",
       "4    2020-03-01        3.0         NaN        NaN               NaN\n",
       "..          ...        ...         ...        ...               ...\n",
       "364  2021-02-24    15861.0       145.0    91299.0           19207.0\n",
       "365  2021-02-25    13816.0       153.0    85033.0           22224.0\n",
       "366  2021-02-26    14612.0       164.0        NaN           19039.0\n",
       "367  2021-02-27    14815.0       195.0        NaN            3313.0\n",
       "368  2021-02-28     7885.0       145.0        NaN            2608.0\n",
       "\n",
       "[369 rows x 5 columns]"
      ]
     },
     "execution_count": 19,
     "metadata": {},
     "output_type": "execute_result"
    }
   ],
   "source": [
    "covid_df"
   ]
  },
  {
   "cell_type": "markdown",
   "metadata": {},
   "source": [
    "Každý načtený řádek je také objektem „Series“."
   ]
  },
  {
   "cell_type": "code",
   "execution_count": 20,
   "metadata": {},
   "outputs": [
    {
     "data": {
      "text/plain": [
       "pandas.core.series.Series"
      ]
     },
     "execution_count": 20,
     "metadata": {},
     "output_type": "execute_result"
    }
   ],
   "source": [
    "type(covid_df.loc[243])"
   ]
  },
  {
   "cell_type": "code",
   "execution_count": 21,
   "metadata": {},
   "outputs": [
    {
     "data": {
      "text/plain": [
       "date                2021-02-28\n",
       "new_cases               7885.0\n",
       "new_deaths               145.0\n",
       "new_tests                  NaN\n",
       "new_vaccinations        2608.0\n",
       "Name: 368, dtype: object"
      ]
     },
     "execution_count": 21,
     "metadata": {},
     "output_type": "execute_result"
    }
   ],
   "source": [
    "covid_df.loc[368]"
   ]
  },
  {
   "cell_type": "code",
   "execution_count": 22,
   "metadata": {},
   "outputs": [
    {
     "data": {
      "text/html": [
       "<div>\n",
       "<style scoped>\n",
       "    .dataframe tbody tr th:only-of-type {\n",
       "        vertical-align: middle;\n",
       "    }\n",
       "\n",
       "    .dataframe tbody tr th {\n",
       "        vertical-align: top;\n",
       "    }\n",
       "\n",
       "    .dataframe thead th {\n",
       "        text-align: right;\n",
       "    }\n",
       "</style>\n",
       "<table border=\"1\" class=\"dataframe\">\n",
       "  <thead>\n",
       "    <tr style=\"text-align: right;\">\n",
       "      <th></th>\n",
       "      <th>date</th>\n",
       "      <th>new_cases</th>\n",
       "      <th>new_deaths</th>\n",
       "      <th>new_tests</th>\n",
       "      <th>new_vaccinations</th>\n",
       "    </tr>\n",
       "  </thead>\n",
       "  <tbody>\n",
       "    <tr>\n",
       "      <th>0</th>\n",
       "      <td>2020-02-02</td>\n",
       "      <td>NaN</td>\n",
       "      <td>NaN</td>\n",
       "      <td>NaN</td>\n",
       "      <td>NaN</td>\n",
       "    </tr>\n",
       "    <tr>\n",
       "      <th>1</th>\n",
       "      <td>2020-02-09</td>\n",
       "      <td>NaN</td>\n",
       "      <td>NaN</td>\n",
       "      <td>NaN</td>\n",
       "      <td>NaN</td>\n",
       "    </tr>\n",
       "    <tr>\n",
       "      <th>2</th>\n",
       "      <td>2020-02-16</td>\n",
       "      <td>NaN</td>\n",
       "      <td>NaN</td>\n",
       "      <td>NaN</td>\n",
       "      <td>NaN</td>\n",
       "    </tr>\n",
       "    <tr>\n",
       "      <th>3</th>\n",
       "      <td>2020-02-23</td>\n",
       "      <td>NaN</td>\n",
       "      <td>NaN</td>\n",
       "      <td>NaN</td>\n",
       "      <td>NaN</td>\n",
       "    </tr>\n",
       "    <tr>\n",
       "      <th>4</th>\n",
       "      <td>2020-03-01</td>\n",
       "      <td>3.0</td>\n",
       "      <td>NaN</td>\n",
       "      <td>NaN</td>\n",
       "      <td>NaN</td>\n",
       "    </tr>\n",
       "  </tbody>\n",
       "</table>\n",
       "</div>"
      ],
      "text/plain": [
       "         date  new_cases  new_deaths  new_tests  new_vaccinations\n",
       "0  2020-02-02        NaN         NaN        NaN               NaN\n",
       "1  2020-02-09        NaN         NaN        NaN               NaN\n",
       "2  2020-02-16        NaN         NaN        NaN               NaN\n",
       "3  2020-02-23        NaN         NaN        NaN               NaN\n",
       "4  2020-03-01        3.0         NaN        NaN               NaN"
      ]
     },
     "execution_count": 22,
     "metadata": {},
     "output_type": "execute_result"
    }
   ],
   "source": [
    "covid_df.head(5)"
   ]
  },
  {
   "cell_type": "code",
   "execution_count": 23,
   "metadata": {},
   "outputs": [
    {
     "data": {
      "text/html": [
       "<div>\n",
       "<style scoped>\n",
       "    .dataframe tbody tr th:only-of-type {\n",
       "        vertical-align: middle;\n",
       "    }\n",
       "\n",
       "    .dataframe tbody tr th {\n",
       "        vertical-align: top;\n",
       "    }\n",
       "\n",
       "    .dataframe thead th {\n",
       "        text-align: right;\n",
       "    }\n",
       "</style>\n",
       "<table border=\"1\" class=\"dataframe\">\n",
       "  <thead>\n",
       "    <tr style=\"text-align: right;\">\n",
       "      <th></th>\n",
       "      <th>date</th>\n",
       "      <th>new_cases</th>\n",
       "      <th>new_deaths</th>\n",
       "      <th>new_tests</th>\n",
       "      <th>new_vaccinations</th>\n",
       "    </tr>\n",
       "  </thead>\n",
       "  <tbody>\n",
       "    <tr>\n",
       "      <th>366</th>\n",
       "      <td>2021-02-26</td>\n",
       "      <td>14612.0</td>\n",
       "      <td>164.0</td>\n",
       "      <td>NaN</td>\n",
       "      <td>19039.0</td>\n",
       "    </tr>\n",
       "    <tr>\n",
       "      <th>367</th>\n",
       "      <td>2021-02-27</td>\n",
       "      <td>14815.0</td>\n",
       "      <td>195.0</td>\n",
       "      <td>NaN</td>\n",
       "      <td>3313.0</td>\n",
       "    </tr>\n",
       "    <tr>\n",
       "      <th>368</th>\n",
       "      <td>2021-02-28</td>\n",
       "      <td>7885.0</td>\n",
       "      <td>145.0</td>\n",
       "      <td>NaN</td>\n",
       "      <td>2608.0</td>\n",
       "    </tr>\n",
       "  </tbody>\n",
       "</table>\n",
       "</div>"
      ],
      "text/plain": [
       "           date  new_cases  new_deaths  new_tests  new_vaccinations\n",
       "366  2021-02-26    14612.0       164.0        NaN           19039.0\n",
       "367  2021-02-27    14815.0       195.0        NaN            3313.0\n",
       "368  2021-02-28     7885.0       145.0        NaN            2608.0"
      ]
     },
     "execution_count": 23,
     "metadata": {},
     "output_type": "execute_result"
    }
   ],
   "source": [
    "covid_df.tail(3)"
   ]
  },
  {
   "cell_type": "markdown",
   "metadata": {},
   "source": [
    "Všimněte si, že většina hodnot na začátku datasetu jsou `NaN`. Je tomu tak proto, že CSV soubor, ze kterého jsme náš dataset vytvořili, neobsahuje hodnoty pro tyto specifická data v těchto sloupcích. Tyto hodnoty mohou buď chybět nebo jsou neznámé."
   ]
  },
  {
   "cell_type": "markdown",
   "metadata": {},
   "source": [
    "Rozdíl mezi `0` a `NaN` je malý, ale důležitý. V tomto datasetu to znamená, že počty nově nakažených nebyly hlášeny k určitým datům. \n",
    "\n",
    "Pomocí metody sloupce` first_valid_index` můžeme najít první index, který neobsahuje hodnotu `NaN`."
   ]
  },
  {
   "cell_type": "markdown",
   "metadata": {},
   "source": [
    "Podívejme se na několik řádků před a po tomto indexu, abychom si ověřili, že se hodnoty mění z `NaN` na skutečná čísla. Můžeme to udělat předáním rozsahu do `loc`."
   ]
  },
  {
   "cell_type": "code",
   "execution_count": 24,
   "metadata": {},
   "outputs": [
    {
     "data": {
      "text/plain": [
       "4"
      ]
     },
     "execution_count": 24,
     "metadata": {},
     "output_type": "execute_result"
    }
   ],
   "source": [
    "covid_df.new_cases.first_valid_index()"
   ]
  },
  {
   "cell_type": "code",
   "execution_count": 25,
   "metadata": {},
   "outputs": [
    {
     "data": {
      "text/html": [
       "<div>\n",
       "<style scoped>\n",
       "    .dataframe tbody tr th:only-of-type {\n",
       "        vertical-align: middle;\n",
       "    }\n",
       "\n",
       "    .dataframe tbody tr th {\n",
       "        vertical-align: top;\n",
       "    }\n",
       "\n",
       "    .dataframe thead th {\n",
       "        text-align: right;\n",
       "    }\n",
       "</style>\n",
       "<table border=\"1\" class=\"dataframe\">\n",
       "  <thead>\n",
       "    <tr style=\"text-align: right;\">\n",
       "      <th></th>\n",
       "      <th>date</th>\n",
       "      <th>new_cases</th>\n",
       "      <th>new_deaths</th>\n",
       "      <th>new_tests</th>\n",
       "      <th>new_vaccinations</th>\n",
       "    </tr>\n",
       "  </thead>\n",
       "  <tbody>\n",
       "    <tr>\n",
       "      <th>3</th>\n",
       "      <td>2020-02-23</td>\n",
       "      <td>NaN</td>\n",
       "      <td>NaN</td>\n",
       "      <td>NaN</td>\n",
       "      <td>NaN</td>\n",
       "    </tr>\n",
       "    <tr>\n",
       "      <th>4</th>\n",
       "      <td>2020-03-01</td>\n",
       "      <td>3.0</td>\n",
       "      <td>NaN</td>\n",
       "      <td>NaN</td>\n",
       "      <td>NaN</td>\n",
       "    </tr>\n",
       "    <tr>\n",
       "      <th>5</th>\n",
       "      <td>2020-03-02</td>\n",
       "      <td>0.0</td>\n",
       "      <td>NaN</td>\n",
       "      <td>NaN</td>\n",
       "      <td>NaN</td>\n",
       "    </tr>\n",
       "    <tr>\n",
       "      <th>6</th>\n",
       "      <td>2020-03-03</td>\n",
       "      <td>2.0</td>\n",
       "      <td>NaN</td>\n",
       "      <td>NaN</td>\n",
       "      <td>NaN</td>\n",
       "    </tr>\n",
       "  </tbody>\n",
       "</table>\n",
       "</div>"
      ],
      "text/plain": [
       "         date  new_cases  new_deaths  new_tests  new_vaccinations\n",
       "3  2020-02-23        NaN         NaN        NaN               NaN\n",
       "4  2020-03-01        3.0         NaN        NaN               NaN\n",
       "5  2020-03-02        0.0         NaN        NaN               NaN\n",
       "6  2020-03-03        2.0         NaN        NaN               NaN"
      ]
     },
     "execution_count": 25,
     "metadata": {},
     "output_type": "execute_result"
    }
   ],
   "source": [
    "covid_df.loc[3:6]"
   ]
  },
  {
   "cell_type": "markdown",
   "metadata": {},
   "source": [
    "Můžeme použít metodu `.sample`, která nám umožní načíst náhodný vzorek řádků z datového rámce."
   ]
  },
  {
   "cell_type": "code",
   "execution_count": 26,
   "metadata": {},
   "outputs": [
    {
     "data": {
      "text/html": [
       "<div>\n",
       "<style scoped>\n",
       "    .dataframe tbody tr th:only-of-type {\n",
       "        vertical-align: middle;\n",
       "    }\n",
       "\n",
       "    .dataframe tbody tr th {\n",
       "        vertical-align: top;\n",
       "    }\n",
       "\n",
       "    .dataframe thead th {\n",
       "        text-align: right;\n",
       "    }\n",
       "</style>\n",
       "<table border=\"1\" class=\"dataframe\">\n",
       "  <thead>\n",
       "    <tr style=\"text-align: right;\">\n",
       "      <th></th>\n",
       "      <th>date</th>\n",
       "      <th>new_cases</th>\n",
       "      <th>new_deaths</th>\n",
       "      <th>new_tests</th>\n",
       "      <th>new_vaccinations</th>\n",
       "    </tr>\n",
       "  </thead>\n",
       "  <tbody>\n",
       "    <tr>\n",
       "      <th>57</th>\n",
       "      <td>2020-04-23</td>\n",
       "      <td>55.0</td>\n",
       "      <td>2.0</td>\n",
       "      <td>NaN</td>\n",
       "      <td>NaN</td>\n",
       "    </tr>\n",
       "    <tr>\n",
       "      <th>176</th>\n",
       "      <td>2020-08-20</td>\n",
       "      <td>247.0</td>\n",
       "      <td>2.0</td>\n",
       "      <td>NaN</td>\n",
       "      <td>NaN</td>\n",
       "    </tr>\n",
       "    <tr>\n",
       "      <th>133</th>\n",
       "      <td>2020-07-08</td>\n",
       "      <td>129.0</td>\n",
       "      <td>0.0</td>\n",
       "      <td>NaN</td>\n",
       "      <td>NaN</td>\n",
       "    </tr>\n",
       "    <tr>\n",
       "      <th>362</th>\n",
       "      <td>2021-02-22</td>\n",
       "      <td>4021.0</td>\n",
       "      <td>116.0</td>\n",
       "      <td>102609.0</td>\n",
       "      <td>15740.0</td>\n",
       "    </tr>\n",
       "    <tr>\n",
       "      <th>90</th>\n",
       "      <td>2020-05-26</td>\n",
       "      <td>48.0</td>\n",
       "      <td>0.0</td>\n",
       "      <td>NaN</td>\n",
       "      <td>NaN</td>\n",
       "    </tr>\n",
       "    <tr>\n",
       "      <th>213</th>\n",
       "      <td>2020-09-26</td>\n",
       "      <td>1976.0</td>\n",
       "      <td>10.0</td>\n",
       "      <td>15388.0</td>\n",
       "      <td>NaN</td>\n",
       "    </tr>\n",
       "    <tr>\n",
       "      <th>47</th>\n",
       "      <td>2020-04-13</td>\n",
       "      <td>68.0</td>\n",
       "      <td>5.0</td>\n",
       "      <td>NaN</td>\n",
       "      <td>NaN</td>\n",
       "    </tr>\n",
       "    <tr>\n",
       "      <th>78</th>\n",
       "      <td>2020-05-14</td>\n",
       "      <td>82.0</td>\n",
       "      <td>3.0</td>\n",
       "      <td>NaN</td>\n",
       "      <td>NaN</td>\n",
       "    </tr>\n",
       "    <tr>\n",
       "      <th>269</th>\n",
       "      <td>2020-11-21</td>\n",
       "      <td>3187.0</td>\n",
       "      <td>74.0</td>\n",
       "      <td>23287.0</td>\n",
       "      <td>NaN</td>\n",
       "    </tr>\n",
       "    <tr>\n",
       "      <th>29</th>\n",
       "      <td>2020-03-26</td>\n",
       "      <td>271.0</td>\n",
       "      <td>3.0</td>\n",
       "      <td>NaN</td>\n",
       "      <td>NaN</td>\n",
       "    </tr>\n",
       "  </tbody>\n",
       "</table>\n",
       "</div>"
      ],
      "text/plain": [
       "           date  new_cases  new_deaths  new_tests  new_vaccinations\n",
       "57   2020-04-23       55.0         2.0        NaN               NaN\n",
       "176  2020-08-20      247.0         2.0        NaN               NaN\n",
       "133  2020-07-08      129.0         0.0        NaN               NaN\n",
       "362  2021-02-22     4021.0       116.0   102609.0           15740.0\n",
       "90   2020-05-26       48.0         0.0        NaN               NaN\n",
       "213  2020-09-26     1976.0        10.0    15388.0               NaN\n",
       "47   2020-04-13       68.0         5.0        NaN               NaN\n",
       "78   2020-05-14       82.0         3.0        NaN               NaN\n",
       "269  2020-11-21     3187.0        74.0    23287.0               NaN\n",
       "29   2020-03-26      271.0         3.0        NaN               NaN"
      ]
     },
     "execution_count": 26,
     "metadata": {},
     "output_type": "execute_result"
    }
   ],
   "source": [
    "covid_df.sample(10)"
   ]
  },
  {
   "cell_type": "markdown",
   "metadata": {},
   "source": [
    "Všimněte si, že i když jsme si zvolili náhodný vzorek, původní index každého řádku zůstal zachován – to je užitečná vlastnost datových rámců."
   ]
  },
  {
   "cell_type": "markdown",
   "metadata": {},
   "source": [
    "Zde je souhrn funkcí a metod, které jsme si v této části představili:\n",
    "\n",
    "- `covid_df['new_cases']` – načítání sloupců jako `Série` pomocí názvu sloupce\n",
    "- `new_cases[243]` – načítání hodnot ze `Series` pomocí indexu\n",
    "- `covid_df.at[243, 'new_cases']` – načítání jedné hodnoty z datového rámce\n",
    "- `covid_df.copy()` – vytvoření kopie datového rámce\n",
    "- `covid_df.loc[243]` – načítání řádku nebo rozsahu řádků z datového rámce\n",
    "- `head`, `tail`, a `sample` – načítání více řádků z datového rámce\n",
    "- `covid_df.new_tests.first_valid_index()` – nalezení prvního neprázdného indexu v `series`"
   ]
  },
  {
   "cell_type": "markdown",
   "metadata": {},
   "source": [
    "## Analýza dat z datových rámců\n",
    "\n",
    "Pokusme se odpovědět na několik otázek týkajících se našich dat.\n",
    "\n",
    "**Q: Jaký je celkový počet hlášených případů a úmrtí s nemocí Covid-19 v České republice?**\n",
    "\n",
    "Podobně jako pole Numpy podporuje Pandas `series` metodu `sum` pro zodpovězení těchto otázek."
   ]
  },
  {
   "cell_type": "code",
   "execution_count": 27,
   "metadata": {},
   "outputs": [],
   "source": [
    "total_cases = covid_df.new_cases.sum()\n",
    "total_deaths = covid_df.new_deaths.sum()"
   ]
  },
  {
   "cell_type": "code",
   "execution_count": 28,
   "metadata": {},
   "outputs": [
    {
     "name": "stdout",
     "output_type": "stream",
     "text": [
      "Počet nakažených je 1235258 a počet mrtvých je 20339.\n"
     ]
    }
   ],
   "source": [
    "print('Počet nakažených je {} a počet mrtvých je {}.'.format(int(total_cases), int(total_deaths)))"
   ]
  },
  {
   "cell_type": "markdown",
   "metadata": {},
   "source": [
    "**Q: Jaká je celková míra úmrtnosti (poměr hlášených úmrtí k hlášeným případům)?**"
   ]
  },
  {
   "cell_type": "code",
   "execution_count": 29,
   "metadata": {},
   "outputs": [],
   "source": [
    "death_rate = covid_df.new_deaths.sum() / covid_df.new_cases.sum()"
   ]
  },
  {
   "cell_type": "code",
   "execution_count": 30,
   "metadata": {},
   "outputs": [
    {
     "name": "stdout",
     "output_type": "stream",
     "text": [
      "V České republice je úmrtnost na onemocnění covid-19 1.65 %.\n"
     ]
    }
   ],
   "source": [
    "print(\"V České republice je úmrtnost na onemocnění covid-19 {:.2f} %.\".format(death_rate*100))"
   ]
  },
  {
   "cell_type": "code",
   "execution_count": 31,
   "metadata": {},
   "outputs": [
    {
     "data": {
      "text/plain": [
       "188"
      ]
     },
     "execution_count": 31,
     "metadata": {},
     "output_type": "execute_result"
    }
   ],
   "source": [
    "covid_df.new_tests.first_valid_index()"
   ]
  },
  {
   "cell_type": "code",
   "execution_count": 32,
   "metadata": {},
   "outputs": [
    {
     "data": {
      "text/plain": [
       "11137.0"
      ]
     },
     "execution_count": 32,
     "metadata": {},
     "output_type": "execute_result"
    }
   ],
   "source": [
    "covid_df.new_tests[188]"
   ]
  },
  {
   "cell_type": "markdown",
   "metadata": {},
   "source": [
    "**Q: Jaký je celkový počet provedených testů?**"
   ]
  },
  {
   "cell_type": "code",
   "execution_count": 33,
   "metadata": {},
   "outputs": [
    {
     "data": {
      "text/plain": [
       "6954163.0"
      ]
     },
     "execution_count": 33,
     "metadata": {},
     "output_type": "execute_result"
    }
   ],
   "source": [
    "total_tests = covid_df.new_tests.sum()\n",
    "total_tests"
   ]
  },
  {
   "cell_type": "markdown",
   "metadata": {},
   "source": [
    "**Q: Kolik procent z testů mělo pozitivní výsledek?**"
   ]
  },
  {
   "cell_type": "code",
   "execution_count": 34,
   "metadata": {},
   "outputs": [],
   "source": [
    "positive_rate = total_cases / total_tests"
   ]
  },
  {
   "cell_type": "code",
   "execution_count": 35,
   "metadata": {},
   "outputs": [
    {
     "name": "stdout",
     "output_type": "stream",
     "text": [
      "17.76% test; bylo pozitivních v České republice.\n"
     ]
    }
   ],
   "source": [
    "print('{:.2f}% test; bylo pozitivních v České republice.'.format(positive_rate*100))"
   ]
  },
  {
   "cell_type": "markdown",
   "metadata": {},
   "source": [
    "Zkuste si odpovědět na několik dalších otázek týkajících se našich dat pomocí prázdných buněk níže."
   ]
  },
  {
   "cell_type": "code",
   "execution_count": null,
   "metadata": {},
   "outputs": [],
   "source": []
  },
  {
   "cell_type": "code",
   "execution_count": null,
   "metadata": {},
   "outputs": [],
   "source": []
  },
  {
   "cell_type": "markdown",
   "metadata": {},
   "source": [
    "## Dotazování se na data a řazení řádků\n",
    "\n",
    "Řekněme, že se chceme podívat jen na dny, kdy bylo hlášeno více než 1000 případů. Můžeme použít booleovský výraz ke kontrole, které řádky splňují toto kritérium."
   ]
  },
  {
   "cell_type": "code",
   "execution_count": 36,
   "metadata": {},
   "outputs": [],
   "source": [
    "high_new_cases = covid_df.new_cases > 1000"
   ]
  },
  {
   "cell_type": "code",
   "execution_count": 37,
   "metadata": {},
   "outputs": [
    {
     "data": {
      "text/plain": [
       "0      False\n",
       "1      False\n",
       "2      False\n",
       "3      False\n",
       "4      False\n",
       "       ...  \n",
       "364     True\n",
       "365     True\n",
       "366     True\n",
       "367     True\n",
       "368     True\n",
       "Name: new_cases, Length: 369, dtype: bool"
      ]
     },
     "execution_count": 37,
     "metadata": {},
     "output_type": "execute_result"
    }
   ],
   "source": [
    "high_new_cases"
   ]
  },
  {
   "cell_type": "markdown",
   "metadata": {},
   "source": [
    "Logický výraz vrací řadu obsahující logické hodnoty `True` a` False`. Tuto řadu můžete použít k výběru podmnožiny řádků z původního datového rámce odpovídajících hodnotám „True“ v řadě."
   ]
  },
  {
   "cell_type": "code",
   "execution_count": 38,
   "metadata": {},
   "outputs": [
    {
     "data": {
      "text/html": [
       "<div>\n",
       "<style scoped>\n",
       "    .dataframe tbody tr th:only-of-type {\n",
       "        vertical-align: middle;\n",
       "    }\n",
       "\n",
       "    .dataframe tbody tr th {\n",
       "        vertical-align: top;\n",
       "    }\n",
       "\n",
       "    .dataframe thead th {\n",
       "        text-align: right;\n",
       "    }\n",
       "</style>\n",
       "<table border=\"1\" class=\"dataframe\">\n",
       "  <thead>\n",
       "    <tr style=\"text-align: right;\">\n",
       "      <th></th>\n",
       "      <th>date</th>\n",
       "      <th>new_cases</th>\n",
       "      <th>new_deaths</th>\n",
       "      <th>new_tests</th>\n",
       "      <th>new_vaccinations</th>\n",
       "    </tr>\n",
       "  </thead>\n",
       "  <tbody>\n",
       "    <tr>\n",
       "      <th>195</th>\n",
       "      <td>2020-09-08</td>\n",
       "      <td>1161.0</td>\n",
       "      <td>4.0</td>\n",
       "      <td>16115.0</td>\n",
       "      <td>NaN</td>\n",
       "    </tr>\n",
       "    <tr>\n",
       "      <th>196</th>\n",
       "      <td>2020-09-09</td>\n",
       "      <td>1159.0</td>\n",
       "      <td>3.0</td>\n",
       "      <td>15506.0</td>\n",
       "      <td>NaN</td>\n",
       "    </tr>\n",
       "    <tr>\n",
       "      <th>197</th>\n",
       "      <td>2020-09-10</td>\n",
       "      <td>1377.0</td>\n",
       "      <td>4.0</td>\n",
       "      <td>16513.0</td>\n",
       "      <td>NaN</td>\n",
       "    </tr>\n",
       "    <tr>\n",
       "      <th>198</th>\n",
       "      <td>2020-09-11</td>\n",
       "      <td>1447.0</td>\n",
       "      <td>2.0</td>\n",
       "      <td>19217.0</td>\n",
       "      <td>NaN</td>\n",
       "    </tr>\n",
       "    <tr>\n",
       "      <th>199</th>\n",
       "      <td>2020-09-12</td>\n",
       "      <td>1541.0</td>\n",
       "      <td>3.0</td>\n",
       "      <td>13317.0</td>\n",
       "      <td>NaN</td>\n",
       "    </tr>\n",
       "    <tr>\n",
       "      <th>...</th>\n",
       "      <td>...</td>\n",
       "      <td>...</td>\n",
       "      <td>...</td>\n",
       "      <td>...</td>\n",
       "      <td>...</td>\n",
       "    </tr>\n",
       "    <tr>\n",
       "      <th>364</th>\n",
       "      <td>2021-02-24</td>\n",
       "      <td>15861.0</td>\n",
       "      <td>145.0</td>\n",
       "      <td>91299.0</td>\n",
       "      <td>19207.0</td>\n",
       "    </tr>\n",
       "    <tr>\n",
       "      <th>365</th>\n",
       "      <td>2021-02-25</td>\n",
       "      <td>13816.0</td>\n",
       "      <td>153.0</td>\n",
       "      <td>85033.0</td>\n",
       "      <td>22224.0</td>\n",
       "    </tr>\n",
       "    <tr>\n",
       "      <th>366</th>\n",
       "      <td>2021-02-26</td>\n",
       "      <td>14612.0</td>\n",
       "      <td>164.0</td>\n",
       "      <td>NaN</td>\n",
       "      <td>19039.0</td>\n",
       "    </tr>\n",
       "    <tr>\n",
       "      <th>367</th>\n",
       "      <td>2021-02-27</td>\n",
       "      <td>14815.0</td>\n",
       "      <td>195.0</td>\n",
       "      <td>NaN</td>\n",
       "      <td>3313.0</td>\n",
       "    </tr>\n",
       "    <tr>\n",
       "      <th>368</th>\n",
       "      <td>2021-02-28</td>\n",
       "      <td>7885.0</td>\n",
       "      <td>145.0</td>\n",
       "      <td>NaN</td>\n",
       "      <td>2608.0</td>\n",
       "    </tr>\n",
       "  </tbody>\n",
       "</table>\n",
       "<p>171 rows × 5 columns</p>\n",
       "</div>"
      ],
      "text/plain": [
       "           date  new_cases  new_deaths  new_tests  new_vaccinations\n",
       "195  2020-09-08     1161.0         4.0    16115.0               NaN\n",
       "196  2020-09-09     1159.0         3.0    15506.0               NaN\n",
       "197  2020-09-10     1377.0         4.0    16513.0               NaN\n",
       "198  2020-09-11     1447.0         2.0    19217.0               NaN\n",
       "199  2020-09-12     1541.0         3.0    13317.0               NaN\n",
       "..          ...        ...         ...        ...               ...\n",
       "364  2021-02-24    15861.0       145.0    91299.0           19207.0\n",
       "365  2021-02-25    13816.0       153.0    85033.0           22224.0\n",
       "366  2021-02-26    14612.0       164.0        NaN           19039.0\n",
       "367  2021-02-27    14815.0       195.0        NaN            3313.0\n",
       "368  2021-02-28     7885.0       145.0        NaN            2608.0\n",
       "\n",
       "[171 rows x 5 columns]"
      ]
     },
     "execution_count": 38,
     "metadata": {},
     "output_type": "execute_result"
    }
   ],
   "source": [
    "covid_df[high_new_cases]"
   ]
  },
  {
   "cell_type": "markdown",
   "metadata": {},
   "source": [
    "Můžeme to stručně zapsat do jednoho řádku předáním logického výrazu jako indexu do datového rámce. "
   ]
  },
  {
   "cell_type": "code",
   "execution_count": 39,
   "metadata": {},
   "outputs": [],
   "source": [
    "high_cases_df = covid_df[covid_df.new_cases > 1000]"
   ]
  },
  {
   "cell_type": "code",
   "execution_count": 40,
   "metadata": {},
   "outputs": [
    {
     "data": {
      "text/html": [
       "<div>\n",
       "<style scoped>\n",
       "    .dataframe tbody tr th:only-of-type {\n",
       "        vertical-align: middle;\n",
       "    }\n",
       "\n",
       "    .dataframe tbody tr th {\n",
       "        vertical-align: top;\n",
       "    }\n",
       "\n",
       "    .dataframe thead th {\n",
       "        text-align: right;\n",
       "    }\n",
       "</style>\n",
       "<table border=\"1\" class=\"dataframe\">\n",
       "  <thead>\n",
       "    <tr style=\"text-align: right;\">\n",
       "      <th></th>\n",
       "      <th>date</th>\n",
       "      <th>new_cases</th>\n",
       "      <th>new_deaths</th>\n",
       "      <th>new_tests</th>\n",
       "      <th>new_vaccinations</th>\n",
       "    </tr>\n",
       "  </thead>\n",
       "  <tbody>\n",
       "    <tr>\n",
       "      <th>195</th>\n",
       "      <td>2020-09-08</td>\n",
       "      <td>1161.0</td>\n",
       "      <td>4.0</td>\n",
       "      <td>16115.0</td>\n",
       "      <td>NaN</td>\n",
       "    </tr>\n",
       "    <tr>\n",
       "      <th>196</th>\n",
       "      <td>2020-09-09</td>\n",
       "      <td>1159.0</td>\n",
       "      <td>3.0</td>\n",
       "      <td>15506.0</td>\n",
       "      <td>NaN</td>\n",
       "    </tr>\n",
       "    <tr>\n",
       "      <th>197</th>\n",
       "      <td>2020-09-10</td>\n",
       "      <td>1377.0</td>\n",
       "      <td>4.0</td>\n",
       "      <td>16513.0</td>\n",
       "      <td>NaN</td>\n",
       "    </tr>\n",
       "    <tr>\n",
       "      <th>198</th>\n",
       "      <td>2020-09-11</td>\n",
       "      <td>1447.0</td>\n",
       "      <td>2.0</td>\n",
       "      <td>19217.0</td>\n",
       "      <td>NaN</td>\n",
       "    </tr>\n",
       "    <tr>\n",
       "      <th>199</th>\n",
       "      <td>2020-09-12</td>\n",
       "      <td>1541.0</td>\n",
       "      <td>3.0</td>\n",
       "      <td>13317.0</td>\n",
       "      <td>NaN</td>\n",
       "    </tr>\n",
       "    <tr>\n",
       "      <th>...</th>\n",
       "      <td>...</td>\n",
       "      <td>...</td>\n",
       "      <td>...</td>\n",
       "      <td>...</td>\n",
       "      <td>...</td>\n",
       "    </tr>\n",
       "    <tr>\n",
       "      <th>364</th>\n",
       "      <td>2021-02-24</td>\n",
       "      <td>15861.0</td>\n",
       "      <td>145.0</td>\n",
       "      <td>91299.0</td>\n",
       "      <td>19207.0</td>\n",
       "    </tr>\n",
       "    <tr>\n",
       "      <th>365</th>\n",
       "      <td>2021-02-25</td>\n",
       "      <td>13816.0</td>\n",
       "      <td>153.0</td>\n",
       "      <td>85033.0</td>\n",
       "      <td>22224.0</td>\n",
       "    </tr>\n",
       "    <tr>\n",
       "      <th>366</th>\n",
       "      <td>2021-02-26</td>\n",
       "      <td>14612.0</td>\n",
       "      <td>164.0</td>\n",
       "      <td>NaN</td>\n",
       "      <td>19039.0</td>\n",
       "    </tr>\n",
       "    <tr>\n",
       "      <th>367</th>\n",
       "      <td>2021-02-27</td>\n",
       "      <td>14815.0</td>\n",
       "      <td>195.0</td>\n",
       "      <td>NaN</td>\n",
       "      <td>3313.0</td>\n",
       "    </tr>\n",
       "    <tr>\n",
       "      <th>368</th>\n",
       "      <td>2021-02-28</td>\n",
       "      <td>7885.0</td>\n",
       "      <td>145.0</td>\n",
       "      <td>NaN</td>\n",
       "      <td>2608.0</td>\n",
       "    </tr>\n",
       "  </tbody>\n",
       "</table>\n",
       "<p>171 rows × 5 columns</p>\n",
       "</div>"
      ],
      "text/plain": [
       "           date  new_cases  new_deaths  new_tests  new_vaccinations\n",
       "195  2020-09-08     1161.0         4.0    16115.0               NaN\n",
       "196  2020-09-09     1159.0         3.0    15506.0               NaN\n",
       "197  2020-09-10     1377.0         4.0    16513.0               NaN\n",
       "198  2020-09-11     1447.0         2.0    19217.0               NaN\n",
       "199  2020-09-12     1541.0         3.0    13317.0               NaN\n",
       "..          ...        ...         ...        ...               ...\n",
       "364  2021-02-24    15861.0       145.0    91299.0           19207.0\n",
       "365  2021-02-25    13816.0       153.0    85033.0           22224.0\n",
       "366  2021-02-26    14612.0       164.0        NaN           19039.0\n",
       "367  2021-02-27    14815.0       195.0        NaN            3313.0\n",
       "368  2021-02-28     7885.0       145.0        NaN            2608.0\n",
       "\n",
       "[171 rows x 5 columns]"
      ]
     },
     "execution_count": 40,
     "metadata": {},
     "output_type": "execute_result"
    }
   ],
   "source": [
    "high_cases_df"
   ]
  },
  {
   "cell_type": "markdown",
   "metadata": {},
   "source": [
    "Datový rámec obsahuje 171 řádků, ale ve výchozím nastavení pro stručnost zobrazuje Jupyter pouze prvních a posledních pět. Abychom si zobrazili všechny řádky, můžeme změnit některé možnosti zobrazení."
   ]
  },
  {
   "cell_type": "code",
   "execution_count": 41,
   "metadata": {},
   "outputs": [
    {
     "data": {
      "text/html": [
       "<div>\n",
       "<style scoped>\n",
       "    .dataframe tbody tr th:only-of-type {\n",
       "        vertical-align: middle;\n",
       "    }\n",
       "\n",
       "    .dataframe tbody tr th {\n",
       "        vertical-align: top;\n",
       "    }\n",
       "\n",
       "    .dataframe thead th {\n",
       "        text-align: right;\n",
       "    }\n",
       "</style>\n",
       "<table border=\"1\" class=\"dataframe\">\n",
       "  <thead>\n",
       "    <tr style=\"text-align: right;\">\n",
       "      <th></th>\n",
       "      <th>date</th>\n",
       "      <th>new_cases</th>\n",
       "      <th>new_deaths</th>\n",
       "      <th>new_tests</th>\n",
       "      <th>new_vaccinations</th>\n",
       "    </tr>\n",
       "  </thead>\n",
       "  <tbody>\n",
       "    <tr>\n",
       "      <th>195</th>\n",
       "      <td>2020-09-08</td>\n",
       "      <td>1161.0</td>\n",
       "      <td>4.0</td>\n",
       "      <td>16115.0</td>\n",
       "      <td>NaN</td>\n",
       "    </tr>\n",
       "    <tr>\n",
       "      <th>196</th>\n",
       "      <td>2020-09-09</td>\n",
       "      <td>1159.0</td>\n",
       "      <td>3.0</td>\n",
       "      <td>15506.0</td>\n",
       "      <td>NaN</td>\n",
       "    </tr>\n",
       "    <tr>\n",
       "      <th>197</th>\n",
       "      <td>2020-09-10</td>\n",
       "      <td>1377.0</td>\n",
       "      <td>4.0</td>\n",
       "      <td>16513.0</td>\n",
       "      <td>NaN</td>\n",
       "    </tr>\n",
       "    <tr>\n",
       "      <th>198</th>\n",
       "      <td>2020-09-11</td>\n",
       "      <td>1447.0</td>\n",
       "      <td>2.0</td>\n",
       "      <td>19217.0</td>\n",
       "      <td>NaN</td>\n",
       "    </tr>\n",
       "    <tr>\n",
       "      <th>199</th>\n",
       "      <td>2020-09-12</td>\n",
       "      <td>1541.0</td>\n",
       "      <td>3.0</td>\n",
       "      <td>13317.0</td>\n",
       "      <td>NaN</td>\n",
       "    </tr>\n",
       "    <tr>\n",
       "      <th>...</th>\n",
       "      <td>...</td>\n",
       "      <td>...</td>\n",
       "      <td>...</td>\n",
       "      <td>...</td>\n",
       "      <td>...</td>\n",
       "    </tr>\n",
       "    <tr>\n",
       "      <th>364</th>\n",
       "      <td>2021-02-24</td>\n",
       "      <td>15861.0</td>\n",
       "      <td>145.0</td>\n",
       "      <td>91299.0</td>\n",
       "      <td>19207.0</td>\n",
       "    </tr>\n",
       "    <tr>\n",
       "      <th>365</th>\n",
       "      <td>2021-02-25</td>\n",
       "      <td>13816.0</td>\n",
       "      <td>153.0</td>\n",
       "      <td>85033.0</td>\n",
       "      <td>22224.0</td>\n",
       "    </tr>\n",
       "    <tr>\n",
       "      <th>366</th>\n",
       "      <td>2021-02-26</td>\n",
       "      <td>14612.0</td>\n",
       "      <td>164.0</td>\n",
       "      <td>NaN</td>\n",
       "      <td>19039.0</td>\n",
       "    </tr>\n",
       "    <tr>\n",
       "      <th>367</th>\n",
       "      <td>2021-02-27</td>\n",
       "      <td>14815.0</td>\n",
       "      <td>195.0</td>\n",
       "      <td>NaN</td>\n",
       "      <td>3313.0</td>\n",
       "    </tr>\n",
       "    <tr>\n",
       "      <th>368</th>\n",
       "      <td>2021-02-28</td>\n",
       "      <td>7885.0</td>\n",
       "      <td>145.0</td>\n",
       "      <td>NaN</td>\n",
       "      <td>2608.0</td>\n",
       "    </tr>\n",
       "  </tbody>\n",
       "</table>\n",
       "<p>171 rows × 5 columns</p>\n",
       "</div>"
      ],
      "text/plain": [
       "           date  new_cases  new_deaths  new_tests  new_vaccinations\n",
       "195  2020-09-08     1161.0         4.0    16115.0               NaN\n",
       "196  2020-09-09     1159.0         3.0    15506.0               NaN\n",
       "197  2020-09-10     1377.0         4.0    16513.0               NaN\n",
       "198  2020-09-11     1447.0         2.0    19217.0               NaN\n",
       "199  2020-09-12     1541.0         3.0    13317.0               NaN\n",
       "..          ...        ...         ...        ...               ...\n",
       "364  2021-02-24    15861.0       145.0    91299.0           19207.0\n",
       "365  2021-02-25    13816.0       153.0    85033.0           22224.0\n",
       "366  2021-02-26    14612.0       164.0        NaN           19039.0\n",
       "367  2021-02-27    14815.0       195.0        NaN            3313.0\n",
       "368  2021-02-28     7885.0       145.0        NaN            2608.0\n",
       "\n",
       "[171 rows x 5 columns]"
      ]
     },
     "metadata": {},
     "output_type": "display_data"
    }
   ],
   "source": [
    "from IPython.display import display\n",
    "with pd.option_context('display.max_rows', 100):\n",
    "    display(covid_df[covid_df.new_cases > 1000])"
   ]
  },
  {
   "cell_type": "markdown",
   "metadata": {},
   "source": [
    "Můžeme také formulovat složitější dotazy, které zahrnují více sloupců. Jako příklad se pokusme určit dny, kdy je poměr hlášených případů k provedeným testům vyšší než celková `positive_rate`."
   ]
  },
  {
   "cell_type": "code",
   "execution_count": 42,
   "metadata": {},
   "outputs": [
    {
     "data": {
      "text/html": [
       "<div>\n",
       "<style scoped>\n",
       "    .dataframe tbody tr th:only-of-type {\n",
       "        vertical-align: middle;\n",
       "    }\n",
       "\n",
       "    .dataframe tbody tr th {\n",
       "        vertical-align: top;\n",
       "    }\n",
       "\n",
       "    .dataframe thead th {\n",
       "        text-align: right;\n",
       "    }\n",
       "</style>\n",
       "<table border=\"1\" class=\"dataframe\">\n",
       "  <thead>\n",
       "    <tr style=\"text-align: right;\">\n",
       "      <th></th>\n",
       "      <th>date</th>\n",
       "      <th>new_cases</th>\n",
       "      <th>new_deaths</th>\n",
       "      <th>new_tests</th>\n",
       "      <th>new_vaccinations</th>\n",
       "    </tr>\n",
       "  </thead>\n",
       "  <tbody>\n",
       "    <tr>\n",
       "      <th>221</th>\n",
       "      <td>2020-10-04</td>\n",
       "      <td>1841.0</td>\n",
       "      <td>16.0</td>\n",
       "      <td>7776.0</td>\n",
       "      <td>NaN</td>\n",
       "    </tr>\n",
       "    <tr>\n",
       "      <th>223</th>\n",
       "      <td>2020-10-06</td>\n",
       "      <td>4456.0</td>\n",
       "      <td>36.0</td>\n",
       "      <td>23045.0</td>\n",
       "      <td>NaN</td>\n",
       "    </tr>\n",
       "    <tr>\n",
       "      <th>224</th>\n",
       "      <td>2020-10-07</td>\n",
       "      <td>5338.0</td>\n",
       "      <td>35.0</td>\n",
       "      <td>24020.0</td>\n",
       "      <td>NaN</td>\n",
       "    </tr>\n",
       "    <tr>\n",
       "      <th>225</th>\n",
       "      <td>2020-10-08</td>\n",
       "      <td>5397.0</td>\n",
       "      <td>40.0</td>\n",
       "      <td>25073.0</td>\n",
       "      <td>NaN</td>\n",
       "    </tr>\n",
       "    <tr>\n",
       "      <th>226</th>\n",
       "      <td>2020-10-09</td>\n",
       "      <td>8617.0</td>\n",
       "      <td>36.0</td>\n",
       "      <td>27743.0</td>\n",
       "      <td>NaN</td>\n",
       "    </tr>\n",
       "    <tr>\n",
       "      <th>...</th>\n",
       "      <td>...</td>\n",
       "      <td>...</td>\n",
       "      <td>...</td>\n",
       "      <td>...</td>\n",
       "      <td>...</td>\n",
       "    </tr>\n",
       "    <tr>\n",
       "      <th>347</th>\n",
       "      <td>2021-02-07</td>\n",
       "      <td>4863.0</td>\n",
       "      <td>106.0</td>\n",
       "      <td>23877.0</td>\n",
       "      <td>3147.0</td>\n",
       "    </tr>\n",
       "    <tr>\n",
       "      <th>353</th>\n",
       "      <td>2021-02-13</td>\n",
       "      <td>8883.0</td>\n",
       "      <td>156.0</td>\n",
       "      <td>35449.0</td>\n",
       "      <td>4431.0</td>\n",
       "    </tr>\n",
       "    <tr>\n",
       "      <th>354</th>\n",
       "      <td>2021-02-14</td>\n",
       "      <td>5160.0</td>\n",
       "      <td>85.0</td>\n",
       "      <td>28472.0</td>\n",
       "      <td>2342.0</td>\n",
       "    </tr>\n",
       "    <tr>\n",
       "      <th>360</th>\n",
       "      <td>2021-02-20</td>\n",
       "      <td>11364.0</td>\n",
       "      <td>184.0</td>\n",
       "      <td>39320.0</td>\n",
       "      <td>3018.0</td>\n",
       "    </tr>\n",
       "    <tr>\n",
       "      <th>361</th>\n",
       "      <td>2021-02-21</td>\n",
       "      <td>6838.0</td>\n",
       "      <td>117.0</td>\n",
       "      <td>33856.0</td>\n",
       "      <td>1992.0</td>\n",
       "    </tr>\n",
       "  </tbody>\n",
       "</table>\n",
       "<p>72 rows × 5 columns</p>\n",
       "</div>"
      ],
      "text/plain": [
       "           date  new_cases  new_deaths  new_tests  new_vaccinations\n",
       "221  2020-10-04     1841.0        16.0     7776.0               NaN\n",
       "223  2020-10-06     4456.0        36.0    23045.0               NaN\n",
       "224  2020-10-07     5338.0        35.0    24020.0               NaN\n",
       "225  2020-10-08     5397.0        40.0    25073.0               NaN\n",
       "226  2020-10-09     8617.0        36.0    27743.0               NaN\n",
       "..          ...        ...         ...        ...               ...\n",
       "347  2021-02-07     4863.0       106.0    23877.0            3147.0\n",
       "353  2021-02-13     8883.0       156.0    35449.0            4431.0\n",
       "354  2021-02-14     5160.0        85.0    28472.0            2342.0\n",
       "360  2021-02-20    11364.0       184.0    39320.0            3018.0\n",
       "361  2021-02-21     6838.0       117.0    33856.0            1992.0\n",
       "\n",
       "[72 rows x 5 columns]"
      ]
     },
     "execution_count": 42,
     "metadata": {},
     "output_type": "execute_result"
    }
   ],
   "source": [
    "high_ratio_df = covid_df[covid_df.new_cases / covid_df.new_tests > positive_rate]\n",
    "high_ratio_df"
   ]
  },
  {
   "cell_type": "markdown",
   "metadata": {},
   "source": [
    "Výsledkem provedení artimetických operací na dvou sloupcích je nová Pandas `series`."
   ]
  },
  {
   "cell_type": "code",
   "execution_count": 43,
   "metadata": {},
   "outputs": [
    {
     "data": {
      "text/plain": [
       "0           NaN\n",
       "1           NaN\n",
       "2           NaN\n",
       "3           NaN\n",
       "4           NaN\n",
       "         ...   \n",
       "364    0.173726\n",
       "365    0.162478\n",
       "366         NaN\n",
       "367         NaN\n",
       "368         NaN\n",
       "Length: 369, dtype: float64"
      ]
     },
     "execution_count": 43,
     "metadata": {},
     "output_type": "execute_result"
    }
   ],
   "source": [
    "covid_df.new_cases / covid_df.new_tests"
   ]
  },
  {
   "cell_type": "markdown",
   "metadata": {},
   "source": [
    "Tuto `series` můžeme použít k přidání nového sloupce do datového rámce."
   ]
  },
  {
   "cell_type": "code",
   "execution_count": 44,
   "metadata": {},
   "outputs": [],
   "source": [
    "covid_df['positive_rate'] = covid_df.new_cases / covid_df.new_tests"
   ]
  },
  {
   "cell_type": "code",
   "execution_count": 45,
   "metadata": {},
   "outputs": [
    {
     "data": {
      "text/html": [
       "<div>\n",
       "<style scoped>\n",
       "    .dataframe tbody tr th:only-of-type {\n",
       "        vertical-align: middle;\n",
       "    }\n",
       "\n",
       "    .dataframe tbody tr th {\n",
       "        vertical-align: top;\n",
       "    }\n",
       "\n",
       "    .dataframe thead th {\n",
       "        text-align: right;\n",
       "    }\n",
       "</style>\n",
       "<table border=\"1\" class=\"dataframe\">\n",
       "  <thead>\n",
       "    <tr style=\"text-align: right;\">\n",
       "      <th></th>\n",
       "      <th>date</th>\n",
       "      <th>new_cases</th>\n",
       "      <th>new_deaths</th>\n",
       "      <th>new_tests</th>\n",
       "      <th>new_vaccinations</th>\n",
       "      <th>positive_rate</th>\n",
       "    </tr>\n",
       "  </thead>\n",
       "  <tbody>\n",
       "    <tr>\n",
       "      <th>65</th>\n",
       "      <td>2020-05-01</td>\n",
       "      <td>55.0</td>\n",
       "      <td>4.0</td>\n",
       "      <td>NaN</td>\n",
       "      <td>NaN</td>\n",
       "      <td>NaN</td>\n",
       "    </tr>\n",
       "    <tr>\n",
       "      <th>195</th>\n",
       "      <td>2020-09-08</td>\n",
       "      <td>1161.0</td>\n",
       "      <td>4.0</td>\n",
       "      <td>16115.0</td>\n",
       "      <td>NaN</td>\n",
       "      <td>0.072045</td>\n",
       "    </tr>\n",
       "    <tr>\n",
       "      <th>249</th>\n",
       "      <td>2020-11-01</td>\n",
       "      <td>6542.0</td>\n",
       "      <td>178.0</td>\n",
       "      <td>20643.0</td>\n",
       "      <td>NaN</td>\n",
       "      <td>0.316911</td>\n",
       "    </tr>\n",
       "    <tr>\n",
       "      <th>39</th>\n",
       "      <td>2020-04-05</td>\n",
       "      <td>115.0</td>\n",
       "      <td>8.0</td>\n",
       "      <td>NaN</td>\n",
       "      <td>NaN</td>\n",
       "      <td>NaN</td>\n",
       "    </tr>\n",
       "    <tr>\n",
       "      <th>183</th>\n",
       "      <td>2020-08-27</td>\n",
       "      <td>218.0</td>\n",
       "      <td>0.0</td>\n",
       "      <td>NaN</td>\n",
       "      <td>NaN</td>\n",
       "      <td>NaN</td>\n",
       "    </tr>\n",
       "  </tbody>\n",
       "</table>\n",
       "</div>"
      ],
      "text/plain": [
       "           date  new_cases  new_deaths  new_tests  new_vaccinations  \\\n",
       "65   2020-05-01       55.0         4.0        NaN               NaN   \n",
       "195  2020-09-08     1161.0         4.0    16115.0               NaN   \n",
       "249  2020-11-01     6542.0       178.0    20643.0               NaN   \n",
       "39   2020-04-05      115.0         8.0        NaN               NaN   \n",
       "183  2020-08-27      218.0         0.0        NaN               NaN   \n",
       "\n",
       "     positive_rate  \n",
       "65             NaN  \n",
       "195       0.072045  \n",
       "249       0.316911  \n",
       "39             NaN  \n",
       "183            NaN  "
      ]
     },
     "execution_count": 45,
     "metadata": {},
     "output_type": "execute_result"
    }
   ],
   "source": [
    "covid_df.sample(5)"
   ]
  },
  {
   "cell_type": "code",
   "execution_count": 46,
   "metadata": {},
   "outputs": [],
   "source": [
    "covid_df.drop(columns=['positive_rate'], inplace=True)"
   ]
  },
  {
   "cell_type": "markdown",
   "metadata": {},
   "source": [
    "Musíme však mít na paměti, že získání výsledků testu může trvat několik dní, takže nemůžeme porovnávat počet nových případů s počtem testů provedených ve stejný den. Jakýkoli závěr založený na tomto sloupci „positive_rate“ bude pravděpodobně nesprávný. Je důležité dávat pozor na jemné vztahy, které často nejsou přenášeny v souborech CSV a vyžadují nějaký externí kontext. Vždy je dobré přečíst si dokumentaci dodanou s datovou sadou nebo požádat o další informace.\n",
    "\n",
    "Prozatím odstraníme sloupec `positive_rate` pomocí metody `.drop `."
   ]
  },
  {
   "cell_type": "markdown",
   "metadata": {},
   "source": [
    "Dokážete pochopit účel argumentu `inplace`?"
   ]
  },
  {
   "cell_type": "markdown",
   "metadata": {},
   "source": [
    "### Řazení řádků pomocí hodnot sloupců\n",
    "\n",
    "Řádky lze také řadit podle konkrétního sloupce pomocí `.sort_values`. Pojďme naše data seřadit, abychom identifikovali dny s nejvyšším počtem případů. Poté využijeme metodu `head` a zobrazíme pouze prvních deset výsledků."
   ]
  },
  {
   "cell_type": "code",
   "execution_count": 47,
   "metadata": {},
   "outputs": [
    {
     "data": {
      "text/html": [
       "<div>\n",
       "<style scoped>\n",
       "    .dataframe tbody tr th:only-of-type {\n",
       "        vertical-align: middle;\n",
       "    }\n",
       "\n",
       "    .dataframe tbody tr th {\n",
       "        vertical-align: top;\n",
       "    }\n",
       "\n",
       "    .dataframe thead th {\n",
       "        text-align: right;\n",
       "    }\n",
       "</style>\n",
       "<table border=\"1\" class=\"dataframe\">\n",
       "  <thead>\n",
       "    <tr style=\"text-align: right;\">\n",
       "      <th></th>\n",
       "      <th>date</th>\n",
       "      <th>new_cases</th>\n",
       "      <th>new_deaths</th>\n",
       "      <th>new_tests</th>\n",
       "      <th>new_vaccinations</th>\n",
       "    </tr>\n",
       "  </thead>\n",
       "  <tbody>\n",
       "    <tr>\n",
       "      <th>316</th>\n",
       "      <td>2021-01-07</td>\n",
       "      <td>17773.0</td>\n",
       "      <td>185.0</td>\n",
       "      <td>67108.0</td>\n",
       "      <td>7968.0</td>\n",
       "    </tr>\n",
       "    <tr>\n",
       "      <th>315</th>\n",
       "      <td>2021-01-06</td>\n",
       "      <td>17332.0</td>\n",
       "      <td>179.0</td>\n",
       "      <td>68696.0</td>\n",
       "      <td>5821.0</td>\n",
       "    </tr>\n",
       "    <tr>\n",
       "      <th>309</th>\n",
       "      <td>2020-12-31</td>\n",
       "      <td>17039.0</td>\n",
       "      <td>151.0</td>\n",
       "      <td>47079.0</td>\n",
       "      <td>1313.0</td>\n",
       "    </tr>\n",
       "    <tr>\n",
       "      <th>308</th>\n",
       "      <td>2020-12-30</td>\n",
       "      <td>16420.0</td>\n",
       "      <td>127.0</td>\n",
       "      <td>66958.0</td>\n",
       "      <td>3473.0</td>\n",
       "    </tr>\n",
       "    <tr>\n",
       "      <th>364</th>\n",
       "      <td>2021-02-24</td>\n",
       "      <td>15861.0</td>\n",
       "      <td>145.0</td>\n",
       "      <td>91299.0</td>\n",
       "      <td>19207.0</td>\n",
       "    </tr>\n",
       "  </tbody>\n",
       "</table>\n",
       "</div>"
      ],
      "text/plain": [
       "           date  new_cases  new_deaths  new_tests  new_vaccinations\n",
       "316  2021-01-07    17773.0       185.0    67108.0            7968.0\n",
       "315  2021-01-06    17332.0       179.0    68696.0            5821.0\n",
       "309  2020-12-31    17039.0       151.0    47079.0            1313.0\n",
       "308  2020-12-30    16420.0       127.0    66958.0            3473.0\n",
       "364  2021-02-24    15861.0       145.0    91299.0           19207.0"
      ]
     },
     "execution_count": 47,
     "metadata": {},
     "output_type": "execute_result"
    }
   ],
   "source": [
    "covid_df.sort_values('new_cases', ascending=False).head(5)"
   ]
  },
  {
   "cell_type": "markdown",
   "metadata": {},
   "source": [
    "Nejvíce nakažených přibylo na přelomu roku. Pojďme se podívat na dny, kdy bylo nejvíce mrtvých, a zjistit, zda se bude jednat o týden po přelomu nového roku."
   ]
  },
  {
   "cell_type": "code",
   "execution_count": 48,
   "metadata": {},
   "outputs": [
    {
     "data": {
      "text/html": [
       "<div>\n",
       "<style scoped>\n",
       "    .dataframe tbody tr th:only-of-type {\n",
       "        vertical-align: middle;\n",
       "    }\n",
       "\n",
       "    .dataframe tbody tr th {\n",
       "        vertical-align: top;\n",
       "    }\n",
       "\n",
       "    .dataframe thead th {\n",
       "        text-align: right;\n",
       "    }\n",
       "</style>\n",
       "<table border=\"1\" class=\"dataframe\">\n",
       "  <thead>\n",
       "    <tr style=\"text-align: right;\">\n",
       "      <th></th>\n",
       "      <th>date</th>\n",
       "      <th>new_cases</th>\n",
       "      <th>new_deaths</th>\n",
       "      <th>new_tests</th>\n",
       "      <th>new_vaccinations</th>\n",
       "    </tr>\n",
       "  </thead>\n",
       "  <tbody>\n",
       "    <tr>\n",
       "      <th>258</th>\n",
       "      <td>2020-11-10</td>\n",
       "      <td>12699.0</td>\n",
       "      <td>295.0</td>\n",
       "      <td>43495.0</td>\n",
       "      <td>NaN</td>\n",
       "    </tr>\n",
       "    <tr>\n",
       "      <th>251</th>\n",
       "      <td>2020-11-03</td>\n",
       "      <td>12089.0</td>\n",
       "      <td>259.0</td>\n",
       "      <td>43629.0</td>\n",
       "      <td>NaN</td>\n",
       "    </tr>\n",
       "    <tr>\n",
       "      <th>259</th>\n",
       "      <td>2020-11-11</td>\n",
       "      <td>8925.0</td>\n",
       "      <td>247.0</td>\n",
       "      <td>47048.0</td>\n",
       "      <td>NaN</td>\n",
       "    </tr>\n",
       "    <tr>\n",
       "      <th>250</th>\n",
       "      <td>2020-11-02</td>\n",
       "      <td>9252.0</td>\n",
       "      <td>225.0</td>\n",
       "      <td>32916.0</td>\n",
       "      <td>NaN</td>\n",
       "    </tr>\n",
       "    <tr>\n",
       "      <th>252</th>\n",
       "      <td>2020-11-04</td>\n",
       "      <td>15731.0</td>\n",
       "      <td>220.0</td>\n",
       "      <td>46098.0</td>\n",
       "      <td>NaN</td>\n",
       "    </tr>\n",
       "    <tr>\n",
       "      <th>247</th>\n",
       "      <td>2020-10-30</td>\n",
       "      <td>13605.0</td>\n",
       "      <td>216.0</td>\n",
       "      <td>46822.0</td>\n",
       "      <td>NaN</td>\n",
       "    </tr>\n",
       "    <tr>\n",
       "      <th>321</th>\n",
       "      <td>2021-01-12</td>\n",
       "      <td>9345.0</td>\n",
       "      <td>213.0</td>\n",
       "      <td>66426.0</td>\n",
       "      <td>13397.0</td>\n",
       "    </tr>\n",
       "    <tr>\n",
       "      <th>264</th>\n",
       "      <td>2020-11-16</td>\n",
       "      <td>5407.0</td>\n",
       "      <td>208.0</td>\n",
       "      <td>44487.0</td>\n",
       "      <td>NaN</td>\n",
       "    </tr>\n",
       "    <tr>\n",
       "      <th>363</th>\n",
       "      <td>2021-02-23</td>\n",
       "      <td>11311.0</td>\n",
       "      <td>207.0</td>\n",
       "      <td>92985.0</td>\n",
       "      <td>19201.0</td>\n",
       "    </tr>\n",
       "    <tr>\n",
       "      <th>323</th>\n",
       "      <td>2021-01-14</td>\n",
       "      <td>10922.0</td>\n",
       "      <td>200.0</td>\n",
       "      <td>56196.0</td>\n",
       "      <td>15139.0</td>\n",
       "    </tr>\n",
       "  </tbody>\n",
       "</table>\n",
       "</div>"
      ],
      "text/plain": [
       "           date  new_cases  new_deaths  new_tests  new_vaccinations\n",
       "258  2020-11-10    12699.0       295.0    43495.0               NaN\n",
       "251  2020-11-03    12089.0       259.0    43629.0               NaN\n",
       "259  2020-11-11     8925.0       247.0    47048.0               NaN\n",
       "250  2020-11-02     9252.0       225.0    32916.0               NaN\n",
       "252  2020-11-04    15731.0       220.0    46098.0               NaN\n",
       "247  2020-10-30    13605.0       216.0    46822.0               NaN\n",
       "321  2021-01-12     9345.0       213.0    66426.0           13397.0\n",
       "264  2020-11-16     5407.0       208.0    44487.0               NaN\n",
       "363  2021-02-23    11311.0       207.0    92985.0           19201.0\n",
       "323  2021-01-14    10922.0       200.0    56196.0           15139.0"
      ]
     },
     "execution_count": 48,
     "metadata": {},
     "output_type": "execute_result"
    }
   ],
   "source": [
    "covid_df.sort_values('new_deaths', ascending=False).head(10)"
   ]
  },
  {
   "cell_type": "markdown",
   "metadata": {},
   "source": [
    "Vidíme, že nejvíce mrtvých přibylo na začátku listopadu, což nám nepotvrzuje hypotézu, že nejvíce mrtvých bude týden po nejvyšším počtu nakažených.\n",
    "\n",
    "Podívejme se také na dny s nejmenším počtem případů. Můžeme očekávat, že na tomto seznamu uvidíme prvních pár dní roku."
   ]
  },
  {
   "cell_type": "code",
   "execution_count": 49,
   "metadata": {},
   "outputs": [
    {
     "data": {
      "text/html": [
       "<div>\n",
       "<style scoped>\n",
       "    .dataframe tbody tr th:only-of-type {\n",
       "        vertical-align: middle;\n",
       "    }\n",
       "\n",
       "    .dataframe tbody tr th {\n",
       "        vertical-align: top;\n",
       "    }\n",
       "\n",
       "    .dataframe thead th {\n",
       "        text-align: right;\n",
       "    }\n",
       "</style>\n",
       "<table border=\"1\" class=\"dataframe\">\n",
       "  <thead>\n",
       "    <tr style=\"text-align: right;\">\n",
       "      <th></th>\n",
       "      <th>date</th>\n",
       "      <th>new_cases</th>\n",
       "      <th>new_deaths</th>\n",
       "      <th>new_tests</th>\n",
       "      <th>new_vaccinations</th>\n",
       "    </tr>\n",
       "  </thead>\n",
       "  <tbody>\n",
       "    <tr>\n",
       "      <th>84</th>\n",
       "      <td>2020-05-20</td>\n",
       "      <td>-148.0</td>\n",
       "      <td>2.0</td>\n",
       "      <td>NaN</td>\n",
       "      <td>NaN</td>\n",
       "    </tr>\n",
       "    <tr>\n",
       "      <th>5</th>\n",
       "      <td>2020-03-02</td>\n",
       "      <td>0.0</td>\n",
       "      <td>NaN</td>\n",
       "      <td>NaN</td>\n",
       "      <td>NaN</td>\n",
       "    </tr>\n",
       "    <tr>\n",
       "      <th>12</th>\n",
       "      <td>2020-03-09</td>\n",
       "      <td>0.0</td>\n",
       "      <td>NaN</td>\n",
       "      <td>NaN</td>\n",
       "      <td>NaN</td>\n",
       "    </tr>\n",
       "    <tr>\n",
       "      <th>285</th>\n",
       "      <td>2020-12-07</td>\n",
       "      <td>0.0</td>\n",
       "      <td>0.0</td>\n",
       "      <td>49092.0</td>\n",
       "      <td>NaN</td>\n",
       "    </tr>\n",
       "    <tr>\n",
       "      <th>10</th>\n",
       "      <td>2020-03-07</td>\n",
       "      <td>1.0</td>\n",
       "      <td>NaN</td>\n",
       "      <td>NaN</td>\n",
       "      <td>NaN</td>\n",
       "    </tr>\n",
       "    <tr>\n",
       "      <th>6</th>\n",
       "      <td>2020-03-03</td>\n",
       "      <td>2.0</td>\n",
       "      <td>NaN</td>\n",
       "      <td>NaN</td>\n",
       "      <td>NaN</td>\n",
       "    </tr>\n",
       "    <tr>\n",
       "      <th>4</th>\n",
       "      <td>2020-03-01</td>\n",
       "      <td>3.0</td>\n",
       "      <td>NaN</td>\n",
       "      <td>NaN</td>\n",
       "      <td>NaN</td>\n",
       "    </tr>\n",
       "    <tr>\n",
       "      <th>7</th>\n",
       "      <td>2020-03-04</td>\n",
       "      <td>3.0</td>\n",
       "      <td>NaN</td>\n",
       "      <td>NaN</td>\n",
       "      <td>NaN</td>\n",
       "    </tr>\n",
       "    <tr>\n",
       "      <th>15</th>\n",
       "      <td>2020-03-12</td>\n",
       "      <td>3.0</td>\n",
       "      <td>NaN</td>\n",
       "      <td>NaN</td>\n",
       "      <td>NaN</td>\n",
       "    </tr>\n",
       "    <tr>\n",
       "      <th>8</th>\n",
       "      <td>2020-03-05</td>\n",
       "      <td>4.0</td>\n",
       "      <td>NaN</td>\n",
       "      <td>NaN</td>\n",
       "      <td>NaN</td>\n",
       "    </tr>\n",
       "  </tbody>\n",
       "</table>\n",
       "</div>"
      ],
      "text/plain": [
       "           date  new_cases  new_deaths  new_tests  new_vaccinations\n",
       "84   2020-05-20     -148.0         2.0        NaN               NaN\n",
       "5    2020-03-02        0.0         NaN        NaN               NaN\n",
       "12   2020-03-09        0.0         NaN        NaN               NaN\n",
       "285  2020-12-07        0.0         0.0    49092.0               NaN\n",
       "10   2020-03-07        1.0         NaN        NaN               NaN\n",
       "6    2020-03-03        2.0         NaN        NaN               NaN\n",
       "4    2020-03-01        3.0         NaN        NaN               NaN\n",
       "7    2020-03-04        3.0         NaN        NaN               NaN\n",
       "15   2020-03-12        3.0         NaN        NaN               NaN\n",
       "8    2020-03-05        4.0         NaN        NaN               NaN"
      ]
     },
     "execution_count": 49,
     "metadata": {},
     "output_type": "execute_result"
    }
   ],
   "source": [
    "covid_df.sort_values('new_cases').head(10)"
   ]
  },
  {
   "cell_type": "markdown",
   "metadata": {},
   "source": [
    "Zdá se, že počet nových případů 20. června 2020 byl „-148“, což je záporné číslo! Rozhodně nic, co bychom mohli očekávat, ale to je povaha dat ze skutečného světa. Může se jednat o chybu při zadávání údajů, nebo mohla vláda v minulosti vydat opravu, která by zohlednila nesprávné započítání.\n",
    "\n",
    "Podívejme se na několik dní před a po 20. červnu 2020."
   ]
  },
  {
   "cell_type": "code",
   "execution_count": 50,
   "metadata": {},
   "outputs": [
    {
     "data": {
      "text/html": [
       "<div>\n",
       "<style scoped>\n",
       "    .dataframe tbody tr th:only-of-type {\n",
       "        vertical-align: middle;\n",
       "    }\n",
       "\n",
       "    .dataframe tbody tr th {\n",
       "        vertical-align: top;\n",
       "    }\n",
       "\n",
       "    .dataframe thead th {\n",
       "        text-align: right;\n",
       "    }\n",
       "</style>\n",
       "<table border=\"1\" class=\"dataframe\">\n",
       "  <thead>\n",
       "    <tr style=\"text-align: right;\">\n",
       "      <th></th>\n",
       "      <th>date</th>\n",
       "      <th>new_cases</th>\n",
       "      <th>new_deaths</th>\n",
       "      <th>new_tests</th>\n",
       "      <th>new_vaccinations</th>\n",
       "    </tr>\n",
       "  </thead>\n",
       "  <tbody>\n",
       "    <tr>\n",
       "      <th>82</th>\n",
       "      <td>2020-05-18</td>\n",
       "      <td>111.0</td>\n",
       "      <td>-1.0</td>\n",
       "      <td>NaN</td>\n",
       "      <td>NaN</td>\n",
       "    </tr>\n",
       "    <tr>\n",
       "      <th>83</th>\n",
       "      <td>2020-05-19</td>\n",
       "      <td>61.0</td>\n",
       "      <td>5.0</td>\n",
       "      <td>NaN</td>\n",
       "      <td>NaN</td>\n",
       "    </tr>\n",
       "    <tr>\n",
       "      <th>84</th>\n",
       "      <td>2020-05-20</td>\n",
       "      <td>-148.0</td>\n",
       "      <td>2.0</td>\n",
       "      <td>NaN</td>\n",
       "      <td>NaN</td>\n",
       "    </tr>\n",
       "    <tr>\n",
       "      <th>85</th>\n",
       "      <td>2020-05-21</td>\n",
       "      <td>33.0</td>\n",
       "      <td>2.0</td>\n",
       "      <td>NaN</td>\n",
       "      <td>NaN</td>\n",
       "    </tr>\n",
       "    <tr>\n",
       "      <th>86</th>\n",
       "      <td>2020-05-22</td>\n",
       "      <td>59.0</td>\n",
       "      <td>6.0</td>\n",
       "      <td>NaN</td>\n",
       "      <td>NaN</td>\n",
       "    </tr>\n",
       "    <tr>\n",
       "      <th>87</th>\n",
       "      <td>2020-05-23</td>\n",
       "      <td>77.0</td>\n",
       "      <td>2.0</td>\n",
       "      <td>NaN</td>\n",
       "      <td>NaN</td>\n",
       "    </tr>\n",
       "  </tbody>\n",
       "</table>\n",
       "</div>"
      ],
      "text/plain": [
       "          date  new_cases  new_deaths  new_tests  new_vaccinations\n",
       "82  2020-05-18      111.0        -1.0        NaN               NaN\n",
       "83  2020-05-19       61.0         5.0        NaN               NaN\n",
       "84  2020-05-20     -148.0         2.0        NaN               NaN\n",
       "85  2020-05-21       33.0         2.0        NaN               NaN\n",
       "86  2020-05-22       59.0         6.0        NaN               NaN\n",
       "87  2020-05-23       77.0         2.0        NaN               NaN"
      ]
     },
     "execution_count": 50,
     "metadata": {},
     "output_type": "execute_result"
    }
   ],
   "source": [
    "covid_df.loc[82:87]"
   ]
  },
  {
   "cell_type": "markdown",
   "metadata": {},
   "source": [
    "Prozatím předpokládejme, že se skutečně jednalo o chybu zadávání dat. Pro řešení chybějící nebo vadné hodnoty můžeme použít jeden z následujících přístupů:\n",
    "1. Změnit hodnotu na `0`.\n",
    "2. Nahradit ji průměrem celého sloupce.\n",
    "3. Nahradit ji průměrem hodnot z předchozího a následujícího data.\n",
    "4. Vyřadit řádek z analýzy.\n",
    "\n",
    "Který přístup si vyberete, závisí na kontextu daných dat a problému. V tomto případě, protože máme co do činění s daty seřazenými podle data, můžeme pokračovat třetím přístupem.\n",
    "\n",
    "K úpravě konkrétní hodnoty v datovém rámci můžete použít metodu `.at`."
   ]
  },
  {
   "cell_type": "code",
   "execution_count": 51,
   "metadata": {},
   "outputs": [],
   "source": [
    "covid_df.at[84, 'new_cases'] = (covid_df.at[83, 'new_cases'] + covid_df.at[85, 'new_cases'])/2"
   ]
  },
  {
   "cell_type": "markdown",
   "metadata": {},
   "source": [
    "Zde je souhrn funkcí a metod, které jsme si představili v této části:\n",
    "\n",
    "- `covid_df.new_cases.sum()` – výpočet součtu hodnot ve sloupci nebo řadě\n",
    "- `covid_df[covid_df.new_cases > 1000]` – dotazování se na podmnožinu řádků splňujících zvolená kritéria pomocí booleovských výrazů\n",
    "- `df['pos_rate'] = df.new_cases/df.new_tests` – přidávání nových sloupců kombinací dat ze sloupců stávajících\n",
    "- `covid_df.drop('positive_rate')` – odebrání jednoho nebo více sloupců z datového rámce\n",
    "- `sort_values` – řazení řádků datového rámce pomocí hodnot sloupců\n",
    "- `covid_df.at[172, 'new_cases'] = ...` – nahrazení hodnoty v datovém rámci"
   ]
  },
  {
   "cell_type": "markdown",
   "metadata": {},
   "source": [
    "## Práce s kalendářními daty\n",
    "\n",
    "Dosud jsme zkoumali celková čísla případů, testů, kladné míry atd., Bylo by ale užitečné studovat tato čísla i měsíc po měsíci. Hodit by se tu mohl sloupec `date`, protože Pandas poskytuje mnoho nástrojů pro práci s daty."
   ]
  },
  {
   "cell_type": "code",
   "execution_count": 52,
   "metadata": {},
   "outputs": [
    {
     "data": {
      "text/plain": [
       "0      2020-02-02\n",
       "1      2020-02-09\n",
       "2      2020-02-16\n",
       "3      2020-02-23\n",
       "4      2020-03-01\n",
       "          ...    \n",
       "364    2021-02-24\n",
       "365    2021-02-25\n",
       "366    2021-02-26\n",
       "367    2021-02-27\n",
       "368    2021-02-28\n",
       "Name: date, Length: 369, dtype: object"
      ]
     },
     "execution_count": 52,
     "metadata": {},
     "output_type": "execute_result"
    }
   ],
   "source": [
    "covid_df.date"
   ]
  },
  {
   "cell_type": "markdown",
   "metadata": {},
   "source": [
    "Datový typ kalendářního data je aktuálně `object`, takže Pandas neví, že tento sloupec je datum. Můžeme jej převést do sloupce `datetime` pomocí metody `pd.to_datetime`."
   ]
  },
  {
   "cell_type": "code",
   "execution_count": 53,
   "metadata": {},
   "outputs": [
    {
     "data": {
      "text/plain": [
       "0      2020-02-02\n",
       "1      2020-02-09\n",
       "2      2020-02-16\n",
       "3      2020-02-23\n",
       "4      2020-03-01\n",
       "          ...    \n",
       "364    2021-02-24\n",
       "365    2021-02-25\n",
       "366    2021-02-26\n",
       "367    2021-02-27\n",
       "368    2021-02-28\n",
       "Name: date, Length: 369, dtype: object"
      ]
     },
     "execution_count": 53,
     "metadata": {},
     "output_type": "execute_result"
    }
   ],
   "source": [
    "covid_df['date']"
   ]
  },
  {
   "cell_type": "code",
   "execution_count": 54,
   "metadata": {},
   "outputs": [],
   "source": [
    "covid_df['date'] = pd.to_datetime(covid_df.date)"
   ]
  },
  {
   "cell_type": "markdown",
   "metadata": {},
   "source": [
    "Vidíme, že typ se změnil na `datetime64`. Nyní můžeme extrahovat různé části dat do samostatných sloupců pomocí `DatetimeIndex` třídy ([view docs](https://pandas.pydata.org/pandas-docs/version/0.23.4/generated/pandas.DatetimeIndex.html))."
   ]
  },
  {
   "cell_type": "code",
   "execution_count": 55,
   "metadata": {},
   "outputs": [],
   "source": [
    "covid_df['year'] = pd.DatetimeIndex(covid_df.date).year\n",
    "covid_df['month'] = pd.DatetimeIndex(covid_df.date).month\n",
    "covid_df['day'] = pd.DatetimeIndex(covid_df.date).day\n",
    "covid_df['weekday'] = pd.DatetimeIndex(covid_df.date).weekday"
   ]
  },
  {
   "cell_type": "code",
   "execution_count": 56,
   "metadata": {},
   "outputs": [
    {
     "data": {
      "text/html": [
       "<div>\n",
       "<style scoped>\n",
       "    .dataframe tbody tr th:only-of-type {\n",
       "        vertical-align: middle;\n",
       "    }\n",
       "\n",
       "    .dataframe tbody tr th {\n",
       "        vertical-align: top;\n",
       "    }\n",
       "\n",
       "    .dataframe thead th {\n",
       "        text-align: right;\n",
       "    }\n",
       "</style>\n",
       "<table border=\"1\" class=\"dataframe\">\n",
       "  <thead>\n",
       "    <tr style=\"text-align: right;\">\n",
       "      <th></th>\n",
       "      <th>date</th>\n",
       "      <th>new_cases</th>\n",
       "      <th>new_deaths</th>\n",
       "      <th>new_tests</th>\n",
       "      <th>new_vaccinations</th>\n",
       "      <th>year</th>\n",
       "      <th>month</th>\n",
       "      <th>day</th>\n",
       "      <th>weekday</th>\n",
       "    </tr>\n",
       "  </thead>\n",
       "  <tbody>\n",
       "    <tr>\n",
       "      <th>0</th>\n",
       "      <td>2020-02-02</td>\n",
       "      <td>NaN</td>\n",
       "      <td>NaN</td>\n",
       "      <td>NaN</td>\n",
       "      <td>NaN</td>\n",
       "      <td>2020</td>\n",
       "      <td>2</td>\n",
       "      <td>2</td>\n",
       "      <td>6</td>\n",
       "    </tr>\n",
       "    <tr>\n",
       "      <th>1</th>\n",
       "      <td>2020-02-09</td>\n",
       "      <td>NaN</td>\n",
       "      <td>NaN</td>\n",
       "      <td>NaN</td>\n",
       "      <td>NaN</td>\n",
       "      <td>2020</td>\n",
       "      <td>2</td>\n",
       "      <td>9</td>\n",
       "      <td>6</td>\n",
       "    </tr>\n",
       "    <tr>\n",
       "      <th>2</th>\n",
       "      <td>2020-02-16</td>\n",
       "      <td>NaN</td>\n",
       "      <td>NaN</td>\n",
       "      <td>NaN</td>\n",
       "      <td>NaN</td>\n",
       "      <td>2020</td>\n",
       "      <td>2</td>\n",
       "      <td>16</td>\n",
       "      <td>6</td>\n",
       "    </tr>\n",
       "    <tr>\n",
       "      <th>3</th>\n",
       "      <td>2020-02-23</td>\n",
       "      <td>NaN</td>\n",
       "      <td>NaN</td>\n",
       "      <td>NaN</td>\n",
       "      <td>NaN</td>\n",
       "      <td>2020</td>\n",
       "      <td>2</td>\n",
       "      <td>23</td>\n",
       "      <td>6</td>\n",
       "    </tr>\n",
       "    <tr>\n",
       "      <th>4</th>\n",
       "      <td>2020-03-01</td>\n",
       "      <td>3.0</td>\n",
       "      <td>NaN</td>\n",
       "      <td>NaN</td>\n",
       "      <td>NaN</td>\n",
       "      <td>2020</td>\n",
       "      <td>3</td>\n",
       "      <td>1</td>\n",
       "      <td>6</td>\n",
       "    </tr>\n",
       "  </tbody>\n",
       "</table>\n",
       "</div>"
      ],
      "text/plain": [
       "        date  new_cases  new_deaths  new_tests  new_vaccinations  year  month  \\\n",
       "0 2020-02-02        NaN         NaN        NaN               NaN  2020      2   \n",
       "1 2020-02-09        NaN         NaN        NaN               NaN  2020      2   \n",
       "2 2020-02-16        NaN         NaN        NaN               NaN  2020      2   \n",
       "3 2020-02-23        NaN         NaN        NaN               NaN  2020      2   \n",
       "4 2020-03-01        3.0         NaN        NaN               NaN  2020      3   \n",
       "\n",
       "   day  weekday  \n",
       "0    2        6  \n",
       "1    9        6  \n",
       "2   16        6  \n",
       "3   23        6  \n",
       "4    1        6  "
      ]
     },
     "execution_count": 56,
     "metadata": {},
     "output_type": "execute_result"
    }
   ],
   "source": [
    "covid_df.head()"
   ]
  },
  {
   "cell_type": "markdown",
   "metadata": {},
   "source": [
    "Podívejme se na celkové metriky pro květen. Můžeme se dotazovat na řádky pro květen, vybrat podmnožinu sloupců a použít metodu `sum` k agregaci hodnot každého vybraného sloupce."
   ]
  },
  {
   "cell_type": "code",
   "execution_count": 57,
   "metadata": {},
   "outputs": [],
   "source": [
    "# Vuberme data pro měsíc Květen\n",
    "covid_df_may = covid_df[covid_df.month == 5]\n",
    "\n",
    "# Extrahujte podmnožinu sloupců, které se mají agregovat\n",
    "covid_df_may_metrics = covid_df_may[['new_cases', 'new_deaths', 'new_tests']]\n",
    "\n",
    "# Sečtěte sloupce\n",
    "covid_may_totals = covid_df_may_metrics.sum()"
   ]
  },
  {
   "cell_type": "code",
   "execution_count": 58,
   "metadata": {},
   "outputs": [
    {
     "data": {
      "text/plain": [
       "new_cases     1559.0\n",
       "new_deaths      84.0\n",
       "new_tests        0.0\n",
       "dtype: float64"
      ]
     },
     "execution_count": 58,
     "metadata": {},
     "output_type": "execute_result"
    }
   ],
   "source": [
    "covid_may_totals"
   ]
  },
  {
   "cell_type": "code",
   "execution_count": 59,
   "metadata": {},
   "outputs": [
    {
     "data": {
      "text/plain": [
       "new_cases     1559.0\n",
       "new_deaths      84.0\n",
       "new_tests        0.0\n",
       "dtype: float64"
      ]
     },
     "execution_count": 59,
     "metadata": {},
     "output_type": "execute_result"
    }
   ],
   "source": [
    "covid_may_totals"
   ]
  },
  {
   "cell_type": "markdown",
   "metadata": {},
   "source": [
    "Výše uvedené operace můžeme také kombinovat do jednoho příkazu."
   ]
  },
  {
   "cell_type": "code",
   "execution_count": 60,
   "metadata": {},
   "outputs": [
    {
     "data": {
      "text/plain": [
       "new_cases     1559.0\n",
       "new_deaths      84.0\n",
       "new_tests        0.0\n",
       "dtype: float64"
      ]
     },
     "execution_count": 60,
     "metadata": {},
     "output_type": "execute_result"
    }
   ],
   "source": [
    "covid_df[covid_df.month == 5][['new_cases', 'new_deaths', 'new_tests']].sum()"
   ]
  },
  {
   "cell_type": "markdown",
   "metadata": {},
   "source": [
    "Jako další příklad zkontrolujte, zda je počet případů hlášených v neděli vyšší než průměrný počet případů hlášený každý den. Tentokrát můžeme chtít agregovat sloupce pomocí metody `.mean`."
   ]
  },
  {
   "cell_type": "code",
   "execution_count": 61,
   "metadata": {},
   "outputs": [
    {
     "data": {
      "text/plain": [
       "3384.8027397260275"
      ]
     },
     "execution_count": 61,
     "metadata": {},
     "output_type": "execute_result"
    }
   ],
   "source": [
    "# Celkový průměr\n",
    "covid_df.new_cases.mean()"
   ]
  },
  {
   "cell_type": "code",
   "execution_count": 62,
   "metadata": {},
   "outputs": [
    {
     "data": {
      "text/plain": [
       "1969.6603773584907"
      ]
     },
     "execution_count": 62,
     "metadata": {},
     "output_type": "execute_result"
    }
   ],
   "source": [
    "# Průměr pro neděle\n",
    "covid_df[covid_df.weekday == 6].new_cases.mean()"
   ]
  },
  {
   "cell_type": "markdown",
   "metadata": {},
   "source": [
    "Zdá se, že v neděli bylo hlášeno méně případů ve srovnání s jinými dny.\n",
    "\n",
    "Zkuste pomocí níže uvedených buněk zodpovědět na některé další otázky týkající se našich dat."
   ]
  },
  {
   "cell_type": "code",
   "execution_count": null,
   "metadata": {},
   "outputs": [],
   "source": []
  },
  {
   "cell_type": "code",
   "execution_count": null,
   "metadata": {},
   "outputs": [],
   "source": []
  },
  {
   "cell_type": "code",
   "execution_count": null,
   "metadata": {},
   "outputs": [],
   "source": []
  },
  {
   "cell_type": "markdown",
   "metadata": {},
   "source": [
    "## Seskupování a agregace\n",
    "\n",
    "V dalším kroku můžeme chtít shrnout denní data a vytvořit nový datový rámec s měsíčními daty. Pomocí funkce `groupby` můžeme vytvořit skupinu pro každý měsíc, vybrat sloupce, které chceme agregovat, a agregovat je pomocí metody` sum`."
   ]
  },
  {
   "cell_type": "code",
   "execution_count": 63,
   "metadata": {},
   "outputs": [],
   "source": [
    "covid_month_df = covid_df.groupby('month')[['new_cases', 'new_deaths', 'new_tests']].sum()"
   ]
  },
  {
   "cell_type": "code",
   "execution_count": 64,
   "metadata": {},
   "outputs": [
    {
     "data": {
      "text/html": [
       "<div>\n",
       "<style scoped>\n",
       "    .dataframe tbody tr th:only-of-type {\n",
       "        vertical-align: middle;\n",
       "    }\n",
       "\n",
       "    .dataframe tbody tr th {\n",
       "        vertical-align: top;\n",
       "    }\n",
       "\n",
       "    .dataframe thead th {\n",
       "        text-align: right;\n",
       "    }\n",
       "</style>\n",
       "<table border=\"1\" class=\"dataframe\">\n",
       "  <thead>\n",
       "    <tr style=\"text-align: right;\">\n",
       "      <th></th>\n",
       "      <th>new_cases</th>\n",
       "      <th>new_deaths</th>\n",
       "      <th>new_tests</th>\n",
       "    </tr>\n",
       "    <tr>\n",
       "      <th>month</th>\n",
       "      <th></th>\n",
       "      <th></th>\n",
       "      <th></th>\n",
       "    </tr>\n",
       "  </thead>\n",
       "  <tbody>\n",
       "    <tr>\n",
       "      <th>1</th>\n",
       "      <td>266113.0</td>\n",
       "      <td>4728.0</td>\n",
       "      <td>1563110.0</td>\n",
       "    </tr>\n",
       "    <tr>\n",
       "      <th>2</th>\n",
       "      <td>250706.0</td>\n",
       "      <td>4031.0</td>\n",
       "      <td>1647823.0</td>\n",
       "    </tr>\n",
       "    <tr>\n",
       "      <th>3</th>\n",
       "      <td>3308.0</td>\n",
       "      <td>31.0</td>\n",
       "      <td>0.0</td>\n",
       "    </tr>\n",
       "    <tr>\n",
       "      <th>4</th>\n",
       "      <td>4374.0</td>\n",
       "      <td>205.0</td>\n",
       "      <td>0.0</td>\n",
       "    </tr>\n",
       "    <tr>\n",
       "      <th>5</th>\n",
       "      <td>1559.0</td>\n",
       "      <td>84.0</td>\n",
       "      <td>0.0</td>\n",
       "    </tr>\n",
       "    <tr>\n",
       "      <th>6</th>\n",
       "      <td>2686.0</td>\n",
       "      <td>29.0</td>\n",
       "      <td>0.0</td>\n",
       "    </tr>\n",
       "    <tr>\n",
       "      <th>7</th>\n",
       "      <td>4620.0</td>\n",
       "      <td>33.0</td>\n",
       "      <td>0.0</td>\n",
       "    </tr>\n",
       "    <tr>\n",
       "      <th>8</th>\n",
       "      <td>8044.0</td>\n",
       "      <td>42.0</td>\n",
       "      <td>0.0</td>\n",
       "    </tr>\n",
       "    <tr>\n",
       "      <th>9</th>\n",
       "      <td>46145.0</td>\n",
       "      <td>231.0</td>\n",
       "      <td>477078.0</td>\n",
       "    </tr>\n",
       "    <tr>\n",
       "      <th>10</th>\n",
       "      <td>264339.0</td>\n",
       "      <td>2596.0</td>\n",
       "      <td>944790.0</td>\n",
       "    </tr>\n",
       "    <tr>\n",
       "      <th>11</th>\n",
       "      <td>188196.0</td>\n",
       "      <td>5044.0</td>\n",
       "      <td>1028819.0</td>\n",
       "    </tr>\n",
       "    <tr>\n",
       "      <th>12</th>\n",
       "      <td>195363.0</td>\n",
       "      <td>3285.0</td>\n",
       "      <td>1292543.0</td>\n",
       "    </tr>\n",
       "  </tbody>\n",
       "</table>\n",
       "</div>"
      ],
      "text/plain": [
       "       new_cases  new_deaths  new_tests\n",
       "month                                  \n",
       "1       266113.0      4728.0  1563110.0\n",
       "2       250706.0      4031.0  1647823.0\n",
       "3         3308.0        31.0        0.0\n",
       "4         4374.0       205.0        0.0\n",
       "5         1559.0        84.0        0.0\n",
       "6         2686.0        29.0        0.0\n",
       "7         4620.0        33.0        0.0\n",
       "8         8044.0        42.0        0.0\n",
       "9        46145.0       231.0   477078.0\n",
       "10      264339.0      2596.0   944790.0\n",
       "11      188196.0      5044.0  1028819.0\n",
       "12      195363.0      3285.0  1292543.0"
      ]
     },
     "execution_count": 64,
     "metadata": {},
     "output_type": "execute_result"
    }
   ],
   "source": [
    "covid_month_df"
   ]
  },
  {
   "cell_type": "markdown",
   "metadata": {},
   "source": [
    "Výsledkem je nový datový rámec, který jako index používá unikátní hodnoty ze sloupce předaného do metody `.groupby`. Seskupování a agregace je výkonná metoda postupné sumarizace dat do menších datových rámců.\n",
    "\n",
    "Místo agregace podle součtu můžete agregovat také podle jiných měr, jako je průměr. Pojďme vypočítat průměrný počet denních nových případů, úmrtí a testů za každý měsíc."
   ]
  },
  {
   "cell_type": "code",
   "execution_count": 65,
   "metadata": {},
   "outputs": [],
   "source": [
    "covid_month_mean_df = covid_df.groupby('month')[['new_cases', 'new_deaths', 'new_tests']].mean()"
   ]
  },
  {
   "cell_type": "code",
   "execution_count": 66,
   "metadata": {},
   "outputs": [
    {
     "data": {
      "text/html": [
       "<div>\n",
       "<style scoped>\n",
       "    .dataframe tbody tr th:only-of-type {\n",
       "        vertical-align: middle;\n",
       "    }\n",
       "\n",
       "    .dataframe tbody tr th {\n",
       "        vertical-align: top;\n",
       "    }\n",
       "\n",
       "    .dataframe thead th {\n",
       "        text-align: right;\n",
       "    }\n",
       "</style>\n",
       "<table border=\"1\" class=\"dataframe\">\n",
       "  <thead>\n",
       "    <tr style=\"text-align: right;\">\n",
       "      <th></th>\n",
       "      <th>new_cases</th>\n",
       "      <th>new_deaths</th>\n",
       "      <th>new_tests</th>\n",
       "    </tr>\n",
       "    <tr>\n",
       "      <th>month</th>\n",
       "      <th></th>\n",
       "      <th></th>\n",
       "      <th></th>\n",
       "    </tr>\n",
       "  </thead>\n",
       "  <tbody>\n",
       "    <tr>\n",
       "      <th>1</th>\n",
       "      <td>8584.290323</td>\n",
       "      <td>152.516129</td>\n",
       "      <td>50422.903226</td>\n",
       "    </tr>\n",
       "    <tr>\n",
       "      <th>2</th>\n",
       "      <td>8953.785714</td>\n",
       "      <td>143.964286</td>\n",
       "      <td>65912.920000</td>\n",
       "    </tr>\n",
       "    <tr>\n",
       "      <th>3</th>\n",
       "      <td>106.709677</td>\n",
       "      <td>3.100000</td>\n",
       "      <td>NaN</td>\n",
       "    </tr>\n",
       "    <tr>\n",
       "      <th>4</th>\n",
       "      <td>145.800000</td>\n",
       "      <td>6.833333</td>\n",
       "      <td>NaN</td>\n",
       "    </tr>\n",
       "    <tr>\n",
       "      <th>5</th>\n",
       "      <td>50.290323</td>\n",
       "      <td>2.709677</td>\n",
       "      <td>NaN</td>\n",
       "    </tr>\n",
       "    <tr>\n",
       "      <th>6</th>\n",
       "      <td>89.533333</td>\n",
       "      <td>0.966667</td>\n",
       "      <td>NaN</td>\n",
       "    </tr>\n",
       "    <tr>\n",
       "      <th>7</th>\n",
       "      <td>149.032258</td>\n",
       "      <td>1.064516</td>\n",
       "      <td>NaN</td>\n",
       "    </tr>\n",
       "    <tr>\n",
       "      <th>8</th>\n",
       "      <td>259.483871</td>\n",
       "      <td>1.354839</td>\n",
       "      <td>NaN</td>\n",
       "    </tr>\n",
       "    <tr>\n",
       "      <th>9</th>\n",
       "      <td>1538.166667</td>\n",
       "      <td>7.700000</td>\n",
       "      <td>15902.600000</td>\n",
       "    </tr>\n",
       "    <tr>\n",
       "      <th>10</th>\n",
       "      <td>8527.064516</td>\n",
       "      <td>83.741935</td>\n",
       "      <td>30477.096774</td>\n",
       "    </tr>\n",
       "    <tr>\n",
       "      <th>11</th>\n",
       "      <td>6273.200000</td>\n",
       "      <td>168.133333</td>\n",
       "      <td>34293.966667</td>\n",
       "    </tr>\n",
       "    <tr>\n",
       "      <th>12</th>\n",
       "      <td>6302.032258</td>\n",
       "      <td>105.967742</td>\n",
       "      <td>41694.935484</td>\n",
       "    </tr>\n",
       "  </tbody>\n",
       "</table>\n",
       "</div>"
      ],
      "text/plain": [
       "         new_cases  new_deaths     new_tests\n",
       "month                                       \n",
       "1      8584.290323  152.516129  50422.903226\n",
       "2      8953.785714  143.964286  65912.920000\n",
       "3       106.709677    3.100000           NaN\n",
       "4       145.800000    6.833333           NaN\n",
       "5        50.290323    2.709677           NaN\n",
       "6        89.533333    0.966667           NaN\n",
       "7       149.032258    1.064516           NaN\n",
       "8       259.483871    1.354839           NaN\n",
       "9      1538.166667    7.700000  15902.600000\n",
       "10     8527.064516   83.741935  30477.096774\n",
       "11     6273.200000  168.133333  34293.966667\n",
       "12     6302.032258  105.967742  41694.935484"
      ]
     },
     "execution_count": 66,
     "metadata": {},
     "output_type": "execute_result"
    }
   ],
   "source": [
    "covid_month_mean_df"
   ]
  },
  {
   "cell_type": "markdown",
   "metadata": {},
   "source": [
    "Kromě seskupování je další formou agregace průběžný nebo kumulativní součet případů, testů nebo úmrtí až do data každého řádku. Můžeme použít metodu `cumsum` k výpočtu kumulativního součtu sloupce jako nové řady. Přidejte tři nové sloupce: `total_cases`,` total_deaths` a `total_tests`."
   ]
  },
  {
   "cell_type": "code",
   "execution_count": 67,
   "metadata": {},
   "outputs": [],
   "source": [
    "covid_df['total_cases'] = covid_df.new_cases.cumsum()"
   ]
  },
  {
   "cell_type": "code",
   "execution_count": 68,
   "metadata": {},
   "outputs": [],
   "source": [
    "covid_df['total_deaths'] = covid_df.new_deaths.cumsum()"
   ]
  },
  {
   "cell_type": "code",
   "execution_count": 69,
   "metadata": {},
   "outputs": [],
   "source": [
    "covid_df['total_tests'] = covid_df.new_tests.cumsum()"
   ]
  },
  {
   "cell_type": "code",
   "execution_count": 70,
   "metadata": {},
   "outputs": [
    {
     "data": {
      "text/html": [
       "<div>\n",
       "<style scoped>\n",
       "    .dataframe tbody tr th:only-of-type {\n",
       "        vertical-align: middle;\n",
       "    }\n",
       "\n",
       "    .dataframe tbody tr th {\n",
       "        vertical-align: top;\n",
       "    }\n",
       "\n",
       "    .dataframe thead th {\n",
       "        text-align: right;\n",
       "    }\n",
       "</style>\n",
       "<table border=\"1\" class=\"dataframe\">\n",
       "  <thead>\n",
       "    <tr style=\"text-align: right;\">\n",
       "      <th></th>\n",
       "      <th>date</th>\n",
       "      <th>new_cases</th>\n",
       "      <th>new_deaths</th>\n",
       "      <th>new_tests</th>\n",
       "      <th>new_vaccinations</th>\n",
       "      <th>year</th>\n",
       "      <th>month</th>\n",
       "      <th>day</th>\n",
       "      <th>weekday</th>\n",
       "      <th>total_cases</th>\n",
       "      <th>total_deaths</th>\n",
       "      <th>total_tests</th>\n",
       "    </tr>\n",
       "  </thead>\n",
       "  <tbody>\n",
       "    <tr>\n",
       "      <th>0</th>\n",
       "      <td>2020-02-02</td>\n",
       "      <td>NaN</td>\n",
       "      <td>NaN</td>\n",
       "      <td>NaN</td>\n",
       "      <td>NaN</td>\n",
       "      <td>2020</td>\n",
       "      <td>2</td>\n",
       "      <td>2</td>\n",
       "      <td>6</td>\n",
       "      <td>NaN</td>\n",
       "      <td>NaN</td>\n",
       "      <td>NaN</td>\n",
       "    </tr>\n",
       "    <tr>\n",
       "      <th>1</th>\n",
       "      <td>2020-02-09</td>\n",
       "      <td>NaN</td>\n",
       "      <td>NaN</td>\n",
       "      <td>NaN</td>\n",
       "      <td>NaN</td>\n",
       "      <td>2020</td>\n",
       "      <td>2</td>\n",
       "      <td>9</td>\n",
       "      <td>6</td>\n",
       "      <td>NaN</td>\n",
       "      <td>NaN</td>\n",
       "      <td>NaN</td>\n",
       "    </tr>\n",
       "    <tr>\n",
       "      <th>2</th>\n",
       "      <td>2020-02-16</td>\n",
       "      <td>NaN</td>\n",
       "      <td>NaN</td>\n",
       "      <td>NaN</td>\n",
       "      <td>NaN</td>\n",
       "      <td>2020</td>\n",
       "      <td>2</td>\n",
       "      <td>16</td>\n",
       "      <td>6</td>\n",
       "      <td>NaN</td>\n",
       "      <td>NaN</td>\n",
       "      <td>NaN</td>\n",
       "    </tr>\n",
       "    <tr>\n",
       "      <th>3</th>\n",
       "      <td>2020-02-23</td>\n",
       "      <td>NaN</td>\n",
       "      <td>NaN</td>\n",
       "      <td>NaN</td>\n",
       "      <td>NaN</td>\n",
       "      <td>2020</td>\n",
       "      <td>2</td>\n",
       "      <td>23</td>\n",
       "      <td>6</td>\n",
       "      <td>NaN</td>\n",
       "      <td>NaN</td>\n",
       "      <td>NaN</td>\n",
       "    </tr>\n",
       "    <tr>\n",
       "      <th>4</th>\n",
       "      <td>2020-03-01</td>\n",
       "      <td>3.0</td>\n",
       "      <td>NaN</td>\n",
       "      <td>NaN</td>\n",
       "      <td>NaN</td>\n",
       "      <td>2020</td>\n",
       "      <td>3</td>\n",
       "      <td>1</td>\n",
       "      <td>6</td>\n",
       "      <td>3.0</td>\n",
       "      <td>NaN</td>\n",
       "      <td>NaN</td>\n",
       "    </tr>\n",
       "    <tr>\n",
       "      <th>...</th>\n",
       "      <td>...</td>\n",
       "      <td>...</td>\n",
       "      <td>...</td>\n",
       "      <td>...</td>\n",
       "      <td>...</td>\n",
       "      <td>...</td>\n",
       "      <td>...</td>\n",
       "      <td>...</td>\n",
       "      <td>...</td>\n",
       "      <td>...</td>\n",
       "      <td>...</td>\n",
       "      <td>...</td>\n",
       "    </tr>\n",
       "    <tr>\n",
       "      <th>364</th>\n",
       "      <td>2021-02-24</td>\n",
       "      <td>15861.0</td>\n",
       "      <td>145.0</td>\n",
       "      <td>91299.0</td>\n",
       "      <td>19207.0</td>\n",
       "      <td>2021</td>\n",
       "      <td>2</td>\n",
       "      <td>24</td>\n",
       "      <td>2</td>\n",
       "      <td>1184325.0</td>\n",
       "      <td>19682.0</td>\n",
       "      <td>6869130.0</td>\n",
       "    </tr>\n",
       "    <tr>\n",
       "      <th>365</th>\n",
       "      <td>2021-02-25</td>\n",
       "      <td>13816.0</td>\n",
       "      <td>153.0</td>\n",
       "      <td>85033.0</td>\n",
       "      <td>22224.0</td>\n",
       "      <td>2021</td>\n",
       "      <td>2</td>\n",
       "      <td>25</td>\n",
       "      <td>3</td>\n",
       "      <td>1198141.0</td>\n",
       "      <td>19835.0</td>\n",
       "      <td>6954163.0</td>\n",
       "    </tr>\n",
       "    <tr>\n",
       "      <th>366</th>\n",
       "      <td>2021-02-26</td>\n",
       "      <td>14612.0</td>\n",
       "      <td>164.0</td>\n",
       "      <td>NaN</td>\n",
       "      <td>19039.0</td>\n",
       "      <td>2021</td>\n",
       "      <td>2</td>\n",
       "      <td>26</td>\n",
       "      <td>4</td>\n",
       "      <td>1212753.0</td>\n",
       "      <td>19999.0</td>\n",
       "      <td>NaN</td>\n",
       "    </tr>\n",
       "    <tr>\n",
       "      <th>367</th>\n",
       "      <td>2021-02-27</td>\n",
       "      <td>14815.0</td>\n",
       "      <td>195.0</td>\n",
       "      <td>NaN</td>\n",
       "      <td>3313.0</td>\n",
       "      <td>2021</td>\n",
       "      <td>2</td>\n",
       "      <td>27</td>\n",
       "      <td>5</td>\n",
       "      <td>1227568.0</td>\n",
       "      <td>20194.0</td>\n",
       "      <td>NaN</td>\n",
       "    </tr>\n",
       "    <tr>\n",
       "      <th>368</th>\n",
       "      <td>2021-02-28</td>\n",
       "      <td>7885.0</td>\n",
       "      <td>145.0</td>\n",
       "      <td>NaN</td>\n",
       "      <td>2608.0</td>\n",
       "      <td>2021</td>\n",
       "      <td>2</td>\n",
       "      <td>28</td>\n",
       "      <td>6</td>\n",
       "      <td>1235453.0</td>\n",
       "      <td>20339.0</td>\n",
       "      <td>NaN</td>\n",
       "    </tr>\n",
       "  </tbody>\n",
       "</table>\n",
       "<p>369 rows × 12 columns</p>\n",
       "</div>"
      ],
      "text/plain": [
       "          date  new_cases  new_deaths  new_tests  new_vaccinations  year  \\\n",
       "0   2020-02-02        NaN         NaN        NaN               NaN  2020   \n",
       "1   2020-02-09        NaN         NaN        NaN               NaN  2020   \n",
       "2   2020-02-16        NaN         NaN        NaN               NaN  2020   \n",
       "3   2020-02-23        NaN         NaN        NaN               NaN  2020   \n",
       "4   2020-03-01        3.0         NaN        NaN               NaN  2020   \n",
       "..         ...        ...         ...        ...               ...   ...   \n",
       "364 2021-02-24    15861.0       145.0    91299.0           19207.0  2021   \n",
       "365 2021-02-25    13816.0       153.0    85033.0           22224.0  2021   \n",
       "366 2021-02-26    14612.0       164.0        NaN           19039.0  2021   \n",
       "367 2021-02-27    14815.0       195.0        NaN            3313.0  2021   \n",
       "368 2021-02-28     7885.0       145.0        NaN            2608.0  2021   \n",
       "\n",
       "     month  day  weekday  total_cases  total_deaths  total_tests  \n",
       "0        2    2        6          NaN           NaN          NaN  \n",
       "1        2    9        6          NaN           NaN          NaN  \n",
       "2        2   16        6          NaN           NaN          NaN  \n",
       "3        2   23        6          NaN           NaN          NaN  \n",
       "4        3    1        6          3.0           NaN          NaN  \n",
       "..     ...  ...      ...          ...           ...          ...  \n",
       "364      2   24        2    1184325.0       19682.0    6869130.0  \n",
       "365      2   25        3    1198141.0       19835.0    6954163.0  \n",
       "366      2   26        4    1212753.0       19999.0          NaN  \n",
       "367      2   27        5    1227568.0       20194.0          NaN  \n",
       "368      2   28        6    1235453.0       20339.0          NaN  \n",
       "\n",
       "[369 rows x 12 columns]"
      ]
     },
     "execution_count": 70,
     "metadata": {},
     "output_type": "execute_result"
    }
   ],
   "source": [
    "covid_df"
   ]
  },
  {
   "cell_type": "markdown",
   "metadata": {},
   "source": [
    "Všimněte si, že hodnoty `NaN` ve sloupci` total_tests` zůstaly nedotčeny."
   ]
  },
  {
   "cell_type": "markdown",
   "metadata": {},
   "source": [
    "## Zápis dat zpět do souborů\n",
    "\n",
    "Po dokončení analýzy a přidání nových sloupců byste měli výsledky zapsat zpět do souboru. Jinak dojde při vypnutí notebooku Jupyter ke ztrátě dat. Před zápisem do souboru si nejprve vytvořme datový rámec obsahující pouze sloupce, které chceme zaznamenat."
   ]
  },
  {
   "cell_type": "code",
   "execution_count": 71,
   "metadata": {},
   "outputs": [],
   "source": [
    "result_df = covid_df[['date',\n",
    "                       'new_cases', \n",
    "                       'total_cases', \n",
    "                       'new_deaths', \n",
    "                       'total_deaths', \n",
    "                       'new_tests', \n",
    "                       'total_tests']]"
   ]
  },
  {
   "cell_type": "code",
   "execution_count": 72,
   "metadata": {},
   "outputs": [
    {
     "data": {
      "text/html": [
       "<div>\n",
       "<style scoped>\n",
       "    .dataframe tbody tr th:only-of-type {\n",
       "        vertical-align: middle;\n",
       "    }\n",
       "\n",
       "    .dataframe tbody tr th {\n",
       "        vertical-align: top;\n",
       "    }\n",
       "\n",
       "    .dataframe thead th {\n",
       "        text-align: right;\n",
       "    }\n",
       "</style>\n",
       "<table border=\"1\" class=\"dataframe\">\n",
       "  <thead>\n",
       "    <tr style=\"text-align: right;\">\n",
       "      <th></th>\n",
       "      <th>date</th>\n",
       "      <th>new_cases</th>\n",
       "      <th>total_cases</th>\n",
       "      <th>new_deaths</th>\n",
       "      <th>total_deaths</th>\n",
       "      <th>new_tests</th>\n",
       "      <th>total_tests</th>\n",
       "    </tr>\n",
       "  </thead>\n",
       "  <tbody>\n",
       "    <tr>\n",
       "      <th>0</th>\n",
       "      <td>2020-02-02</td>\n",
       "      <td>NaN</td>\n",
       "      <td>NaN</td>\n",
       "      <td>NaN</td>\n",
       "      <td>NaN</td>\n",
       "      <td>NaN</td>\n",
       "      <td>NaN</td>\n",
       "    </tr>\n",
       "    <tr>\n",
       "      <th>1</th>\n",
       "      <td>2020-02-09</td>\n",
       "      <td>NaN</td>\n",
       "      <td>NaN</td>\n",
       "      <td>NaN</td>\n",
       "      <td>NaN</td>\n",
       "      <td>NaN</td>\n",
       "      <td>NaN</td>\n",
       "    </tr>\n",
       "    <tr>\n",
       "      <th>2</th>\n",
       "      <td>2020-02-16</td>\n",
       "      <td>NaN</td>\n",
       "      <td>NaN</td>\n",
       "      <td>NaN</td>\n",
       "      <td>NaN</td>\n",
       "      <td>NaN</td>\n",
       "      <td>NaN</td>\n",
       "    </tr>\n",
       "    <tr>\n",
       "      <th>3</th>\n",
       "      <td>2020-02-23</td>\n",
       "      <td>NaN</td>\n",
       "      <td>NaN</td>\n",
       "      <td>NaN</td>\n",
       "      <td>NaN</td>\n",
       "      <td>NaN</td>\n",
       "      <td>NaN</td>\n",
       "    </tr>\n",
       "    <tr>\n",
       "      <th>4</th>\n",
       "      <td>2020-03-01</td>\n",
       "      <td>3.0</td>\n",
       "      <td>3.0</td>\n",
       "      <td>NaN</td>\n",
       "      <td>NaN</td>\n",
       "      <td>NaN</td>\n",
       "      <td>NaN</td>\n",
       "    </tr>\n",
       "  </tbody>\n",
       "</table>\n",
       "</div>"
      ],
      "text/plain": [
       "        date  new_cases  total_cases  new_deaths  total_deaths  new_tests  \\\n",
       "0 2020-02-02        NaN          NaN         NaN           NaN        NaN   \n",
       "1 2020-02-09        NaN          NaN         NaN           NaN        NaN   \n",
       "2 2020-02-16        NaN          NaN         NaN           NaN        NaN   \n",
       "3 2020-02-23        NaN          NaN         NaN           NaN        NaN   \n",
       "4 2020-03-01        3.0          3.0         NaN           NaN        NaN   \n",
       "\n",
       "   total_tests  \n",
       "0          NaN  \n",
       "1          NaN  \n",
       "2          NaN  \n",
       "3          NaN  \n",
       "4          NaN  "
      ]
     },
     "execution_count": 72,
     "metadata": {},
     "output_type": "execute_result"
    }
   ],
   "source": [
    "result_df.head()"
   ]
  },
  {
   "cell_type": "code",
   "execution_count": 73,
   "metadata": {},
   "outputs": [],
   "source": [
    "result_df.to_csv('results.csv', index=None)"
   ]
  },
  {
   "cell_type": "markdown",
   "metadata": {},
   "source": [
    "K zápisu dat z datového rámce do souboru můžeme použít funkci `to_csv`."
   ]
  },
  {
   "cell_type": "markdown",
   "metadata": {},
   "source": [
    "Funkce `to_csv` také standardně obsahuje další sloupec pro ukládání indexu datového rámce. Abychom toto chování vypnuli, předáme `index = None`."
   ]
  },
  {
   "cell_type": "markdown",
   "metadata": {},
   "source": [
    "## Základní vykreslování pomocí knihovny Pandas\n",
    "\n",
    "V notebooku Jupyter obecně používáme knihovnu jako `matplotlib` nebo` seaborn` pro vykreslování grafů. Datové rámce a řady Pandas však poskytují praktickou metodu `.plot` pro rychlé a snadné vykreslování.\n",
    "\n",
    "Nakreslíme spojnicový graf ukazující, jak se počet denních případů v průběhu času mění."
   ]
  },
  {
   "cell_type": "code",
   "execution_count": 74,
   "metadata": {},
   "outputs": [
    {
     "data": {
      "image/png": "[encoded data removed]",
      "text/plain": [
       "<Figure size 432x288 with 1 Axes>"
      ]
     },
     "metadata": {
      "needs_background": "light"
     },
     "output_type": "display_data"
    }
   ],
   "source": [
    "result_df.new_cases.plot();"
   ]
  },
  {
   "cell_type": "markdown",
   "metadata": {},
   "source": [
    "Zatímco tento graf ukazuje celkový trend, je těžké určit, kde došlo k vrcholu, protože na ose X nejsou žádná data. K řešení tohoto problému můžeme použít sloupec `date` jako index pro datový rámec."
   ]
  },
  {
   "cell_type": "code",
   "execution_count": 75,
   "metadata": {},
   "outputs": [],
   "source": [
    "result_df.set_index('date', inplace=True)"
   ]
  },
  {
   "cell_type": "code",
   "execution_count": 76,
   "metadata": {},
   "outputs": [
    {
     "data": {
      "text/html": [
       "<div>\n",
       "<style scoped>\n",
       "    .dataframe tbody tr th:only-of-type {\n",
       "        vertical-align: middle;\n",
       "    }\n",
       "\n",
       "    .dataframe tbody tr th {\n",
       "        vertical-align: top;\n",
       "    }\n",
       "\n",
       "    .dataframe thead th {\n",
       "        text-align: right;\n",
       "    }\n",
       "</style>\n",
       "<table border=\"1\" class=\"dataframe\">\n",
       "  <thead>\n",
       "    <tr style=\"text-align: right;\">\n",
       "      <th></th>\n",
       "      <th>new_cases</th>\n",
       "      <th>total_cases</th>\n",
       "      <th>new_deaths</th>\n",
       "      <th>total_deaths</th>\n",
       "      <th>new_tests</th>\n",
       "      <th>total_tests</th>\n",
       "    </tr>\n",
       "    <tr>\n",
       "      <th>date</th>\n",
       "      <th></th>\n",
       "      <th></th>\n",
       "      <th></th>\n",
       "      <th></th>\n",
       "      <th></th>\n",
       "      <th></th>\n",
       "    </tr>\n",
       "  </thead>\n",
       "  <tbody>\n",
       "    <tr>\n",
       "      <th>2020-02-02</th>\n",
       "      <td>NaN</td>\n",
       "      <td>NaN</td>\n",
       "      <td>NaN</td>\n",
       "      <td>NaN</td>\n",
       "      <td>NaN</td>\n",
       "      <td>NaN</td>\n",
       "    </tr>\n",
       "    <tr>\n",
       "      <th>2020-02-09</th>\n",
       "      <td>NaN</td>\n",
       "      <td>NaN</td>\n",
       "      <td>NaN</td>\n",
       "      <td>NaN</td>\n",
       "      <td>NaN</td>\n",
       "      <td>NaN</td>\n",
       "    </tr>\n",
       "    <tr>\n",
       "      <th>2020-02-16</th>\n",
       "      <td>NaN</td>\n",
       "      <td>NaN</td>\n",
       "      <td>NaN</td>\n",
       "      <td>NaN</td>\n",
       "      <td>NaN</td>\n",
       "      <td>NaN</td>\n",
       "    </tr>\n",
       "    <tr>\n",
       "      <th>2020-02-23</th>\n",
       "      <td>NaN</td>\n",
       "      <td>NaN</td>\n",
       "      <td>NaN</td>\n",
       "      <td>NaN</td>\n",
       "      <td>NaN</td>\n",
       "      <td>NaN</td>\n",
       "    </tr>\n",
       "    <tr>\n",
       "      <th>2020-03-01</th>\n",
       "      <td>3.0</td>\n",
       "      <td>3.0</td>\n",
       "      <td>NaN</td>\n",
       "      <td>NaN</td>\n",
       "      <td>NaN</td>\n",
       "      <td>NaN</td>\n",
       "    </tr>\n",
       "    <tr>\n",
       "      <th>...</th>\n",
       "      <td>...</td>\n",
       "      <td>...</td>\n",
       "      <td>...</td>\n",
       "      <td>...</td>\n",
       "      <td>...</td>\n",
       "      <td>...</td>\n",
       "    </tr>\n",
       "    <tr>\n",
       "      <th>2021-02-24</th>\n",
       "      <td>15861.0</td>\n",
       "      <td>1184325.0</td>\n",
       "      <td>145.0</td>\n",
       "      <td>19682.0</td>\n",
       "      <td>91299.0</td>\n",
       "      <td>6869130.0</td>\n",
       "    </tr>\n",
       "    <tr>\n",
       "      <th>2021-02-25</th>\n",
       "      <td>13816.0</td>\n",
       "      <td>1198141.0</td>\n",
       "      <td>153.0</td>\n",
       "      <td>19835.0</td>\n",
       "      <td>85033.0</td>\n",
       "      <td>6954163.0</td>\n",
       "    </tr>\n",
       "    <tr>\n",
       "      <th>2021-02-26</th>\n",
       "      <td>14612.0</td>\n",
       "      <td>1212753.0</td>\n",
       "      <td>164.0</td>\n",
       "      <td>19999.0</td>\n",
       "      <td>NaN</td>\n",
       "      <td>NaN</td>\n",
       "    </tr>\n",
       "    <tr>\n",
       "      <th>2021-02-27</th>\n",
       "      <td>14815.0</td>\n",
       "      <td>1227568.0</td>\n",
       "      <td>195.0</td>\n",
       "      <td>20194.0</td>\n",
       "      <td>NaN</td>\n",
       "      <td>NaN</td>\n",
       "    </tr>\n",
       "    <tr>\n",
       "      <th>2021-02-28</th>\n",
       "      <td>7885.0</td>\n",
       "      <td>1235453.0</td>\n",
       "      <td>145.0</td>\n",
       "      <td>20339.0</td>\n",
       "      <td>NaN</td>\n",
       "      <td>NaN</td>\n",
       "    </tr>\n",
       "  </tbody>\n",
       "</table>\n",
       "<p>369 rows × 6 columns</p>\n",
       "</div>"
      ],
      "text/plain": [
       "            new_cases  total_cases  new_deaths  total_deaths  new_tests  \\\n",
       "date                                                                      \n",
       "2020-02-02        NaN          NaN         NaN           NaN        NaN   \n",
       "2020-02-09        NaN          NaN         NaN           NaN        NaN   \n",
       "2020-02-16        NaN          NaN         NaN           NaN        NaN   \n",
       "2020-02-23        NaN          NaN         NaN           NaN        NaN   \n",
       "2020-03-01        3.0          3.0         NaN           NaN        NaN   \n",
       "...               ...          ...         ...           ...        ...   \n",
       "2021-02-24    15861.0    1184325.0       145.0       19682.0    91299.0   \n",
       "2021-02-25    13816.0    1198141.0       153.0       19835.0    85033.0   \n",
       "2021-02-26    14612.0    1212753.0       164.0       19999.0        NaN   \n",
       "2021-02-27    14815.0    1227568.0       195.0       20194.0        NaN   \n",
       "2021-02-28     7885.0    1235453.0       145.0       20339.0        NaN   \n",
       "\n",
       "            total_tests  \n",
       "date                     \n",
       "2020-02-02          NaN  \n",
       "2020-02-09          NaN  \n",
       "2020-02-16          NaN  \n",
       "2020-02-23          NaN  \n",
       "2020-03-01          NaN  \n",
       "...                 ...  \n",
       "2021-02-24    6869130.0  \n",
       "2021-02-25    6954163.0  \n",
       "2021-02-26          NaN  \n",
       "2021-02-27          NaN  \n",
       "2021-02-28          NaN  \n",
       "\n",
       "[369 rows x 6 columns]"
      ]
     },
     "execution_count": 76,
     "metadata": {},
     "output_type": "execute_result"
    }
   ],
   "source": [
    "result_df"
   ]
  },
  {
   "cell_type": "markdown",
   "metadata": {},
   "source": [
    "Všimněte si, že index datového rámce nemusí být číselný. Použití data jako indexu nám také umožňuje získat vstup pro konkrétní data pomocí `.loc`."
   ]
  },
  {
   "cell_type": "code",
   "execution_count": 77,
   "metadata": {},
   "outputs": [
    {
     "data": {
      "text/plain": [
       "new_cases         499.0\n",
       "total_cases     25090.0\n",
       "new_deaths          1.0\n",
       "total_deaths      425.0\n",
       "new_tests       11137.0\n",
       "total_tests     11137.0\n",
       "Name: 2020-09-01 00:00:00, dtype: float64"
      ]
     },
     "execution_count": 77,
     "metadata": {},
     "output_type": "execute_result"
    }
   ],
   "source": [
    "result_df.loc['2020-09-01']"
   ]
  },
  {
   "cell_type": "markdown",
   "metadata": {},
   "source": [
    "Pojďme vykreslit nové případy a nová úmrtí za den jako spojnicové grafy."
   ]
  },
  {
   "cell_type": "code",
   "execution_count": 78,
   "metadata": {},
   "outputs": [
    {
     "data": {
      "image/png": "[encoded data removed]",
      "text/plain": [
       "<Figure size 432x288 with 1 Axes>"
      ]
     },
     "metadata": {
      "needs_background": "light"
     },
     "output_type": "display_data"
    }
   ],
   "source": [
    "result_df.new_cases.plot()\n",
    "result_df.new_deaths.plot();"
   ]
  },
  {
   "cell_type": "markdown",
   "metadata": {},
   "source": [
    "Můžeme také porovnat celkový počet případů s celkovým počtem úmrtí."
   ]
  },
  {
   "cell_type": "code",
   "execution_count": 79,
   "metadata": {},
   "outputs": [
    {
     "data": {
      "image/png": "[encoded data removed]",
      "text/plain": [
       "<Figure size 432x288 with 1 Axes>"
      ]
     },
     "metadata": {
      "needs_background": "light"
     },
     "output_type": "display_data"
    }
   ],
   "source": [
    "result_df.total_cases.plot()\n",
    "result_df.total_deaths.plot();"
   ]
  },
  {
   "cell_type": "markdown",
   "metadata": {},
   "source": [
    "Podívejme se, jak se úmrtnost mění čase."
   ]
  },
  {
   "cell_type": "code",
   "execution_count": 80,
   "metadata": {},
   "outputs": [],
   "source": [
    "death_rate = result_df.total_deaths / result_df.total_cases"
   ]
  },
  {
   "cell_type": "code",
   "execution_count": 81,
   "metadata": {},
   "outputs": [
    {
     "data": {
      "image/png": "[encoded data removed]",
      "text/plain": [
       "<Figure size 432x288 with 1 Axes>"
      ]
     },
     "metadata": {
      "needs_background": "light"
     },
     "output_type": "display_data"
    }
   ],
   "source": [
    "death_rate.plot(title='Death Rate');"
   ]
  },
  {
   "cell_type": "markdown",
   "metadata": {},
   "source": [
    "Nakonec si pojďme zobrazit některá měsíční data pomocí sloupcového grafu k vizualizaci trendu na vyšší úrovni."
   ]
  },
  {
   "cell_type": "code",
   "execution_count": 82,
   "metadata": {},
   "outputs": [
    {
     "data": {
      "image/png": "[encoded data removed]",
      "text/plain": [
       "<Figure size 432x288 with 1 Axes>"
      ]
     },
     "metadata": {
      "needs_background": "light"
     },
     "output_type": "display_data"
    }
   ],
   "source": [
    "covid_month_df.new_cases.plot(kind='bar');"
   ]
  },
  {
   "cell_type": "code",
   "execution_count": 83,
   "metadata": {},
   "outputs": [
    {
     "data": {
      "text/plain": [
       "<matplotlib.axes._subplots.AxesSubplot at 0x7f9ecaab9ca0>"
      ]
     },
     "execution_count": 83,
     "metadata": {},
     "output_type": "execute_result"
    },
    {
     "data": {
      "image/png": "[encoded data removed]",
      "text/plain": [
       "<Figure size 432x288 with 1 Axes>"
      ]
     },
     "metadata": {
      "needs_background": "light"
     },
     "output_type": "display_data"
    }
   ],
   "source": [
    "covid_month_df.new_tests.plot(kind='bar')"
   ]
  },
  {
   "cell_type": "code",
   "execution_count": null,
   "metadata": {},
   "outputs": [],
   "source": []
  }
 ],
 "metadata": {
  "kernelspec": {
   "display_name": "Python 3",
   "language": "python",
   "name": "python3"
  },
  "language_info": {
   "codemirror_mode": {
    "name": "ipython",
    "version": 3
   },
   "file_extension": ".py",
   "mimetype": "text/x-python",
   "name": "python",
   "nbconvert_exporter": "python",
   "pygments_lexer": "ipython3",
   "version": "3.8.3"
  }
 },
 "nbformat": 4,
 "nbformat_minor": 4
}
