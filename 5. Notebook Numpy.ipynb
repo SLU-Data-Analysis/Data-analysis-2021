{
 "cells": [
  {
   "cell_type": "markdown",
   "metadata": {},
   "source": [
    "# Numerické výpočty s Pythonem a Numpy"
   ]
  },
  {
   "cell_type": "markdown",
   "metadata": {},
   "source": [
    "V této části se seznámíme s:\n",
    "\n",
    "- Práce s numerickými daty v Pythonu\n",
    "- Přechod z Python seznamů na Numpy pole\n",
    "- Vícerozměrná pole v Numpy a jejich výhody\n",
    "- Operace s poli, broadcasting, indexování a slicing\n",
    "- Práce se CSV soubory pomocí Numpy"
   ]
  },
  {
   "cell_type": "markdown",
   "metadata": {},
   "source": [
    "## Práce s numerickými daty\n",
    "\n",
    "\"Daty\" v datové analýze jsou většinou myšlena numericka data, např: ceny akcií, údaje o prodeji, měření senzorů, sportovní výsledky, databázové tabulky atd. [Numpy](https://numpy.org) knihovna poskytuje specializované datové struktury, funkce a další nástroje pro numerické výpočty v Pythonu. Uveďme si příklad, abychom si ukázali, proč a jak můžeme používat Numpy pro práci s číselnými daty.\n",
    "\n",
    "> Předpokládejme, že chceme zpracovat údaje o klimatu, jako je teplota, srážky a vlhkost, abychom zjistili, zda se daný region hodí pro pěstování jablek. Jednoduchým postupem by bylo formulovat vztah mezi ročním výnosem jablek (tuny na hektar) a klimatickými podmínkami, jako je průměrná teplota (ve stupních Fahrenheita), srážky (v milimetrech) a průměrná relativní vlhkost (v procentech) jako lineární rovnici.\n",
    "\n",
    ">\n",
    "> `výnos_jablek = w1 * teplota + w2 * srážky + w3 * vlhkost`\n",
    "\n",
    "Výnos jablek vyjadřujeme jako vážený součet teploty, srážek a vlhkosti. Tato rovnice je přibližná, protože skutečný vztah nemusí být nutně lineární a mohou se na něm podílet i další faktory. Jednoduchý lineární model, jako je tento, ale v praxi často funguje dobře.\n",
    "\n",
    "Na základě statistické analýzy historických dat můžeme přijít na rozumné hodnoty pro váhy `w1`,` w2` a `w3`. Zde je příklad sady hodnot:"
   ]
  },
  {
   "cell_type": "code",
   "execution_count": 4,
   "metadata": {},
   "outputs": [],
   "source": [
    "w1, w2, w3 = 0.3, 0.2, 0.5"
   ]
  },
  {
   "cell_type": "markdown",
   "metadata": {},
   "source": [
    "Vzhledem k některým klimatickým údajům pro region nyní můžeme předpovědět výnos jablek. Tady je několik ukázkových dat:\n",
    "\n",
    "| Region | Teplota (`F`) | srážky (`mm`) | vlhkost  (`%`) | \n",
    "|------|--------------------------|------------------|------------------------|\n",
    "| Kanto|       73                |       67         |          43           |\n",
    "| Johto|      91                |       88         |          64           |\n",
    "| Hoenn|       87                |       134         |          58           |\n",
    "| Sinnoh|      102                |       43         |          37           |         \n",
    "| Unova|      69                |       96         |          70           |   \n",
    "\n",
    "Nejprve můžeme definovat některé proměnné pro záznam klimatických údajů pro region."
   ]
  },
  {
   "cell_type": "code",
   "execution_count": 2,
   "metadata": {},
   "outputs": [],
   "source": [
    "kanto_teplota = 73\n",
    "kanto_srážky = 67\n",
    "kanto_vlhkost = 43"
   ]
  },
  {
   "cell_type": "markdown",
   "metadata": {},
   "source": [
    "Nyní můžeme tyto proměnné dosadit do lineární rovnice a předpovědět tak výnos jablek."
   ]
  },
  {
   "cell_type": "code",
   "execution_count": 3,
   "metadata": {},
   "outputs": [
    {
     "data": {
      "text/plain": [
       "56.8"
      ]
     },
     "execution_count": 3,
     "metadata": {},
     "output_type": "execute_result"
    }
   ],
   "source": [
    "kanto_výnos_jablek = w1*kanto_teplota + w2*kanto_srážky + w3*kanto_vlhkost\n",
    "kanto_výnos_jablek"
   ]
  },
  {
   "cell_type": "code",
   "execution_count": 4,
   "metadata": {},
   "outputs": [
    {
     "name": "stdout",
     "output_type": "stream",
     "text": [
      "Předpokládaný výnos jablek za rok je 56.8 tun na hektar.\n"
     ]
    }
   ],
   "source": [
    "print(\"Předpokládaný výnos jablek za rok je {} tun na hektar.\".format(kanto_výnos_jablek))"
   ]
  },
  {
   "cell_type": "markdown",
   "metadata": {},
   "source": [
    "Abychom o něco zjednodušili výše uvedený výpočet pro více oblastí, můžeme reprezentovat klimatické údaje pro každou oblast jako vektor, tj. seznam čísel."
   ]
  },
  {
   "cell_type": "code",
   "execution_count": 5,
   "metadata": {},
   "outputs": [],
   "source": [
    "kanto = [73, 67, 43]\n",
    "johto = [91, 88, 64]\n",
    "hoenn = [87, 134, 58]\n",
    "sinnoh = [102, 43, 37]\n",
    "unova = [69, 96, 70]"
   ]
  },
  {
   "cell_type": "code",
   "execution_count": 6,
   "metadata": {},
   "outputs": [],
   "source": [
    "váhy = [w1, w2, w3]"
   ]
  },
  {
   "cell_type": "markdown",
   "metadata": {},
   "source": [
    "Tři čísla v každém vektoru představují data o teplotě, srážkách a vlhkosti.\n",
    "\n",
    "Můžeme si také představit množinu vah použitých ve vzorci jako vektor."
   ]
  },
  {
   "cell_type": "markdown",
   "metadata": {},
   "source": [
    "Nyní můžeme napsat funkci `výnos plodiny` pro výpočet výnosu jablek (nebo jakékoli jiné plodiny) s ohledem na klimatické údaje a příslušné váhy."
   ]
  },
  {
   "cell_type": "code",
   "execution_count": 7,
   "metadata": {},
   "outputs": [],
   "source": [
    "def výnos_plodiny(region, váhy):\n",
    "    výsledek = 0\n",
    "    for x, w in zip(region, váhy):\n",
    "        výsledek += x * w\n",
    "    return výsledek"
   ]
  },
  {
   "cell_type": "code",
   "execution_count": 8,
   "metadata": {},
   "outputs": [
    {
     "data": {
      "text/plain": [
       "76.9"
      ]
     },
     "execution_count": 8,
     "metadata": {},
     "output_type": "execute_result"
    }
   ],
   "source": [
    "výnos_plodiny(johto, váhy)"
   ]
  },
  {
   "cell_type": "code",
   "execution_count": 9,
   "metadata": {},
   "outputs": [
    {
     "data": {
      "text/plain": [
       "81.9"
      ]
     },
     "execution_count": 9,
     "metadata": {},
     "output_type": "execute_result"
    }
   ],
   "source": [
    "výnos_plodiny(hoenn, váhy)"
   ]
  },
  {
   "cell_type": "code",
   "execution_count": 10,
   "metadata": {},
   "outputs": [
    {
     "data": {
      "text/plain": [
       "74.9"
      ]
     },
     "execution_count": 10,
     "metadata": {},
     "output_type": "execute_result"
    }
   ],
   "source": [
    "výnos_plodiny(unova, váhy)"
   ]
  },
  {
   "cell_type": "markdown",
   "metadata": {},
   "source": [
    "## Přechod z Python seznamů na Numpy pole\n",
    "\n",
    "\n",
    "Výpočet provedený funkcí `výnos_plodiny` (elementární násobení dvou vektorů a součet výsledků) se nazývá *skalární součin*.\n",
    "\n",
    "Knihovna Numpy nám pro tuhle příležitost poskytuje funkci, která přímo spočítá skalární součin dvou vektorů. Nejprve ale musíme převést naše Python seznamy na Numpy pole.\n",
    "\n",
    "Když importujeme knihovnu `numpy`, je běžnou praxí ji importovat pod aliasem `np`."
   ]
  },
  {
   "cell_type": "code",
   "execution_count": 2,
   "metadata": {},
   "outputs": [],
   "source": [
    "import numpy as np"
   ]
  },
  {
   "cell_type": "markdown",
   "metadata": {},
   "source": [
    "Nyní můžeme využít funkce `np.array` pro vytvoření Numpy polí."
   ]
  },
  {
   "cell_type": "code",
   "execution_count": 12,
   "metadata": {},
   "outputs": [],
   "source": [
    "kanto = np.array([73, 67, 43])"
   ]
  },
  {
   "cell_type": "code",
   "execution_count": 13,
   "metadata": {},
   "outputs": [
    {
     "data": {
      "text/plain": [
       "array([73, 67, 43])"
      ]
     },
     "execution_count": 13,
     "metadata": {},
     "output_type": "execute_result"
    }
   ],
   "source": [
    "kanto"
   ]
  },
  {
   "cell_type": "code",
   "execution_count": 5,
   "metadata": {},
   "outputs": [],
   "source": [
    "váhy = np.array([w1, w2, w3])"
   ]
  },
  {
   "cell_type": "code",
   "execution_count": 15,
   "metadata": {},
   "outputs": [
    {
     "data": {
      "text/plain": [
       "array([0.3, 0.2, 0.5])"
      ]
     },
     "execution_count": 15,
     "metadata": {},
     "output_type": "execute_result"
    }
   ],
   "source": [
    "váhy"
   ]
  },
  {
   "cell_type": "markdown",
   "metadata": {},
   "source": [
    "Numpy pole mají typ `ndarray`.\n",
    "\n",
    "Stejně jako Python seznamy i Numpy pole podporují indexování pomocí `[]`."
   ]
  },
  {
   "cell_type": "markdown",
   "metadata": {},
   "source": [
    "## Operace s Numpy poli\n",
    "\n",
    "Teď můžeme vypočítat skalární součin našich dvou vektorů za použití funkce `np.dot`. "
   ]
  },
  {
   "cell_type": "code",
   "execution_count": 16,
   "metadata": {},
   "outputs": [
    {
     "data": {
      "text/plain": [
       "56.8"
      ]
     },
     "execution_count": 16,
     "metadata": {},
     "output_type": "execute_result"
    }
   ],
   "source": [
    "np.dot(kanto, váhy)"
   ]
  },
  {
   "cell_type": "markdown",
   "metadata": {},
   "source": [
    "Stejného výsledku dosáhneme, i pokud použijeme nízkoúrovňové operace podporované poli Numpy."
   ]
  },
  {
   "cell_type": "code",
   "execution_count": 17,
   "metadata": {},
   "outputs": [
    {
     "data": {
      "text/plain": [
       "56.8"
      ]
     },
     "execution_count": 17,
     "metadata": {},
     "output_type": "execute_result"
    }
   ],
   "source": [
    "(kanto * váhy).sum()"
   ]
  },
  {
   "cell_type": "markdown",
   "metadata": {},
   "source": [
    "Operátor `*` provede elementární násobení dvou polí, pokud mají stejnou velikost. Metoda `sum` vypočítá součet čísel v poli."
   ]
  },
  {
   "cell_type": "code",
   "execution_count": 18,
   "metadata": {},
   "outputs": [],
   "source": [
    "arr1 = np.array([1, 2, 3])\n",
    "arr2 = np.array([4, 5, 6])"
   ]
  },
  {
   "cell_type": "code",
   "execution_count": 19,
   "metadata": {},
   "outputs": [
    {
     "data": {
      "text/plain": [
       "array([ 4, 10, 18])"
      ]
     },
     "execution_count": 19,
     "metadata": {},
     "output_type": "execute_result"
    }
   ],
   "source": [
    "arr1 * arr2"
   ]
  },
  {
   "cell_type": "code",
   "execution_count": 20,
   "metadata": {},
   "outputs": [
    {
     "data": {
      "text/plain": [
       "15"
      ]
     },
     "execution_count": 20,
     "metadata": {},
     "output_type": "execute_result"
    }
   ],
   "source": [
    "arr2.sum()"
   ]
  },
  {
   "cell_type": "markdown",
   "metadata": {},
   "source": [
    "## Výhody používání Numpy polí\n",
    "\n",
    "Numpy pole nám nabízejí následující výhody oproti Python seznamům:\n",
    "\n",
    "- **Jednoduchost použití**: Pomocí Numpy polí můžete psát malé, stručné a intuitivní matematické výrazy jako `(kanto * váhy).sum()`, místo  abyste použili smyčky a vlastní funkce jako `výnos_plodiny`.\n",
    "- **Výkon**: Numpy operace a funkce se implementují interně v C++, což znamená, že jsou mnohem rychlejší než použití příkazů a smyček Pythonu, které se interpretují za běhu.\n",
    "\n",
    "Srovnejme si skalární součin prováděný pomocí Pythonových smyček a Numpy polí na dvou vektorech, každý s milionem prvků."
   ]
  },
  {
   "cell_type": "code",
   "execution_count": 21,
   "metadata": {},
   "outputs": [],
   "source": [
    "# Python seznamy\n",
    "arr1 = list(range(1000000))\n",
    "arr2 = list(range(1000000, 2000000))\n",
    "\n",
    "# Numpy pole\n",
    "arr1_np = np.array(arr1)\n",
    "arr2_np = np.array(arr2)"
   ]
  },
  {
   "cell_type": "code",
   "execution_count": 22,
   "metadata": {},
   "outputs": [
    {
     "name": "stdout",
     "output_type": "stream",
     "text": [
      "CPU times: user 181 ms, sys: 0 ns, total: 181 ms\n",
      "Wall time: 181 ms\n"
     ]
    },
    {
     "data": {
      "text/plain": [
       "833332333333500000"
      ]
     },
     "execution_count": 22,
     "metadata": {},
     "output_type": "execute_result"
    }
   ],
   "source": [
    "%%time\n",
    "výsledek = 0\n",
    "for x1, x2 in zip(arr1, arr2):\n",
    "    výsledek += x1*x2\n",
    "výsledek"
   ]
  },
  {
   "cell_type": "code",
   "execution_count": 23,
   "metadata": {},
   "outputs": [
    {
     "name": "stdout",
     "output_type": "stream",
     "text": [
      "CPU times: user 2.46 ms, sys: 304 µs, total: 2.76 ms\n",
      "Wall time: 1.71 ms\n"
     ]
    },
    {
     "data": {
      "text/plain": [
       "833332333333500000"
      ]
     },
     "execution_count": 23,
     "metadata": {},
     "output_type": "execute_result"
    }
   ],
   "source": [
    "%%time\n",
    "np.dot(arr1_np, arr2_np)"
   ]
  },
  {
   "cell_type": "markdown",
   "metadata": {},
   "source": [
    "Jak vidíme, použití funkce `np.dot` je 100x rychlejší než použití smyčky `for`. \n",
    "\n",
    "Díky tomu je knihovna Numpy obzvláště užitečná při práci se skutečně velkými datovými sadami s desítkami tisíc nebo milionů datových bodů."
   ]
  },
  {
   "cell_type": "markdown",
   "metadata": {},
   "source": [
    "## Vícerozměrná pole Numpy\n",
    "\n",
    "Můžeme udělat ještě další krok a zobrazit si údaje o klimatu pro všechny regiony pomocí jediného dvourozměrného pole Numpy."
   ]
  },
  {
   "cell_type": "code",
   "execution_count": 24,
   "metadata": {},
   "outputs": [],
   "source": [
    "climate_data = np.array([[73, 67, 43],\n",
    "                         [91, 88, 64],\n",
    "                         [87, 134, 58],\n",
    "                         [102, 43, 37],\n",
    "                         [69, 96, 70]])"
   ]
  },
  {
   "cell_type": "code",
   "execution_count": 25,
   "metadata": {},
   "outputs": [
    {
     "data": {
      "text/plain": [
       "array([[ 73,  67,  43],\n",
       "       [ 91,  88,  64],\n",
       "       [ 87, 134,  58],\n",
       "       [102,  43,  37],\n",
       "       [ 69,  96,  70]])"
      ]
     },
     "execution_count": 25,
     "metadata": {},
     "output_type": "execute_result"
    }
   ],
   "source": [
    "climate_data"
   ]
  },
  {
   "cell_type": "code",
   "execution_count": 6,
   "metadata": {},
   "outputs": [],
   "source": [
    "váhy = np.array([w1, w2, w3])"
   ]
  },
  {
   "cell_type": "code",
   "execution_count": 27,
   "metadata": {},
   "outputs": [
    {
     "data": {
      "text/plain": [
       "array([0.3, 0.2, 0.5])"
      ]
     },
     "execution_count": 27,
     "metadata": {},
     "output_type": "execute_result"
    }
   ],
   "source": [
    "váhy"
   ]
  },
  {
   "cell_type": "markdown",
   "metadata": {},
   "source": [
    "Výše uvedené 2D pole si můžete představit jako matici s pěti řádky a třemi sloupci. Každý řádek představuje jednu oblast a sloupce představují teplotu, srážky a vlhkost.\n",
    "\n",
    "Numpy pole mohou mít libovolný počet rozměrů a různé délky podél každé dimenze. Délku podél každé dimenze můžeme zkontrolovat pomocí vlastnosti `.shape`."
   ]
  },
  {
   "cell_type": "code",
   "execution_count": 26,
   "metadata": {},
   "outputs": [
    {
     "data": {
      "text/plain": [
       "(5, 3)"
      ]
     },
     "execution_count": 26,
     "metadata": {},
     "output_type": "execute_result"
    }
   ],
   "source": [
    "climate_data.shape"
   ]
  },
  {
   "cell_type": "code",
   "execution_count": 28,
   "metadata": {},
   "outputs": [
    {
     "data": {
      "text/plain": [
       "(3,)"
      ]
     },
     "execution_count": 28,
     "metadata": {},
     "output_type": "execute_result"
    }
   ],
   "source": [
    "váhy.shape"
   ]
  },
  {
   "cell_type": "code",
   "execution_count": 29,
   "metadata": {},
   "outputs": [],
   "source": [
    "arr3 = np.array([\n",
    "    [[11, 12, 13], \n",
    "     [13, 14, 15]], \n",
    "    [[15, 16, 17], \n",
    "     [17, 18, 19.5]]])"
   ]
  },
  {
   "cell_type": "code",
   "execution_count": 30,
   "metadata": {},
   "outputs": [
    {
     "data": {
      "text/plain": [
       "(2, 2, 3)"
      ]
     },
     "execution_count": 30,
     "metadata": {},
     "output_type": "execute_result"
    }
   ],
   "source": [
    "arr3.shape"
   ]
  },
  {
   "cell_type": "markdown",
   "metadata": {},
   "source": [
    "Všechny prvky v Numpy poli mají stejný datový typ. Datový typ pole můžete zkontrolovat pomocí vlastnosti `.dtype`."
   ]
  },
  {
   "cell_type": "code",
   "execution_count": 31,
   "metadata": {},
   "outputs": [
    {
     "data": {
      "text/plain": [
       "dtype('float64')"
      ]
     },
     "execution_count": 31,
     "metadata": {},
     "output_type": "execute_result"
    }
   ],
   "source": [
    "váhy.dtype"
   ]
  },
  {
   "cell_type": "code",
   "execution_count": 32,
   "metadata": {},
   "outputs": [
    {
     "data": {
      "text/plain": [
       "dtype('int64')"
      ]
     },
     "execution_count": 32,
     "metadata": {},
     "output_type": "execute_result"
    }
   ],
   "source": [
    "climate_data.dtype"
   ]
  },
  {
   "cell_type": "markdown",
   "metadata": {},
   "source": [
    "Pokud pole obsahuje jediné číslo s desetinnou čárkou, všechny ostatní prvky se rovněž převedou na float hodnoty."
   ]
  },
  {
   "cell_type": "code",
   "execution_count": 33,
   "metadata": {},
   "outputs": [
    {
     "data": {
      "text/plain": [
       "dtype('float64')"
      ]
     },
     "execution_count": 33,
     "metadata": {},
     "output_type": "execute_result"
    }
   ],
   "source": [
    "arr3.dtype"
   ]
  },
  {
   "cell_type": "markdown",
   "metadata": {},
   "source": [
    "Nyní můžeme vypočítat předpokládané výnosy jablek ve všech regionech pomocí jediného násobení matic mezi `climate_data` (matice 5x3) a `váhy` (vektor délky 3).\n",
    "\n",
    "K násobení matic můžeme použít funkci `np.matmul` nebo operátor `@`."
   ]
  },
  {
   "cell_type": "code",
   "execution_count": 34,
   "metadata": {},
   "outputs": [
    {
     "data": {
      "text/plain": [
       "array([56.8, 76.9, 81.9, 57.7, 74.9])"
      ]
     },
     "execution_count": 34,
     "metadata": {},
     "output_type": "execute_result"
    }
   ],
   "source": [
    "np.matmul(climate_data, váhy)"
   ]
  },
  {
   "cell_type": "code",
   "execution_count": 35,
   "metadata": {},
   "outputs": [
    {
     "data": {
      "text/plain": [
       "array([56.8, 76.9, 81.9, 57.7, 74.9])"
      ]
     },
     "execution_count": 35,
     "metadata": {},
     "output_type": "execute_result"
    }
   ],
   "source": [
    "climate_data @ váhy"
   ]
  },
  {
   "cell_type": "markdown",
   "metadata": {},
   "source": [
    "## Práce se soubory CSV v Numpy\n",
    "\n",
    "Numpy nám rovněž dovoluje číst data ze souborů a také je do těchto souborů zpátky zapisovat. Otevřeme si soubor climate.csv, který obsahuje 10 000 záznamů o klimatu v následujícím formátu:\n",
    "\n",
    "```\n",
    "teplota,srážky,vlhkost\n",
    "25.00,76.00,99.00\n",
    "39.00,65.00,70.00\n",
    "59.00,45.00,77.00\n",
    "84.00,63.00,38.00\n",
    "66.00,50.00,52.00\n",
    "41.00,94.00,77.00\n",
    "91.00,57.00,96.00\n",
    "49.00,96.00,99.00\n",
    "67.00,20.00,28.00\n",
    "...\n",
    "```\n",
    "\n",
    "Tento formát ukládání dat je známý jako *hodnoty oddělené čárkami* (comma separated values) neboli CSV.\n",
    "\n",
    "Pro načtení tohoto souboru do Numpy pole můžeme použít funkci `genfromtxt`. Tato funkce nám načte data ze složky Data a udělá nám ze CSV souboru Numpy pole."
   ]
  },
  {
   "cell_type": "code",
   "execution_count": 43,
   "metadata": {},
   "outputs": [],
   "source": [
    "climate_data = np.genfromtxt(\"Data/climate.csv\", delimiter=',', skip_header=1)"
   ]
  },
  {
   "cell_type": "code",
   "execution_count": 42,
   "metadata": {},
   "outputs": [
    {
     "data": {
      "text/plain": [
       "array([[25., 76., 99.],\n",
       "       [39., 65., 70.],\n",
       "       [59., 45., 77.],\n",
       "       ...,\n",
       "       [99., 62., 58.],\n",
       "       [70., 71., 91.],\n",
       "       [92., 39., 76.]])"
      ]
     },
     "execution_count": 42,
     "metadata": {},
     "output_type": "execute_result"
    }
   ],
   "source": [
    "climate_data"
   ]
  },
  {
   "cell_type": "code",
   "execution_count": 44,
   "metadata": {},
   "outputs": [
    {
     "data": {
      "text/plain": [
       "(10000, 3)"
      ]
     },
     "execution_count": 44,
     "metadata": {},
     "output_type": "execute_result"
    }
   ],
   "source": [
    "climate_data.shape"
   ]
  },
  {
   "cell_type": "markdown",
   "metadata": {},
   "source": [
    "Nyní můžeme provést násobení matic pomocí operátoru `@` a předpovědět výnos jablek pro celou datovou sadu pomocí dané sady vah."
   ]
  },
  {
   "cell_type": "code",
   "execution_count": 45,
   "metadata": {},
   "outputs": [
    {
     "data": {
      "text/plain": [
       "array([0.3, 0.2, 0.5])"
      ]
     },
     "execution_count": 45,
     "metadata": {},
     "output_type": "execute_result"
    }
   ],
   "source": [
    "váhy"
   ]
  },
  {
   "cell_type": "code",
   "execution_count": 46,
   "metadata": {},
   "outputs": [],
   "source": [
    "výnosy = climate_data @ váhy"
   ]
  },
  {
   "cell_type": "code",
   "execution_count": 47,
   "metadata": {},
   "outputs": [
    {
     "data": {
      "text/plain": [
       "array([72.2, 59.7, 65.2, ..., 71.1, 80.7, 73.4])"
      ]
     },
     "execution_count": 47,
     "metadata": {},
     "output_type": "execute_result"
    }
   ],
   "source": [
    "výnosy"
   ]
  },
  {
   "cell_type": "code",
   "execution_count": 48,
   "metadata": {},
   "outputs": [
    {
     "data": {
      "text/plain": [
       "(10000,)"
      ]
     },
     "execution_count": 48,
     "metadata": {},
     "output_type": "execute_result"
    }
   ],
   "source": [
    "výnosy.shape"
   ]
  },
  {
   "cell_type": "markdown",
   "metadata": {},
   "source": [
    "`výnosy` přidáme do našeho Numpy pole `climate_data` jako čtvrtý sloupec pomocí funkce [`np.concatenate`](https://numpy.org/doc/stable/reference/generated/numpy.concatenate.html)."
   ]
  },
  {
   "cell_type": "code",
   "execution_count": 49,
   "metadata": {},
   "outputs": [],
   "source": [
    "climate_výsledky = np.concatenate((climate_data, výnosy.reshape(10000, 1)), axis=1)"
   ]
  },
  {
   "cell_type": "code",
   "execution_count": 50,
   "metadata": {},
   "outputs": [
    {
     "data": {
      "text/plain": [
       "array([[25. , 76. , 99. , 72.2],\n",
       "       [39. , 65. , 70. , 59.7],\n",
       "       [59. , 45. , 77. , 65.2],\n",
       "       ...,\n",
       "       [99. , 62. , 58. , 71.1],\n",
       "       [70. , 71. , 91. , 80.7],\n",
       "       [92. , 39. , 76. , 73.4]])"
      ]
     },
     "execution_count": 50,
     "metadata": {},
     "output_type": "execute_result"
    }
   ],
   "source": [
    "climate_výsledky"
   ]
  },
  {
   "cell_type": "markdown",
   "metadata": {},
   "source": [
    "Několika drobnostem je třeba věnovat pozornost:\n",
    "\n",
    "* Protože chceme přidat nové sloupce, předáme argument `axis=1` do funkce `np.concatenate`. `Axis` argument určuje rozměr pro konkatinaci.\n",
    "\n",
    "* Pole by měla mít stejný počet dimenzí a stejnou délku podél každé dimenze kromě dimenze použité pro konkatinaci. Abychom změnili `výnosy` z `(10000,)` na `(10000,1)`, používáme funkci [`np.reshape`](https://numpy.org/doc/stable/reference/generated/numpy.reshape.html).\n",
    "\n",
    "Pojďme si zapsat konečné výsledky z výše uvedeného výpočtu zpět do souboru pomocí funkce `np.savetxt`."
   ]
  },
  {
   "cell_type": "code",
   "execution_count": 51,
   "metadata": {},
   "outputs": [
    {
     "data": {
      "text/plain": [
       "array([[25. , 76. , 99. , 72.2],\n",
       "       [39. , 65. , 70. , 59.7],\n",
       "       [59. , 45. , 77. , 65.2],\n",
       "       ...,\n",
       "       [99. , 62. , 58. , 71.1],\n",
       "       [70. , 71. , 91. , 80.7],\n",
       "       [92. , 39. , 76. , 73.4]])"
      ]
     },
     "execution_count": 51,
     "metadata": {},
     "output_type": "execute_result"
    }
   ],
   "source": [
    "climate_výsledky"
   ]
  },
  {
   "cell_type": "code",
   "execution_count": 53,
   "metadata": {},
   "outputs": [],
   "source": [
    "np.savetxt('Data/climate_výsledky.csv', \n",
    "           climate_výsledky, \n",
    "           fmt='%.2f', \n",
    "           delimiter=',',\n",
    "           header='teplota,srážky,vlhkost,výnos jablek', \n",
    "           comments='')"
   ]
  },
  {
   "cell_type": "markdown",
   "metadata": {},
   "source": [
    "Výsledky byly zapsány zpět do nového CSV souboru `climate_výsledky.csv`. \n",
    "\n",
    "```\n",
    "teplota,srážky,vlhkost,výnos jablek\n",
    "25.00,76.00,99.00,72.20\n",
    "39.00,65.00,70.00,59.70\n",
    "59.00,45.00,77.00,65.20\n",
    "84.00,63.00,38.00,56.80\n",
    "...\n",
    "```\n"
   ]
  },
  {
   "cell_type": "markdown",
   "metadata": {},
   "source": [
    "Numpy podporuje stovky funkcí pro provádění operací na polích. Uveďme si ty nejběžšnější:\n",
    "\n",
    "\n",
    "* Matematika: `np.sum`, `np.exp`, `np.round`, aritmetické operátory \n",
    "* Manipulace polí: `np.reshape`, `np.stack`, `np.concatenate`, `np.split`\n",
    "* Lineární algebra: `np.matmul`, `np.dot`, `np.transpose`, `np.eigvals`\n",
    "* Statistika: `np.mean`, `np.median`, `np.std`, `np.max`\n",
    "\n",
    "> **Jak najít funkci, kterou potřebujete?** Nejjednodušší způsob, jak najít správnou funkci pro konkrétní operaci, je vyhledávání na webu.\n",
    "\n",
    "Úplný seznam funkcí pole si můžete zobrazit zde: https://numpy.org/doc/stable/reference/routines.html"
   ]
  },
  {
   "cell_type": "markdown",
   "metadata": {},
   "source": [
    "## Aritmetické operace, broadcasting a porovnávání\n",
    "\n",
    "Numpy pole podporují aritmetické operátory jako `+`, `-`,` * `atd. Aritmetickou operaci můžete provést s jediným číslem (nazývaným také skalárem) nebo s jiným polem stejného tvaru."
   ]
  },
  {
   "cell_type": "code",
   "execution_count": 54,
   "metadata": {},
   "outputs": [],
   "source": [
    "arr2 = np.array([[1, 2, 3, 4], \n",
    "                 [5, 6, 7, 8], \n",
    "                 [9, 1, 2, 3]])"
   ]
  },
  {
   "cell_type": "code",
   "execution_count": 55,
   "metadata": {},
   "outputs": [],
   "source": [
    "arr3 = np.array([[11, 12, 13, 14], \n",
    "                 [15, 16, 17, 18], \n",
    "                 [19, 11, 12, 13]])"
   ]
  },
  {
   "cell_type": "code",
   "execution_count": 56,
   "metadata": {},
   "outputs": [
    {
     "data": {
      "text/plain": [
       "array([[ 4,  5,  6,  7],\n",
       "       [ 8,  9, 10, 11],\n",
       "       [12,  4,  5,  6]])"
      ]
     },
     "execution_count": 56,
     "metadata": {},
     "output_type": "execute_result"
    }
   ],
   "source": [
    "arr2 + 3"
   ]
  },
  {
   "cell_type": "code",
   "execution_count": 57,
   "metadata": {},
   "outputs": [
    {
     "data": {
      "text/plain": [
       "array([[10, 10, 10, 10],\n",
       "       [10, 10, 10, 10],\n",
       "       [10, 10, 10, 10]])"
      ]
     },
     "execution_count": 57,
     "metadata": {},
     "output_type": "execute_result"
    }
   ],
   "source": [
    "arr3 - arr2"
   ]
  },
  {
   "cell_type": "code",
   "execution_count": 58,
   "metadata": {},
   "outputs": [
    {
     "data": {
      "text/plain": [
       "array([[0.5, 1. , 1.5, 2. ],\n",
       "       [2.5, 3. , 3.5, 4. ],\n",
       "       [4.5, 0.5, 1. , 1.5]])"
      ]
     },
     "execution_count": 58,
     "metadata": {},
     "output_type": "execute_result"
    }
   ],
   "source": [
    "arr2 / 2"
   ]
  },
  {
   "cell_type": "code",
   "execution_count": 59,
   "metadata": {},
   "outputs": [
    {
     "data": {
      "text/plain": [
       "array([[ 11,  24,  39,  56],\n",
       "       [ 75,  96, 119, 144],\n",
       "       [171,  11,  24,  39]])"
      ]
     },
     "execution_count": 59,
     "metadata": {},
     "output_type": "execute_result"
    }
   ],
   "source": [
    "arr2 * arr3"
   ]
  },
  {
   "cell_type": "code",
   "execution_count": 60,
   "metadata": {},
   "outputs": [
    {
     "data": {
      "text/plain": [
       "array([[1, 2, 3, 0],\n",
       "       [1, 2, 3, 0],\n",
       "       [1, 1, 2, 3]])"
      ]
     },
     "execution_count": 60,
     "metadata": {},
     "output_type": "execute_result"
    }
   ],
   "source": [
    "arr2 % 4"
   ]
  },
  {
   "cell_type": "markdown",
   "metadata": {},
   "source": [
    "### Broadcasting\n",
    "\n",
    "Numpy pole podporují také *broadcasting*, který umožňuje aritmetické operace mezi dvěma poli s různým počtem dimenzí ale s kompatibilními tvary. Ukažme si na příkladu, jak to funguje."
   ]
  },
  {
   "cell_type": "code",
   "execution_count": 61,
   "metadata": {},
   "outputs": [],
   "source": [
    "arr2 = np.array([[1, 2, 3, 4], \n",
    "                 [5, 6, 7, 8], \n",
    "                 [9, 1, 2, 3]])"
   ]
  },
  {
   "cell_type": "code",
   "execution_count": 62,
   "metadata": {},
   "outputs": [
    {
     "data": {
      "text/plain": [
       "(3, 4)"
      ]
     },
     "execution_count": 62,
     "metadata": {},
     "output_type": "execute_result"
    }
   ],
   "source": [
    "arr2.shape"
   ]
  },
  {
   "cell_type": "code",
   "execution_count": 63,
   "metadata": {},
   "outputs": [],
   "source": [
    "arr4 = np.array([4, 5, 6, 7])"
   ]
  },
  {
   "cell_type": "code",
   "execution_count": 64,
   "metadata": {},
   "outputs": [
    {
     "data": {
      "text/plain": [
       "(4,)"
      ]
     },
     "execution_count": 64,
     "metadata": {},
     "output_type": "execute_result"
    }
   ],
   "source": [
    "arr4.shape"
   ]
  },
  {
   "cell_type": "code",
   "execution_count": 65,
   "metadata": {},
   "outputs": [
    {
     "data": {
      "text/plain": [
       "array([[ 5,  7,  9, 11],\n",
       "       [ 9, 11, 13, 15],\n",
       "       [13,  6,  8, 10]])"
      ]
     },
     "execution_count": 65,
     "metadata": {},
     "output_type": "execute_result"
    }
   ],
   "source": [
    "arr2 + arr4"
   ]
  },
  {
   "cell_type": "markdown",
   "metadata": {},
   "source": [
    "Když se vyhodnotí výraz `arr2 + arr4`, pole ` arr4` (které má tvar `(4,)`) se třikrát replikuje tak, aby odpovídalo tvaru `(3, 4)` `arr2`. Knihovna Numpy provádí replikaci, aniž by ve skutečnosti vytvořila tři kopie pole s menší dimenzí, čímž zlepšuje výkon a využívá méně paměťi.\n",
    "\n",
    "Broadcasting funguje, pouze pokud lze jedno z polí replikovat tak, aby odpovídalo tvaru druhého pole."
   ]
  },
  {
   "cell_type": "code",
   "execution_count": 66,
   "metadata": {},
   "outputs": [],
   "source": [
    "arr5 = np.array([7, 8])"
   ]
  },
  {
   "cell_type": "code",
   "execution_count": 67,
   "metadata": {},
   "outputs": [
    {
     "data": {
      "text/plain": [
       "(2,)"
      ]
     },
     "execution_count": 67,
     "metadata": {},
     "output_type": "execute_result"
    }
   ],
   "source": [
    "arr5.shape"
   ]
  },
  {
   "cell_type": "code",
   "execution_count": 68,
   "metadata": {},
   "outputs": [
    {
     "ename": "ValueError",
     "evalue": "operands could not be broadcast together with shapes (3,4) (2,) ",
     "output_type": "error",
     "traceback": [
      "\u001b[0;31m---------------------------------------------------------------------------\u001b[0m",
      "\u001b[0;31mValueError\u001b[0m                                Traceback (most recent call last)",
      "\u001b[0;32m<ipython-input-68-c22e92053c39>\u001b[0m in \u001b[0;36m<module>\u001b[0;34m\u001b[0m\n\u001b[0;32m----> 1\u001b[0;31m \u001b[0marr2\u001b[0m \u001b[0;34m+\u001b[0m \u001b[0marr5\u001b[0m\u001b[0;34m\u001b[0m\u001b[0;34m\u001b[0m\u001b[0m\n\u001b[0m",
      "\u001b[0;31mValueError\u001b[0m: operands could not be broadcast together with shapes (3,4) (2,) "
     ]
    }
   ],
   "source": [
    "arr2 + arr5"
   ]
  },
  {
   "cell_type": "markdown",
   "metadata": {},
   "source": [
    "Přestože je pole `arr5` v příkladu výše třikrát replikováno, nebude odpovídat tvaru` arr2`. Z tohoto důvodu nelze úspěšně vyhodnotit `arr2 + arr5`."
   ]
  },
  {
   "cell_type": "markdown",
   "metadata": {},
   "source": [
    "### Porovnávání Numpy polí\n",
    "\n",
    "Numpy pole také podporují srovnávací operace jako `==`, `! =`, `>` atd. Výsledkem je pole boolean hodnot."
   ]
  },
  {
   "cell_type": "code",
   "execution_count": 69,
   "metadata": {},
   "outputs": [],
   "source": [
    "arr1 = np.array([[1, 2, 3], [3, 4, 5]])\n",
    "arr2 = np.array([[2, 2, 3], [1, 2, 5]])"
   ]
  },
  {
   "cell_type": "code",
   "execution_count": 70,
   "metadata": {},
   "outputs": [
    {
     "data": {
      "text/plain": [
       "array([[False,  True,  True],\n",
       "       [False, False,  True]])"
      ]
     },
     "execution_count": 70,
     "metadata": {},
     "output_type": "execute_result"
    }
   ],
   "source": [
    "arr1 == arr2"
   ]
  },
  {
   "cell_type": "code",
   "execution_count": 71,
   "metadata": {},
   "outputs": [
    {
     "data": {
      "text/plain": [
       "array([[ True, False, False],\n",
       "       [ True,  True, False]])"
      ]
     },
     "execution_count": 71,
     "metadata": {},
     "output_type": "execute_result"
    }
   ],
   "source": [
    "arr1 != arr2"
   ]
  },
  {
   "cell_type": "code",
   "execution_count": 72,
   "metadata": {},
   "outputs": [
    {
     "data": {
      "text/plain": [
       "array([[False,  True,  True],\n",
       "       [ True,  True,  True]])"
      ]
     },
     "execution_count": 72,
     "metadata": {},
     "output_type": "execute_result"
    }
   ],
   "source": [
    "arr1 >= arr2"
   ]
  },
  {
   "cell_type": "code",
   "execution_count": 73,
   "metadata": {},
   "outputs": [
    {
     "data": {
      "text/plain": [
       "array([[ True, False, False],\n",
       "       [False, False, False]])"
      ]
     },
     "execution_count": 73,
     "metadata": {},
     "output_type": "execute_result"
    }
   ],
   "source": [
    "arr1 < arr2"
   ]
  },
  {
   "cell_type": "markdown",
   "metadata": {},
   "source": [
    "Porovnání polí se často používá k součtu stejných prvků ve dvou polích pomocí metody `sum`. Nezapomeňte, že pokud se v aritmetických operacích použijí hodnotz boolean, hodnota `True` se vyhodnotí na` 1` a `False` na hodnotu` 0`. "
   ]
  },
  {
   "cell_type": "code",
   "execution_count": 74,
   "metadata": {},
   "outputs": [
    {
     "data": {
      "text/plain": [
       "3"
      ]
     },
     "execution_count": 74,
     "metadata": {},
     "output_type": "execute_result"
    }
   ],
   "source": [
    "(arr1 == arr2).sum()"
   ]
  },
  {
   "cell_type": "markdown",
   "metadata": {},
   "source": [
    "## Indexing a slicing Numpy polí\n",
    "\n",
    "Knihovna Numpy intuitivně rozšiřuje notaci indexování seznamu Pythonu pomocí `[]` na více dimenzí. Zadejte seznam indexů nebo rozsahů oddělených čárkami, abyste mohli vybrat konkrétní prvek nebo podoblast (také nazývanou řez) z pole Numpy."
   ]
  },
  {
   "cell_type": "code",
   "execution_count": 75,
   "metadata": {},
   "outputs": [],
   "source": [
    "arr3 = np.array([\n",
    "    [[11, 12, 13, 14], \n",
    "     [13, 14, 15, 19]], \n",
    "    \n",
    "    [[15, 16, 17, 21], \n",
    "     [63, 92, 36, 18]], \n",
    "    \n",
    "    [[98, 32, 81, 23],      \n",
    "     [17, 18, 19.5, 43]]])"
   ]
  },
  {
   "cell_type": "code",
   "execution_count": 76,
   "metadata": {},
   "outputs": [
    {
     "data": {
      "text/plain": [
       "(3, 2, 4)"
      ]
     },
     "execution_count": 76,
     "metadata": {},
     "output_type": "execute_result"
    }
   ],
   "source": [
    "arr3.shape"
   ]
  },
  {
   "cell_type": "code",
   "execution_count": 77,
   "metadata": {},
   "outputs": [
    {
     "data": {
      "text/plain": [
       "36.0"
      ]
     },
     "execution_count": 77,
     "metadata": {},
     "output_type": "execute_result"
    }
   ],
   "source": [
    "arr3[1, 1, 2]"
   ]
  },
  {
   "cell_type": "code",
   "execution_count": 78,
   "metadata": {},
   "outputs": [
    {
     "data": {
      "text/plain": [
       "array([[[15., 16.]],\n",
       "\n",
       "       [[98., 32.]]])"
      ]
     },
     "execution_count": 78,
     "metadata": {},
     "output_type": "execute_result"
    }
   ],
   "source": [
    "arr3[1:, 0:1, :2]"
   ]
  },
  {
   "cell_type": "code",
   "execution_count": 79,
   "metadata": {},
   "outputs": [
    {
     "data": {
      "text/plain": [
       "array([18., 43.])"
      ]
     },
     "execution_count": 79,
     "metadata": {},
     "output_type": "execute_result"
    }
   ],
   "source": [
    "arr3[1:, 1, 3]"
   ]
  },
  {
   "cell_type": "code",
   "execution_count": 80,
   "metadata": {},
   "outputs": [
    {
     "data": {
      "text/plain": [
       "array([[63. , 92. , 36. ],\n",
       "       [17. , 18. , 19.5]])"
      ]
     },
     "execution_count": 80,
     "metadata": {},
     "output_type": "execute_result"
    }
   ],
   "source": [
    "arr3[1:, 1, :3]"
   ]
  },
  {
   "cell_type": "code",
   "execution_count": 81,
   "metadata": {},
   "outputs": [
    {
     "data": {
      "text/plain": [
       "array([[15., 16., 17., 21.],\n",
       "       [63., 92., 36., 18.]])"
      ]
     },
     "execution_count": 81,
     "metadata": {},
     "output_type": "execute_result"
    }
   ],
   "source": [
    "arr3[1]"
   ]
  },
  {
   "cell_type": "code",
   "execution_count": 82,
   "metadata": {},
   "outputs": [
    {
     "data": {
      "text/plain": [
       "array([[13., 14., 15., 19.],\n",
       "       [63., 92., 36., 18.]])"
      ]
     },
     "execution_count": 82,
     "metadata": {},
     "output_type": "execute_result"
    }
   ],
   "source": [
    "arr3[:2, 1]"
   ]
  },
  {
   "cell_type": "code",
   "execution_count": 83,
   "metadata": {},
   "outputs": [
    {
     "ename": "IndexError",
     "evalue": "too many indices for array",
     "output_type": "error",
     "traceback": [
      "\u001b[0;31m---------------------------------------------------------------------------\u001b[0m",
      "\u001b[0;31mIndexError\u001b[0m                                Traceback (most recent call last)",
      "\u001b[0;32m<ipython-input-83-8af340709117>\u001b[0m in \u001b[0;36m<module>\u001b[0;34m\u001b[0m\n\u001b[0;32m----> 1\u001b[0;31m \u001b[0marr3\u001b[0m\u001b[0;34m[\u001b[0m\u001b[0;36m1\u001b[0m\u001b[0;34m,\u001b[0m\u001b[0;36m3\u001b[0m\u001b[0;34m,\u001b[0m\u001b[0;36m2\u001b[0m\u001b[0;34m,\u001b[0m\u001b[0;36m1\u001b[0m\u001b[0;34m]\u001b[0m\u001b[0;34m\u001b[0m\u001b[0;34m\u001b[0m\u001b[0m\n\u001b[0m",
      "\u001b[0;31mIndexError\u001b[0m: too many indices for array"
     ]
    }
   ],
   "source": [
    "arr3[1,3,2,1]"
   ]
  },
  {
   "cell_type": "markdown",
   "metadata": {},
   "source": [
    "## Jiné způsoby vytváření Numpy polí \n",
    "\n",
    "Knihovna Numpy také poskytuje užitečné funkce pro vytváření polí požadovaných tvarů s pevnými nebo náhodnými hodnotami."
   ]
  },
  {
   "cell_type": "code",
   "execution_count": 84,
   "metadata": {},
   "outputs": [
    {
     "data": {
      "text/plain": [
       "array([[0., 0.],\n",
       "       [0., 0.],\n",
       "       [0., 0.]])"
      ]
     },
     "execution_count": 84,
     "metadata": {},
     "output_type": "execute_result"
    }
   ],
   "source": [
    "np.zeros((3, 2))"
   ]
  },
  {
   "cell_type": "code",
   "execution_count": 85,
   "metadata": {},
   "outputs": [
    {
     "data": {
      "text/plain": [
       "array([[[1., 1., 1.],\n",
       "        [1., 1., 1.]],\n",
       "\n",
       "       [[1., 1., 1.],\n",
       "        [1., 1., 1.]]])"
      ]
     },
     "execution_count": 85,
     "metadata": {},
     "output_type": "execute_result"
    }
   ],
   "source": [
    "np.ones([2, 2, 3])"
   ]
  },
  {
   "cell_type": "code",
   "execution_count": 86,
   "metadata": {},
   "outputs": [
    {
     "data": {
      "text/plain": [
       "array([[1., 0., 0.],\n",
       "       [0., 1., 0.],\n",
       "       [0., 0., 1.]])"
      ]
     },
     "execution_count": 86,
     "metadata": {},
     "output_type": "execute_result"
    }
   ],
   "source": [
    "np.eye(3)"
   ]
  },
  {
   "cell_type": "code",
   "execution_count": 87,
   "metadata": {},
   "outputs": [
    {
     "data": {
      "text/plain": [
       "array([0.26195969, 0.39684674, 0.53391399, 0.07895904, 0.65525377])"
      ]
     },
     "execution_count": 87,
     "metadata": {},
     "output_type": "execute_result"
    }
   ],
   "source": [
    "np.random.rand(5)"
   ]
  },
  {
   "cell_type": "code",
   "execution_count": 88,
   "metadata": {},
   "outputs": [
    {
     "data": {
      "text/plain": [
       "array([[-0.07850045, -0.22130864,  0.50488556],\n",
       "       [ 0.30747249, -0.24292464, -0.34977062]])"
      ]
     },
     "execution_count": 88,
     "metadata": {},
     "output_type": "execute_result"
    }
   ],
   "source": [
    "np.random.randn(2, 3)"
   ]
  },
  {
   "cell_type": "code",
   "execution_count": 89,
   "metadata": {},
   "outputs": [
    {
     "data": {
      "text/plain": [
       "array([[42, 42, 42],\n",
       "       [42, 42, 42]])"
      ]
     },
     "execution_count": 89,
     "metadata": {},
     "output_type": "execute_result"
    }
   ],
   "source": [
    "np.full([2, 3], 42)"
   ]
  },
  {
   "cell_type": "code",
   "execution_count": 90,
   "metadata": {},
   "outputs": [
    {
     "data": {
      "text/plain": [
       "array([10, 13, 16, 19, 22, 25, 28, 31, 34, 37, 40, 43, 46, 49, 52, 55, 58,\n",
       "       61, 64, 67, 70, 73, 76, 79, 82, 85, 88])"
      ]
     },
     "execution_count": 90,
     "metadata": {},
     "output_type": "execute_result"
    }
   ],
   "source": [
    "np.arange(10, 90, 3)"
   ]
  },
  {
   "cell_type": "code",
   "execution_count": 91,
   "metadata": {},
   "outputs": [
    {
     "data": {
      "text/plain": [
       "array([ 3.,  6.,  9., 12., 15., 18., 21., 24., 27.])"
      ]
     },
     "execution_count": 91,
     "metadata": {},
     "output_type": "execute_result"
    }
   ],
   "source": [
    "np.linspace(3, 27, 9)"
   ]
  }
 ],
 "metadata": {
  "kernelspec": {
   "display_name": "Python 3",
   "language": "python",
   "name": "python3"
  },
  "language_info": {
   "codemirror_mode": {
    "name": "ipython",
    "version": 3
   },
   "file_extension": ".py",
   "mimetype": "text/x-python",
   "name": "python",
   "nbconvert_exporter": "python",
   "pygments_lexer": "ipython3",
   "version": "3.8.3"
  }
 },
 "nbformat": 4,
 "nbformat_minor": 4
}
