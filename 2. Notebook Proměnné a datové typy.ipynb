{
 "cells": [
  {
   "cell_type": "markdown",
   "metadata": {},
   "source": [
    "# Rychlá prohlídka proměnných a datových typů v Pythonu\n",
    "\n",
    "V této části se seznámíme s:\n",
    "\n",
    "* ukládáním informací do proměnných\n",
    "* primitivními datovými typy Pythonu (Integer, Float, Bool, None a String)\n",
    "* datovými strukturami (Seznam, Slovník a Tuple)"
   ]
  },
  {
   "cell_type": "markdown",
   "metadata": {},
   "source": [
    "## Ukládání informací pomocí proměnných\n",
    "\n",
    "Počítače jsou užitečné ke dvěma účelům: k ukládání informací (označovaných také jako data) a k provádění operací s uloženými daty. Při práci s programovacím jazykem, jako je Python, jsou data ukládána do proměnných. Můžete si představit, že proměnné jsou krabičky pro ukládání dat. Data uložená v proměnné nazýváme hodnotou proměnné."
   ]
  },
  {
   "cell_type": "code",
   "execution_count": 1,
   "metadata": {},
   "outputs": [],
   "source": [
    "moje_oblibena_barva = \"Modrá\""
   ]
  },
  {
   "cell_type": "code",
   "execution_count": 2,
   "metadata": {},
   "outputs": [
    {
     "data": {
      "text/plain": [
       "'Modrá'"
      ]
     },
     "execution_count": 2,
     "metadata": {},
     "output_type": "execute_result"
    }
   ],
   "source": [
    "moje_oblibena_barva"
   ]
  },
  {
   "cell_type": "markdown",
   "metadata": {},
   "source": [
    "Proměnná se vytvoří pomocí přiřazovacího příkazu. Nejprve je uveden název proměnné, poté operátor přiřazení `=` a nakonec hodnota, která má být v proměnné uložena. Všimněte si, že operátor přiřazení `=` se liší od operátoru porovnání rovnosti `==`. \n",
    "\n",
    "V rámci jednoho příkazu můžete také přiřadit hodnoty více proměnným, a to tak, že oddělíte názvy proměnných a hodnot čárkami."
   ]
  },
  {
   "cell_type": "markdown",
   "metadata": {},
   "source": [
    "Více proměnným můžete také přiřadit stejnou hodnotu, když v jednom příkazu zřetězíte více operací přiřazení."
   ]
  },
  {
   "cell_type": "code",
   "execution_count": 3,
   "metadata": {},
   "outputs": [],
   "source": [
    "barva1, barva2, barva3 = \"Modrá\", \"Zelená\", \"Červená\""
   ]
  },
  {
   "cell_type": "code",
   "execution_count": 4,
   "metadata": {},
   "outputs": [
    {
     "data": {
      "text/plain": [
       "'Modrá'"
      ]
     },
     "execution_count": 4,
     "metadata": {},
     "output_type": "execute_result"
    }
   ],
   "source": [
    "barva1"
   ]
  },
  {
   "cell_type": "code",
   "execution_count": 5,
   "metadata": {},
   "outputs": [
    {
     "data": {
      "text/plain": [
       "'Zelená'"
      ]
     },
     "execution_count": 5,
     "metadata": {},
     "output_type": "execute_result"
    }
   ],
   "source": [
    "barva2"
   ]
  },
  {
   "cell_type": "code",
   "execution_count": 6,
   "metadata": {},
   "outputs": [
    {
     "data": {
      "text/plain": [
       "'Červená'"
      ]
     },
     "execution_count": 6,
     "metadata": {},
     "output_type": "execute_result"
    }
   ],
   "source": [
    "barva3"
   ]
  },
  {
   "cell_type": "code",
   "execution_count": 7,
   "metadata": {},
   "outputs": [],
   "source": [
    "barva4 = barva5 = barva6 = \"Oranžová\""
   ]
  },
  {
   "cell_type": "markdown",
   "metadata": {},
   "source": [
    "Hodnotu uloženou v proměnné můžete změnit tak, že jí přiřadíte novou hodnotu pomocí jiného příkazu přiřazení. Při opětovném přiřazování proměnných buďte opatrní: pokud proměnné přiřadíte novou hodnotu, stará hodnota se ztratí a již nebude přístupná."
   ]
  },
  {
   "cell_type": "markdown",
   "metadata": {},
   "source": [
    "Při opětovném přiřazení proměnné můžete k výpočtu nové hodnoty použít také její předchozí hodnotu."
   ]
  },
  {
   "cell_type": "code",
   "execution_count": 8,
   "metadata": {},
   "outputs": [],
   "source": [
    "moje_oblibena_barva = \"Bílá\""
   ]
  },
  {
   "cell_type": "code",
   "execution_count": 9,
   "metadata": {},
   "outputs": [
    {
     "data": {
      "text/plain": [
       "'Bílá'"
      ]
     },
     "execution_count": 9,
     "metadata": {},
     "output_type": "execute_result"
    }
   ],
   "source": [
    "moje_oblibena_barva"
   ]
  },
  {
   "cell_type": "code",
   "execution_count": 10,
   "metadata": {},
   "outputs": [],
   "source": [
    "číslo = 10"
   ]
  },
  {
   "cell_type": "code",
   "execution_count": 11,
   "metadata": {},
   "outputs": [
    {
     "data": {
      "text/plain": [
       "10"
      ]
     },
     "execution_count": 11,
     "metadata": {},
     "output_type": "execute_result"
    }
   ],
   "source": [
    "číslo"
   ]
  },
  {
   "cell_type": "code",
   "execution_count": 12,
   "metadata": {},
   "outputs": [],
   "source": [
    "číslo = číslo - 1"
   ]
  },
  {
   "cell_type": "code",
   "execution_count": 13,
   "metadata": {},
   "outputs": [
    {
     "data": {
      "text/plain": [
       "9"
      ]
     },
     "execution_count": 13,
     "metadata": {},
     "output_type": "execute_result"
    }
   ],
   "source": [
    "číslo"
   ]
  },
  {
   "cell_type": "markdown",
   "metadata": {},
   "source": [
    "Abychom dosáhli stejného výsledku, můžeme použít i jinou syntax. \n",
    "\n",
    "`číslo = číslo - 1` je to samé jako `číslo -= 1`\n",
    "\n",
    "Tento kratší zápis je mnohem populárnější, zejména proto, že je rychlejší."
   ]
  },
  {
   "cell_type": "markdown",
   "metadata": {},
   "source": [
    "Názvy proměnných mohou být krátké (`a`,` x`, `y` atd.) nebo popisné (`moje_oblíbeaná_barva`, `marže`,` tři_mušketýři` atd.). Při pojmenovávání proměnných v Pythonu však musíte dodržovat tato pravidla:\n",
    "\n",
    "* Název proměnné musí začínat písmenem nebo znakem podtržítka `_`. Nemůže začít číslem. \n",
    "* Název proměnné může obsahovat pouze malá nebo velká písmena, číslice nebo podtržítka (`a`-` z`, `A`-`Z`,` 0` -9` a `_` ).\n",
    "* Názvy proměnných rozlišují velká a malá písmena, tj. `proměnná`,` Proměnná` a `PROMĚNNÁ` jsou různé proměnné.\n",
    "\n",
    "Zde jsou některé platné názvy proměnných:"
   ]
  },
  {
   "cell_type": "code",
   "execution_count": 14,
   "metadata": {},
   "outputs": [],
   "source": [
    "proměnná = 23\n",
    "je_dnes_sobota = False\n",
    "moje_oblíbené_auto = \"Delorean\"\n",
    "tři_mušketýři = [\"Athos\", \"Porthos\", \"Aramis\"] "
   ]
  },
  {
   "cell_type": "markdown",
   "metadata": {},
   "source": [
    "Zkusme vytvořit nějaké proměnné s neplatnými názvy. Pokud je název vaší proměnné neplatný, Python vyhodí syntaktickou chybu.\n",
    "\n",
    "> **Syntax**: Syntax programovacího jazyka odkazuje na pravidla, která řídí strukturu platné instrukce nebo *příkazu*. Pokud příkaz tato pravidla nedodržuje, Python zastaví vyhodnocování a informuje vás, že došlo k *syntaktické chybě*. Syntax si můžete představit jako pravidla gramatiky programovacího jazyka."
   ]
  },
  {
   "cell_type": "code",
   "execution_count": null,
   "metadata": {},
   "outputs": [],
   "source": [
    "ta proměnná = 23"
   ]
  },
  {
   "cell_type": "markdown",
   "metadata": {},
   "source": [
    "## Integrované datové typy v Pythonu\n",
    "\n",
    "Veškerá data nebo informace uložené v proměnné Pythonu mají *typ*. Typ dat uložených v proměnné můžete zobrazit pomocí funkce `type`."
   ]
  },
  {
   "cell_type": "code",
   "execution_count": 15,
   "metadata": {},
   "outputs": [
    {
     "data": {
      "text/plain": [
       "9"
      ]
     },
     "execution_count": 15,
     "metadata": {},
     "output_type": "execute_result"
    }
   ],
   "source": [
    "číslo"
   ]
  },
  {
   "cell_type": "code",
   "execution_count": 16,
   "metadata": {},
   "outputs": [
    {
     "data": {
      "text/plain": [
       "int"
      ]
     },
     "execution_count": 16,
     "metadata": {},
     "output_type": "execute_result"
    }
   ],
   "source": [
    "type(číslo)"
   ]
  },
  {
   "cell_type": "code",
   "execution_count": 17,
   "metadata": {},
   "outputs": [
    {
     "data": {
      "text/plain": [
       "bool"
      ]
     },
     "execution_count": 17,
     "metadata": {},
     "output_type": "execute_result"
    }
   ],
   "source": [
    "type(je_dnes_sobota)"
   ]
  },
  {
   "cell_type": "code",
   "execution_count": 18,
   "metadata": {},
   "outputs": [
    {
     "data": {
      "text/plain": [
       "str"
      ]
     },
     "execution_count": 18,
     "metadata": {},
     "output_type": "execute_result"
    }
   ],
   "source": [
    "type(moje_oblíbené_auto)"
   ]
  },
  {
   "cell_type": "code",
   "execution_count": 19,
   "metadata": {},
   "outputs": [
    {
     "data": {
      "text/plain": [
       "list"
      ]
     },
     "execution_count": 19,
     "metadata": {},
     "output_type": "execute_result"
    }
   ],
   "source": [
    "type(tři_mušketýři)"
   ]
  },
  {
   "cell_type": "markdown",
   "metadata": {},
   "source": [
    "Python má několik předdefinovaných datových typů pro ukládání různých druhů informací do proměnných. Následuje několik běžně používaných datových typů:\n",
    "\n",
    "1. Integer\n",
    "2. Float\n",
    "3. Boolean\n",
    "4. None\n",
    "5. String\n",
    "6. List\n",
    "7. Tuple\n",
    "8. Dictionary\n",
    "\n",
    "Integer, float, boolean, None, a string jsou *primitivní datové typy*, protože představují jedinou hodnotu. Ostatní datové typy jako list, tuple, a slovník se nazývají *datové struktury* nebo *kontejnery*, protože obsahují mnoho částí dat."
   ]
  },
  {
   "cell_type": "markdown",
   "metadata": {},
   "source": [
    "### Integer\n",
    "\n",
    "Integer představuje kladná nebo záporná celá čísla od záporného nekonečna do nekonečna. Všimněte si, že celá čísla by neměla zahrnovat desetinná místa. Celá čísla mají typ `int`."
   ]
  },
  {
   "cell_type": "code",
   "execution_count": null,
   "metadata": {},
   "outputs": [],
   "source": [
    "aktuální_rok = 2021"
   ]
  },
  {
   "cell_type": "code",
   "execution_count": null,
   "metadata": {},
   "outputs": [],
   "source": [
    "type(aktuální_rok)"
   ]
  },
  {
   "cell_type": "markdown",
   "metadata": {},
   "source": [
    "### Float\n",
    "\n",
    "Float jsou čísla s desetinnou čárkou. Neexistují žádná omezení týkající se hodnoty nebo počtu číslic před nebo za desetinnou čárkou. Čísla s desetinnou čárkou mají typ `float`."
   ]
  },
  {
   "cell_type": "code",
   "execution_count": null,
   "metadata": {},
   "outputs": [],
   "source": [
    "pi = 3.141592653589793238"
   ]
  },
  {
   "cell_type": "code",
   "execution_count": null,
   "metadata": {},
   "outputs": [],
   "source": [
    "type(pi)"
   ]
  },
  {
   "cell_type": "markdown",
   "metadata": {},
   "source": [
    "Všimněte si, že celé číslo je považováno za `float`, pokud je zapsáno s desetinnou čárkou, přestože desetinná část čísla je nula."
   ]
  },
  {
   "cell_type": "code",
   "execution_count": null,
   "metadata": {},
   "outputs": [],
   "source": [
    "číslo = 3.0"
   ]
  },
  {
   "cell_type": "code",
   "execution_count": null,
   "metadata": {},
   "outputs": [],
   "source": [
    "type(číslo)"
   ]
  },
  {
   "cell_type": "markdown",
   "metadata": {},
   "source": [
    "Čísla s desetinnou čárkou lze také psát pomocí vědecké notace s písmenem „e“ pro označení mocniny."
   ]
  },
  {
   "cell_type": "code",
   "execution_count": null,
   "metadata": {},
   "outputs": [],
   "source": [
    "setina = 1e-2"
   ]
  },
  {
   "cell_type": "code",
   "execution_count": null,
   "metadata": {},
   "outputs": [],
   "source": [
    "type(setina)"
   ]
  },
  {
   "cell_type": "code",
   "execution_count": null,
   "metadata": {},
   "outputs": [],
   "source": [
    "print(setina)"
   ]
  },
  {
   "cell_type": "markdown",
   "metadata": {},
   "source": [
    "Float můžete převést na integer a naopak pomocí funkcí `float` a` int`. Operace převodu jednoho typu hodnoty na jiný se nazývá casting."
   ]
  },
  {
   "cell_type": "code",
   "execution_count": null,
   "metadata": {},
   "outputs": [],
   "source": [
    "float(aktuální_rok)"
   ]
  },
  {
   "cell_type": "code",
   "execution_count": null,
   "metadata": {},
   "outputs": [],
   "source": [
    "int(pi)"
   ]
  },
  {
   "cell_type": "markdown",
   "metadata": {},
   "source": [
    "### Boolean\n",
    "\n",
    "Bool hodnoty představují jednu ze 2 hodnot: `True` a` False`. Bool hodnoty mají typ `bool`.\n",
    "\n",
    "Bool hodnoty jsou obecně výsledkem srovnávací operace, např. `==`, `> =` atd.\n",
    "\n",
    "Bool hodnoty se při použití v aritmetických operacích automaticky převedou na hodnotu `int`. `True` se převede na` 1` a `False` se převede na` 0`."
   ]
  },
  {
   "cell_type": "code",
   "execution_count": null,
   "metadata": {},
   "outputs": [],
   "source": [
    "je_dnes_sobota"
   ]
  },
  {
   "cell_type": "code",
   "execution_count": null,
   "metadata": {},
   "outputs": [],
   "source": [
    "5 + je_dnes_sobota"
   ]
  },
  {
   "cell_type": "code",
   "execution_count": null,
   "metadata": {},
   "outputs": [],
   "source": [
    "3 + True"
   ]
  },
  {
   "cell_type": "markdown",
   "metadata": {},
   "source": [
    "### None\n",
    "\n",
    "Typ None obsahuje jednu hodnotu `None`, která se používá k označení nepřítomnosti hodnoty. `None` má typ` NoneType`. Často se používá k deklaraci proměnné, jejíž hodnotu lze přiřadit později."
   ]
  },
  {
   "cell_type": "code",
   "execution_count": null,
   "metadata": {},
   "outputs": [],
   "source": [
    "nic = None"
   ]
  },
  {
   "cell_type": "code",
   "execution_count": null,
   "metadata": {},
   "outputs": [],
   "source": [
    "type(nic)"
   ]
  },
  {
   "cell_type": "markdown",
   "metadata": {},
   "source": [
    "### String\n",
    "\n",
    "String se používá k reprezentaci textu v Pythonu. String musí být obklopen uvozovkami (jednoduchá uvozovka '' nebo dvojitá uvozovka \"\"). String má typ `string`."
   ]
  },
  {
   "cell_type": "code",
   "execution_count": null,
   "metadata": {},
   "outputs": [],
   "source": [
    "dnes = \"Sobota\""
   ]
  },
  {
   "cell_type": "code",
   "execution_count": null,
   "metadata": {},
   "outputs": [],
   "source": [
    "type(dnes)"
   ]
  },
  {
   "cell_type": "markdown",
   "metadata": {},
   "source": [
    "Jednoduché uvozovky můžete použít uvnitř stringu napsaného dvojitými uvozovkami a naopak."
   ]
  },
  {
   "cell_type": "code",
   "execution_count": null,
   "metadata": {},
   "outputs": [],
   "source": [
    "oblíbený_film = \"Vykoupení z věznice Shawshank\""
   ]
  },
  {
   "cell_type": "markdown",
   "metadata": {},
   "source": [
    "Délku stringu můžete zkontrolovat pomocí funkce `len`."
   ]
  },
  {
   "cell_type": "code",
   "execution_count": null,
   "metadata": {},
   "outputs": [],
   "source": [
    "len(oblíbený_film)"
   ]
  },
  {
   "cell_type": "markdown",
   "metadata": {},
   "source": [
    "Řetězce také podporují několik operací se seznamy, které jsou popsány v další části. Podíváme se zde na několik příkladů.\n",
    "\n",
    "K jednotlivým znakům v řetězci můžete přistupovat pomocí indexovací notace `[]`. Všimněte si, že indexy znaků se pohybují od `0` do` n-1`, kde `n` je délka řetězce.\n",
    "\n",
    "K části stringu můžete přistupovat pomocí zadání rozsahu `start : end` namísto jediného indexu v` [] `.\n",
    "\n",
    "Můžete také zkontrolovat, zda string obsahuje nějaký text, pomocí operátoru `in`."
   ]
  },
  {
   "cell_type": "code",
   "execution_count": null,
   "metadata": {},
   "outputs": [],
   "source": [
    "dnes"
   ]
  },
  {
   "cell_type": "code",
   "execution_count": null,
   "metadata": {},
   "outputs": [],
   "source": [
    "dnes[0]"
   ]
  },
  {
   "cell_type": "code",
   "execution_count": null,
   "metadata": {},
   "outputs": [],
   "source": [
    "dnes[1:3]"
   ]
  },
  {
   "cell_type": "code",
   "execution_count": null,
   "metadata": {},
   "outputs": [],
   "source": [
    "\"ob\" in dnes"
   ]
  },
  {
   "cell_type": "markdown",
   "metadata": {},
   "source": [
    "Dva nebo více stringů lze spojit nebo *konkatinovat* pomocí operátoru `+`. Při spojování stringů buďte opatrní, někdy budete muset přidat mezi slova znak mezery \"\" \"\"."
   ]
  },
  {
   "cell_type": "code",
   "execution_count": null,
   "metadata": {},
   "outputs": [],
   "source": [
    "jméno = \"Adam\""
   ]
  },
  {
   "cell_type": "code",
   "execution_count": null,
   "metadata": {},
   "outputs": [],
   "source": [
    "příjmení = \"Andronikidis\""
   ]
  },
  {
   "cell_type": "code",
   "execution_count": null,
   "metadata": {},
   "outputs": [],
   "source": [
    "jméno + \" \" + příjmení"
   ]
  },
  {
   "cell_type": "markdown",
   "metadata": {},
   "source": [
    "Stringy v Pythonu mají mnoho vestavěných *metod*, které se používají k jejich manipulaci. Vyzkoušejme si několik běžných string metod.\n",
    "\n",
    "> **Metody**: Metody jsou funkce spojené s datovými typy a jsou přístupné pomocí notace `.` např. `název_ proměnné.metoda()` nebo `\"string\".metoda()`. Metody jsou efektivním způsobem přidružení běžných operací k hodnotám konkrétních datových typů.\n",
    "\n",
    "Metody `.lower()`, `.upper()` a `.capitalize()` se používají ke změně velikosti písmen znaků."
   ]
  },
  {
   "cell_type": "code",
   "execution_count": null,
   "metadata": {},
   "outputs": [],
   "source": [
    "dnes.lower()"
   ]
  },
  {
   "cell_type": "code",
   "execution_count": null,
   "metadata": {},
   "outputs": [],
   "source": [
    "dnes.capitalize()"
   ]
  },
  {
   "cell_type": "code",
   "execution_count": null,
   "metadata": {},
   "outputs": [],
   "source": [
    "dnes.upper()"
   ]
  },
  {
   "cell_type": "markdown",
   "metadata": {},
   "source": [
    "### Seznamy\n",
    "\n",
    "Seznam v Pythonu je uspořádaná kolekce hodnot. Seznamy mohou obsahovat hodnoty různých datových typů a podporovat operace pro přidávání, odebírání a změnu hodnot. Seznamy mají typ `list`.\n",
    "\n",
    "Chcete-li vytvořit seznam, uzavřete posloupnost hodnot do hranatých závorek „[`  `]“  a oddělte je čárkami."
   ]
  },
  {
   "cell_type": "code",
   "execution_count": null,
   "metadata": {},
   "outputs": [],
   "source": [
    "ovoce = [\"jablko\", \"banán\", \"jahoda\"]"
   ]
  },
  {
   "cell_type": "code",
   "execution_count": null,
   "metadata": {},
   "outputs": [],
   "source": [
    "ovoce"
   ]
  },
  {
   "cell_type": "code",
   "execution_count": null,
   "metadata": {},
   "outputs": [],
   "source": [
    "list_vzor = [23, 'Ahoj', None, 3.14, ovoce, 3 <= 5]"
   ]
  },
  {
   "cell_type": "code",
   "execution_count": null,
   "metadata": {},
   "outputs": [],
   "source": [
    "list_vzor"
   ]
  },
  {
   "cell_type": "code",
   "execution_count": null,
   "metadata": {},
   "outputs": [],
   "source": [
    "prazdný_list = []"
   ]
  },
  {
   "cell_type": "code",
   "execution_count": null,
   "metadata": {},
   "outputs": [],
   "source": [
    "prazdný_list"
   ]
  },
  {
   "cell_type": "markdown",
   "metadata": {},
   "source": [
    "Chcete-li určit počet hodnot v seznamu, použijte funkci `len`. Pomocí `len` můžete určit počet hodnot v několika dalších datových typech."
   ]
  },
  {
   "cell_type": "code",
   "execution_count": null,
   "metadata": {},
   "outputs": [],
   "source": [
    "len(ovoce)"
   ]
  },
  {
   "cell_type": "markdown",
   "metadata": {},
   "source": [
    "K prvku ze seznamu můžete přistupovat pomocí jeho *indexu*, např. `Ovoce[2]` vrací prvek v indexu 2 v seznamu `ovoce`. Počáteční index seznamu je 0.\n",
    "\n",
    "Záporné indexy můžete použít pro přístup k prvkům od konce seznamu, např. `Ovoce[-1]` vrací poslední prvek, `ovoce[-2]` vrací předposlední prvek atd.\n",
    "\n",
    "Pokud se pokusíte získat přístup k indexu rovnému nebo vyššímu než je délka seznamu, vrátí Python chybu `IndexError`.\n",
    "\n",
    "Ze seznamu můžete také přistupovat k řadě hodnot. Výstupem je sám o sobě seznam."
   ]
  },
  {
   "cell_type": "code",
   "execution_count": null,
   "metadata": {},
   "outputs": [],
   "source": [
    "ovoce[0]"
   ]
  },
  {
   "cell_type": "code",
   "execution_count": null,
   "metadata": {},
   "outputs": [],
   "source": [
    "ovoce[3]"
   ]
  },
  {
   "cell_type": "code",
   "execution_count": null,
   "metadata": {},
   "outputs": [],
   "source": [
    "list_vzor"
   ]
  },
  {
   "cell_type": "code",
   "execution_count": null,
   "metadata": {},
   "outputs": [],
   "source": [
    "list_vzor[2:5]"
   ]
  },
  {
   "cell_type": "markdown",
   "metadata": {},
   "source": [
    "Všimněte si, že rozsah `2:5` zahrnuje prvek na počátečním indexu `2`, ale nezahrnuje prvek na koncovém indexu `5`. Výsledek má tedy 3 hodnoty (index `2`,`3` a `4`).\n",
    "\n",
    "## Cvičení\n",
    "\n",
    "Zde je několik experimentů, které byste měli vyzkoušet (použijte prázdné buňky níže):\n",
    "\n",
    "* Zkuste nastavit jeden nebo oba indexy rozsahu, které jsou větší než velikost seznamu, např. `list[2:10]`\n",
    "* Zkuste nastavit počáteční index větší než koncový index, např, `list[3:1]`\n",
    "* Zkuste vynechat počáteční nebo koncový index rozsahu, např, `list[2:]` nebo `list[:5]`\n",
    "* Vyzkoušejte záporné indexy, např, `list[-2:-5]` nebo `list[-5:-2]` (Dokážete popsat výsledky?)\n",
    "\n",
    "> Flexibilní a interaktivní povaha notebooků Jupyter z nich dělá vynikající nástroj pro učení a experimentování. Pokud jste v Pythonu nováčky, můžete většinu otázek vyřešit, jakmile se objeví, jednoduše zadáním kódu do buňky a jeho spuštěním."
   ]
  },
  {
   "cell_type": "code",
   "execution_count": null,
   "metadata": {},
   "outputs": [],
   "source": []
  },
  {
   "cell_type": "code",
   "execution_count": null,
   "metadata": {},
   "outputs": [],
   "source": []
  },
  {
   "cell_type": "code",
   "execution_count": null,
   "metadata": {},
   "outputs": [],
   "source": []
  },
  {
   "cell_type": "markdown",
   "metadata": {},
   "source": [
    "Můžete také změnit hodnotu u konkrétního indexu v seznamu pomocí operace přiřazení."
   ]
  },
  {
   "cell_type": "code",
   "execution_count": null,
   "metadata": {},
   "outputs": [],
   "source": [
    "ovoce"
   ]
  },
  {
   "cell_type": "code",
   "execution_count": null,
   "metadata": {},
   "outputs": [],
   "source": [
    "ovoce[0] = \"borůvky\""
   ]
  },
  {
   "cell_type": "code",
   "execution_count": null,
   "metadata": {},
   "outputs": [],
   "source": [
    "ovoce"
   ]
  },
  {
   "cell_type": "markdown",
   "metadata": {},
   "source": [
    "Na konec seznamu lze pomocí metody `append` přidat novou hodnotu.\n",
    "\n",
    "Novou hodnotu lze také vložit na určitý index pomocí metody `insert`.\n",
    "\n",
    "Hodnotu ze seznamu můžete odebrat pomocí metody `remove`."
   ]
  },
  {
   "cell_type": "code",
   "execution_count": null,
   "metadata": {},
   "outputs": [],
   "source": [
    "ovoce.append('datle')"
   ]
  },
  {
   "cell_type": "code",
   "execution_count": null,
   "metadata": {},
   "outputs": [],
   "source": [
    "ovoce"
   ]
  },
  {
   "cell_type": "code",
   "execution_count": null,
   "metadata": {},
   "outputs": [],
   "source": [
    "ovoce.insert(1, \"kiwi\")"
   ]
  },
  {
   "cell_type": "code",
   "execution_count": null,
   "metadata": {},
   "outputs": [],
   "source": [
    "ovoce"
   ]
  },
  {
   "cell_type": "code",
   "execution_count": null,
   "metadata": {},
   "outputs": [],
   "source": [
    "ovoce.remove(\"kiwi\")"
   ]
  },
  {
   "cell_type": "code",
   "execution_count": null,
   "metadata": {},
   "outputs": [],
   "source": [
    "ovoce"
   ]
  },
  {
   "cell_type": "markdown",
   "metadata": {},
   "source": [
    "Co se stane, pokud má seznam více instancí hodnoty předané jako vstup do metody `.remove`? Vyzkoušejte si to."
   ]
  },
  {
   "cell_type": "code",
   "execution_count": null,
   "metadata": {},
   "outputs": [],
   "source": []
  },
  {
   "cell_type": "code",
   "execution_count": null,
   "metadata": {},
   "outputs": [],
   "source": []
  },
  {
   "cell_type": "markdown",
   "metadata": {},
   "source": [
    "Chcete-li odebrat prvek ze specifického indexu, použijte metodu `pop`. Metoda také vrátí odebraný prvek.\n",
    "\n",
    "Pokud není poskytnut žádný index, metoda `pop` odstraní poslední prvek seznamu."
   ]
  },
  {
   "cell_type": "code",
   "execution_count": null,
   "metadata": {},
   "outputs": [],
   "source": [
    "jahoda = ovoce.pop(2)"
   ]
  },
  {
   "cell_type": "code",
   "execution_count": null,
   "metadata": {},
   "outputs": [],
   "source": [
    "jahoda"
   ]
  },
  {
   "cell_type": "markdown",
   "metadata": {},
   "source": [
    "Pomocí operátoru `in` můžete otestovat, zda seznam obsahuje hodnotu.\n",
    "\n",
    "Chcete-li zkombinovat dva nebo více seznamů, použijte operátor `+`. Tato operace se také nazývá *konkatinace*."
   ]
  },
  {
   "cell_type": "code",
   "execution_count": null,
   "metadata": {},
   "outputs": [],
   "source": [
    "ovoce"
   ]
  },
  {
   "cell_type": "code",
   "execution_count": null,
   "metadata": {},
   "outputs": [],
   "source": [
    "ovoce2 = [\"pomeranč\", \"švestky\"]"
   ]
  },
  {
   "cell_type": "code",
   "execution_count": null,
   "metadata": {},
   "outputs": [],
   "source": [
    "ovoce = ovoce + ovoce2 + [\"mango\", \"mandarinka\"]"
   ]
  },
  {
   "cell_type": "code",
   "execution_count": null,
   "metadata": {},
   "outputs": [],
   "source": [
    "ovoce"
   ]
  },
  {
   "cell_type": "markdown",
   "metadata": {},
   "source": [
    "Chcete-li vytvořit kopii seznamu, použijte metodu `copy`. Úpravy kopírovaného seznamu neovlivní originál."
   ]
  },
  {
   "cell_type": "code",
   "execution_count": null,
   "metadata": {},
   "outputs": [],
   "source": [
    "ovoce_kopie = ovoce.copy()\n",
    "ovoce_kopie"
   ]
  },
  {
   "cell_type": "code",
   "execution_count": null,
   "metadata": {},
   "outputs": [],
   "source": [
    "ovoce"
   ]
  },
  {
   "cell_type": "code",
   "execution_count": null,
   "metadata": {},
   "outputs": [],
   "source": [
    "ovoce_kopie.pop()"
   ]
  },
  {
   "cell_type": "code",
   "execution_count": null,
   "metadata": {},
   "outputs": [],
   "source": [
    "print(ovoce_kopie)\n",
    "print(ovoce)"
   ]
  },
  {
   "cell_type": "markdown",
   "metadata": {},
   "source": [
    "Stejně jako stringy existuje několik zabudovaných metod pro manipulaci se seznamem. Na rozdíl od stringů však většina metod seznamu spíše upravuje seznam původní, než aby vracela nový.\n",
    "\n",
    "## Cvičení\n",
    "\n",
    "Následuje několik cvičení, která si můžete vyzkoušet pomocí metod seznamu (použijte níže uvedené prázdné buňky kódu):\n",
    "\n",
    "* Obraťte pořadí prvků v seznamu ( `.reverse()` )\n",
    "* Přidejte prvky jednoho seznamu na konec jiného seznamu ( `.extend()` )\n",
    "* Seřaďte seznam stringů podle abecedy ( `.sort()` )\n",
    "* Seřaďte seznam čísel v sestupném pořadí ( `.sort()` )"
   ]
  },
  {
   "cell_type": "code",
   "execution_count": null,
   "metadata": {},
   "outputs": [],
   "source": []
  },
  {
   "cell_type": "code",
   "execution_count": null,
   "metadata": {},
   "outputs": [],
   "source": []
  },
  {
   "cell_type": "code",
   "execution_count": null,
   "metadata": {},
   "outputs": [],
   "source": []
  },
  {
   "cell_type": "markdown",
   "metadata": {},
   "source": [
    "### Tuple\n",
    "\n",
    "Tuple je uspořádaná kolekce hodnot podobná seznamu. Oproti seznamu tu však není možné hodnoty přidat, odebrat nebo upravit. Tuple je vytvořena uzavřením hodnot v závorkách `(` a `)` oddělených čárkami.\n",
    "\n",
    "> Jakákoli datová struktura, kterou nelze po vytvoření upravit, se nazývá *immutable (neměnná)*. Tuple si můžete představit jako neměnný seznam."
   ]
  },
  {
   "cell_type": "code",
   "execution_count": null,
   "metadata": {},
   "outputs": [],
   "source": [
    "ovoce = (\"jablko\", \"kiwi\", \"pomeranč\")"
   ]
  },
  {
   "cell_type": "code",
   "execution_count": null,
   "metadata": {},
   "outputs": [],
   "source": [
    "len(ovoce)"
   ]
  },
  {
   "cell_type": "code",
   "execution_count": null,
   "metadata": {},
   "outputs": [],
   "source": [
    "print(ovoce[0])\n",
    "print(ovoce[-2])"
   ]
  },
  {
   "cell_type": "code",
   "execution_count": null,
   "metadata": {},
   "outputs": [],
   "source": [
    "\"datle\" in ovoce"
   ]
  },
  {
   "cell_type": "code",
   "execution_count": null,
   "metadata": {},
   "outputs": [],
   "source": [
    "ovoce[0] = \"avokádo\""
   ]
  },
  {
   "cell_type": "markdown",
   "metadata": {},
   "source": [
    "Tuple se často používá k vytvoření více proměnných pomocí jediného příkazu."
   ]
  },
  {
   "cell_type": "code",
   "execution_count": null,
   "metadata": {},
   "outputs": [],
   "source": [
    "bod = (3 , 4, 7)"
   ]
  },
  {
   "cell_type": "code",
   "execution_count": null,
   "metadata": {},
   "outputs": [],
   "source": [
    "souřadnice_x, souřadnice_y, souřadnice_z = bod"
   ]
  },
  {
   "cell_type": "code",
   "execution_count": null,
   "metadata": {},
   "outputs": [],
   "source": [
    "souřadnice_x"
   ]
  },
  {
   "cell_type": "markdown",
   "metadata": {},
   "source": [
    "Seznam můžete převést na tuple pomocí funkce `tuple` a naopak tuple na seznam pomocí funkce `list`."
   ]
  },
  {
   "cell_type": "code",
   "execution_count": null,
   "metadata": {},
   "outputs": [],
   "source": [
    "tuple_čísla = tuple([\"jedna\", \"dvě\", \"tři\"])\n",
    "print(tuple_čísla)"
   ]
  },
  {
   "cell_type": "code",
   "execution_count": null,
   "metadata": {},
   "outputs": [],
   "source": [
    "list(('Athos', 'Porthos', 'Aramis'))"
   ]
  },
  {
   "cell_type": "markdown",
   "metadata": {},
   "source": [
    "Tuple má pouze dvě předdefinované metody: `count` a`index`."
   ]
  },
  {
   "cell_type": "code",
   "execution_count": null,
   "metadata": {},
   "outputs": [],
   "source": [
    "tuple_čísla.count(\"jedna\")"
   ]
  },
  {
   "cell_type": "code",
   "execution_count": null,
   "metadata": {},
   "outputs": [],
   "source": [
    "tuple_čísla.index(\"tři\")"
   ]
  },
  {
   "cell_type": "markdown",
   "metadata": {},
   "source": [
    "### Slovníky\n",
    "\n",
    "Slovník je neuspořádaná sbírka položek. Každá položka uložená ve slovníku má klíč a hodnotu. Klíč můžete použít k načtení odpovídající hodnoty ze slovníku. Slovníky mají typ `dict`.\n",
    "\n",
    "Slovníky se často používají k ukládání mnoha informací, např. podrobností o osobě, v jedné proměnné. Slovníky se vytvářejí uzavřením dvojic klíč – hodnota do složených závorek `{` a `}`."
   ]
  },
  {
   "cell_type": "code",
   "execution_count": null,
   "metadata": {},
   "outputs": [],
   "source": [
    "osoba1 = {\n",
    "    'jméno': 'Jan Novák',\n",
    "    'pohlaví': 'Muž',\n",
    "    'věk': 32,\n",
    "}"
   ]
  },
  {
   "cell_type": "code",
   "execution_count": null,
   "metadata": {},
   "outputs": [],
   "source": [
    "osoba1"
   ]
  },
  {
   "cell_type": "markdown",
   "metadata": {},
   "source": [
    "Slovníky lze také vytvářet pomocí funkce `dict`.\n",
    "\n",
    "Klíče lze použít pro přístup k hodnotám v hranatých závorkách `[` a `]`."
   ]
  },
  {
   "cell_type": "code",
   "execution_count": null,
   "metadata": {},
   "outputs": [],
   "source": [
    "osoba2 = dict(jméno='Jana Nováková', pohlaví='Žena', věk=28)"
   ]
  },
  {
   "cell_type": "code",
   "execution_count": null,
   "metadata": {},
   "outputs": [],
   "source": [
    "osoba1[\"jméno\"]"
   ]
  },
  {
   "cell_type": "markdown",
   "metadata": {},
   "source": [
    "Pro přístup k hodnotě spojené s klíčem můžete také použít metodu `get`.\n",
    "\n",
    "Metoda `get` také přijímá výchozí hodnotu, která se vrátí, pokud klíč není ve slovníku."
   ]
  },
  {
   "cell_type": "code",
   "execution_count": null,
   "metadata": {},
   "outputs": [],
   "source": [
    "osoba2.get(\"jméno\")"
   ]
  },
  {
   "cell_type": "code",
   "execution_count": null,
   "metadata": {},
   "outputs": [],
   "source": [
    "osoba2.get(\"adresa\" , \"Neznámá\")"
   ]
  },
  {
   "cell_type": "markdown",
   "metadata": {},
   "source": [
    "Pomocí operátoru `in` můžete zkontrolovat, zda je klíč ve slovníku."
   ]
  },
  {
   "cell_type": "code",
   "execution_count": null,
   "metadata": {},
   "outputs": [],
   "source": [
    "\"jméno\" in osoba1"
   ]
  },
  {
   "cell_type": "markdown",
   "metadata": {},
   "source": [
    "Hodnotu přidruženou ke klíči můžete změnit pomocí operátoru přiřazení."
   ]
  },
  {
   "cell_type": "code",
   "execution_count": null,
   "metadata": {},
   "outputs": [],
   "source": [
    "osoba2"
   ]
  },
  {
   "cell_type": "code",
   "execution_count": null,
   "metadata": {},
   "outputs": [],
   "source": [
    "osoba2[\"věk\"] = 29"
   ]
  },
  {
   "cell_type": "code",
   "execution_count": null,
   "metadata": {},
   "outputs": [],
   "source": [
    "osoba2"
   ]
  },
  {
   "cell_type": "markdown",
   "metadata": {},
   "source": [
    "Operátor přiřazení lze také použít k přidání nových párů klíč – hodnota do slovníku."
   ]
  },
  {
   "cell_type": "code",
   "execution_count": null,
   "metadata": {},
   "outputs": [],
   "source": [
    "osoba1['adresa'] = 'V Kotcích 528/2, 110 00 Staré Město'"
   ]
  },
  {
   "cell_type": "code",
   "execution_count": null,
   "metadata": {},
   "outputs": [],
   "source": [
    "osoba1"
   ]
  },
  {
   "cell_type": "markdown",
   "metadata": {},
   "source": [
    "Slovníky také poskytují metody pro zobrazení klíčů, hodnot nebo párů klíč – hodnota v seznamu."
   ]
  },
  {
   "cell_type": "code",
   "execution_count": null,
   "metadata": {},
   "outputs": [],
   "source": [
    "osoba1.values()"
   ]
  },
  {
   "cell_type": "code",
   "execution_count": null,
   "metadata": {},
   "outputs": [],
   "source": [
    "osoba1.keys()"
   ]
  },
  {
   "cell_type": "code",
   "execution_count": null,
   "metadata": {},
   "outputs": [],
   "source": [
    "osoba1.items()"
   ]
  },
  {
   "cell_type": "code",
   "execution_count": null,
   "metadata": {},
   "outputs": [],
   "source": [
    "osoba1.items()[1]"
   ]
  },
  {
   "cell_type": "markdown",
   "metadata": {},
   "source": [
    "Výsledky `keys`, `values`, a `items` vypadají jako seznamy. Nepodporují však operátor indexování `[]` pro načítání prvků.\n",
    "\n",
    "Dokážete z těchto výsledků zjistit, jak získat přístup k prvku na určitém indexu? Zkuste to níže. *Tip: Použijte funkci `list`*"
   ]
  },
  {
   "cell_type": "code",
   "execution_count": null,
   "metadata": {},
   "outputs": [],
   "source": []
  },
  {
   "cell_type": "code",
   "execution_count": null,
   "metadata": {},
   "outputs": [],
   "source": []
  },
  {
   "cell_type": "markdown",
   "metadata": {},
   "source": [
    "## Cvičení\n",
    "\n",
    "Zde je několik experimentů, které můžete vyzkoušet se slovníky (použijte prázdné buňky níže):\n",
    "\n",
    "* Co se stane, když při vytváření slovníku použijete stejný klíč vícekrát?\n",
    "* Jak můžete vytvořit kopii slovníku (úprava kopie by neměla změnit originál)?\n",
    "* Může být hodnota přidružená k samotnému klíči slovník?\n",
    "* Jak můžete přidat páry klíč – hodnota z jednoho slovníku do slovníku jiného? Tip: podívejte se na metodu `update`.\n",
    "* Mohou klíče slovníku být něco jiného než stringy, např. číslo, logická hodnota, seznam atd.?"
   ]
  },
  {
   "cell_type": "code",
   "execution_count": null,
   "metadata": {},
   "outputs": [],
   "source": [
    "rok = 2021 # Integer\n",
    "pi = 3.14 # Float\n",
    "je_sobota = False # Boolean\n",
    "nic = None # N\n",
    "jméno = \"Adam\""
   ]
  },
  {
   "cell_type": "code",
   "execution_count": 20,
   "metadata": {},
   "outputs": [],
   "source": [
    "list_ovoce = [\"Jablko\", \"Pomeranč\", \"Hruška\", \"Jahoda\"] # Vytvoření seznamu\n",
    "tuple_ovoce = (\"Jablko\", \"Pomeranč\", \"Hruška\", \"Jahoda\") # Vytvoření tuplu\n",
    "# Vytvoření slovníku\n",
    "osoba1 = {\n",
    "    'jméno': 'Jan Novák',\n",
    "    'pohlaví': 'Muž',\n",
    "    'věk': 32,\n",
    "}"
   ]
  },
  {
   "cell_type": "code",
   "execution_count": null,
   "metadata": {},
   "outputs": [],
   "source": []
  },
  {
   "cell_type": "code",
   "execution_count": null,
   "metadata": {},
   "outputs": [],
   "source": []
  }
 ],
 "metadata": {
  "kernelspec": {
   "display_name": "Python 3",
   "language": "python",
   "name": "python3"
  },
  "language_info": {
   "codemirror_mode": {
    "name": "ipython",
    "version": 3
   },
   "file_extension": ".py",
   "mimetype": "text/x-python",
   "name": "python",
   "nbconvert_exporter": "python",
   "pygments_lexer": "ipython3",
   "version": "3.8.3"
  }
 },
 "nbformat": 4,
 "nbformat_minor": 4
}
